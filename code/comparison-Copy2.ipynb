{
 "cells": [
  {
   "cell_type": "code",
   "execution_count": 1,
   "id": "8f727d39-39ee-488a-b3e4-0b8e703baeee",
   "metadata": {
    "tags": []
   },
   "outputs": [
    {
     "name": "stdout",
     "output_type": "stream",
     "text": [
      "Collecting matplotlib\n",
      "  Downloading matplotlib-3.9.1.post1-cp310-cp310-manylinux_2_17_x86_64.manylinux2014_x86_64.whl (8.3 MB)\n",
      "\u001b[2K     \u001b[90m━━━━━━━━━━━━━━━━━━━━━━━━━━━━━━━━━━━━━━━━\u001b[0m \u001b[32m8.3/8.3 MB\u001b[0m \u001b[31m62.6 MB/s\u001b[0m eta \u001b[36m0:00:00\u001b[0m00:01\u001b[0m00:01\u001b[0m\n",
      "\u001b[?25hCollecting contourpy>=1.0.1 (from matplotlib)\n",
      "  Downloading contourpy-1.2.1-cp310-cp310-manylinux_2_17_x86_64.manylinux2014_x86_64.whl (305 kB)\n",
      "\u001b[2K     \u001b[90m━━━━━━━━━━━━━━━━━━━━━━━━━━━━━━━━━━━━━━\u001b[0m \u001b[32m305.2/305.2 kB\u001b[0m \u001b[31m48.7 MB/s\u001b[0m eta \u001b[36m0:00:00\u001b[0m\n",
      "\u001b[?25hCollecting cycler>=0.10 (from matplotlib)\n",
      "  Downloading cycler-0.12.1-py3-none-any.whl (8.3 kB)\n",
      "Collecting fonttools>=4.22.0 (from matplotlib)\n",
      "  Downloading fonttools-4.53.1-cp310-cp310-manylinux_2_17_x86_64.manylinux2014_x86_64.whl (4.6 MB)\n",
      "\u001b[2K     \u001b[90m━━━━━━━━━━━━━━━━━━━━━━━━━━━━━━━━━━━━━━━━\u001b[0m \u001b[32m4.6/4.6 MB\u001b[0m \u001b[31m76.1 MB/s\u001b[0m eta \u001b[36m0:00:00\u001b[0m:00:01\u001b[0m\n",
      "\u001b[?25hCollecting kiwisolver>=1.3.1 (from matplotlib)\n",
      "  Downloading kiwisolver-1.4.5-cp310-cp310-manylinux_2_12_x86_64.manylinux2010_x86_64.whl (1.6 MB)\n",
      "\u001b[2K     \u001b[90m━━━━━━━━━━━━━━━━━━━━━━━━━━━━━━━━━━━━━━━━\u001b[0m \u001b[32m1.6/1.6 MB\u001b[0m \u001b[31m106.7 MB/s\u001b[0m eta \u001b[36m0:00:00\u001b[0m\n",
      "\u001b[?25hRequirement already satisfied: numpy>=1.23 in /opt/conda/lib/python3.10/site-packages (from matplotlib) (1.26.4)\n",
      "Requirement already satisfied: packaging>=20.0 in /opt/conda/lib/python3.10/site-packages (from matplotlib) (23.1)\n",
      "Collecting pillow>=8 (from matplotlib)\n",
      "  Downloading pillow-10.4.0-cp310-cp310-manylinux_2_28_x86_64.whl (4.5 MB)\n",
      "\u001b[2K     \u001b[90m━━━━━━━━━━━━━━━━━━━━━━━━━━━━━━━━━━━━━━━━\u001b[0m \u001b[32m4.5/4.5 MB\u001b[0m \u001b[31m118.3 MB/s\u001b[0m eta \u001b[36m0:00:00\u001b[0m00:01\u001b[0m\n",
      "\u001b[?25hCollecting pyparsing>=2.3.1 (from matplotlib)\n",
      "  Downloading pyparsing-3.1.2-py3-none-any.whl (103 kB)\n",
      "\u001b[2K     \u001b[90m━━━━━━━━━━━━━━━━━━━━━━━━━━━━━━━━━━━━━━\u001b[0m \u001b[32m103.2/103.2 kB\u001b[0m \u001b[31m28.2 MB/s\u001b[0m eta \u001b[36m0:00:00\u001b[0m\n",
      "\u001b[?25hRequirement already satisfied: python-dateutil>=2.7 in /opt/conda/lib/python3.10/site-packages (from matplotlib) (2.8.2)\n",
      "Requirement already satisfied: six>=1.5 in /opt/conda/lib/python3.10/site-packages (from python-dateutil>=2.7->matplotlib) (1.16.0)\n",
      "Installing collected packages: pyparsing, pillow, kiwisolver, fonttools, cycler, contourpy, matplotlib\n",
      "Successfully installed contourpy-1.2.1 cycler-0.12.1 fonttools-4.53.1 kiwisolver-1.4.5 matplotlib-3.9.1.post1 pillow-10.4.0 pyparsing-3.1.2\n",
      "\u001b[33mWARNING: Running pip as the 'root' user can result in broken permissions and conflicting behaviour with the system package manager. It is recommended to use a virtual environment instead: https://pip.pypa.io/warnings/venv\u001b[0m\u001b[33m\n",
      "\u001b[0m"
     ]
    }
   ],
   "source": [
    "!pip install matplotlib"
   ]
  },
  {
   "cell_type": "code",
   "execution_count": 8,
   "id": "a4415fb3-5222-45e8-b4c5-bfc7f12b7033",
   "metadata": {
    "tags": []
   },
   "outputs": [],
   "source": [
    "import glob\n",
    "import os\n",
    "from multiprocessing import Pool\n",
    "from pathlib import Path\n",
    "import pickle\n",
    "\n",
    "import h5py\n",
    "from matplotlib.lines import Line2D\n",
    "from matplotlib.patches import Patch\n",
    "import matplotlib.pyplot as plt\n",
    "import numpy as np\n",
    "import pandas as pd\n",
    "from hdmf_zarr import NWBZarrIO\n",
    "\n",
    "import utils.new_preprocess as nwp\n",
    "import utils.nwb_dict_utils as nwb_utils"
   ]
  },
  {
   "cell_type": "code",
   "execution_count": 9,
   "id": "94d00b64-d204-4b24-8b4b-f23c6080e315",
   "metadata": {
    "tags": []
   },
   "outputs": [],
   "source": [
    "# https://pandas.pydata.org/pandas-docs/stable/user_guide/indexing.html#returning-a-view-versus-a-copy\n",
    "pd.options.mode.copy_on_write = True"
   ]
  },
  {
   "cell_type": "code",
   "execution_count": 10,
   "id": "6ede5098-4b56-4d95-b5e4-de45d1050f0c",
   "metadata": {
    "tags": []
   },
   "outputs": [],
   "source": [
    "def RMSE(x,y):\n",
    "    return np.sqrt(np.mean((x-y)**2, -1))\n",
    "\n",
    "def bias(x,y):\n",
    "    return np.mean(x-y, -1)\n",
    "\n",
    "def std_of_diff(x,y):\n",
    "    return np.std(x-y, -1)"
   ]
  },
  {
   "cell_type": "code",
   "execution_count": 11,
   "id": "d9e08ca6-1545-496f-ae0b-9ec24e2cb81e",
   "metadata": {
    "tags": []
   },
   "outputs": [
    {
     "data": {
      "text/plain": [
       "['/data/photometry/vary_a_max',\n",
       " '/data/photometry/vary_a_power',\n",
       " '/data/photometry/vary_attenuation',\n",
       " '/data/photometry/vary_b_bright',\n",
       " '/data/photometry/vary_b_fast',\n",
       " '/data/photometry/vary_b_inf',\n",
       " '/data/photometry/vary_b_slow',\n",
       " '/data/photometry/vary_corr_s',\n",
       " '/data/photometry/vary_decay',\n",
       " '/data/photometry/vary_motion_power',\n",
       " '/data/photometry/vary_noise_std',\n",
       " '/data/photometry/vary_t_bright',\n",
       " '/data/photometry/vary_t_fast',\n",
       " '/data/photometry/vary_t_slow']"
      ]
     },
     "execution_count": 11,
     "metadata": {},
     "output_type": "execute_result"
    }
   ],
   "source": [
    "parents = sorted(glob.glob(\"/data/photometry/vary*\"))\n",
    "parents"
   ]
  },
  {
   "cell_type": "code",
   "execution_count": 12,
   "id": "a0e408b2-f467-4bfa-8e2b-dccc5f87d6da",
   "metadata": {
    "tags": []
   },
   "outputs": [],
   "source": [
    "def evaluate(parent):\n",
    "    perf = []\n",
    "    params = []\n",
    "    vary = parent.split('/')[-1][5:]\n",
    "    for nwb_file in sorted(glob.glob(f\"{parent}/*/*.nwb\")):\n",
    "        print(f\"Processing NWB file: {nwb_file}\")\n",
    "        p = pd.read_csv(Path(nwb_file).parent / \"parameters.csv\", delimiter=\",\", index_col=0)\n",
    "        p = list(p[vary])\n",
    "        params.append([p[:3], p[3:6]])\n",
    "        with h5py.File(Path(nwb_file).parent / 'groundtruth.h5') as file:\n",
    "            dFF_gt = [file[f'fiber{f}']['dff'][:] for f in (0,1)]\n",
    "\n",
    "        with NWBZarrIO(path=nwb_file, mode=\"r\") as io:\n",
    "            nwb = io.read()\n",
    "            # convert nwb to dataframe\n",
    "            df_from_nwb = nwb_utils.nwb_to_dataframe(nwb)\n",
    "            # add the session column\n",
    "            filename = Path(nwb_file).name\n",
    "            session_name = filename.split(\".\")[0].split(\"FIP_\")[1]\n",
    "            df_from_nwb.insert(0, \"session\", session_name)\n",
    "            # now pass the dataframe through the preprocessing function:\n",
    "            df_fip_pp_nwb, df_PP_params = nwp.batch_processing_new(df_fip=df_from_nwb)\n",
    "            # calculate performance measures\n",
    "            tmp = []\n",
    "            for pre in (\"poly\", \"exp\", \"bright\"):\n",
    "                df = df_fip_pp_nwb[df_fip_pp_nwb[\"preprocess\"]==pre]\n",
    "                dFF = np.array([[df[(df[\"channel\"] == ch) & (df[\"fiber_number\"] == fiber)][\"signal\"]\n",
    "                                 for ch in ['Iso', 'G', 'R']] for fiber in df_fip_pp_nwb[\"fiber_number\"].unique()])\n",
    "                tmp.append([RMSE(dFF, dFF_gt), bias(dFF, dFF_gt), std_of_diff(dFF, dFF_gt)])\n",
    "            perf.append(tmp)\n",
    "\n",
    "    return (np.array(params), # indices: expId, fiber, channel\n",
    "            np.array(perf))   # indices: expId, method, performance_measure, fiber, channel"
   ]
  },
  {
   "cell_type": "code",
   "execution_count": 13,
   "id": "8fc3a0c3-49de-49de-84e1-ed6c8b40566b",
   "metadata": {
    "tags": []
   },
   "outputs": [],
   "source": [
    "nwb_file = \"/data/photometry/vary_a_power/FIP_000163_2024-08-06_10-01-24/FIP_000163_2024-08-06_10-01-24.nwb\""
   ]
  },
  {
   "cell_type": "code",
   "execution_count": 14,
   "id": "f4d22b14-e88c-4ae1-ac2c-687a6f4f54fd",
   "metadata": {
    "tags": []
   },
   "outputs": [],
   "source": [
    "perf = []\n",
    "params = []\n",
    "vary = \"a_power\""
   ]
  },
  {
   "cell_type": "code",
   "execution_count": 15,
   "id": "8e20284e-5e69-4b1e-8b65-b4a32b0d4d71",
   "metadata": {
    "tags": []
   },
   "outputs": [],
   "source": [
    "import itertools\n",
    "\n",
    "def batch_processing(df_fip, methods=[\"poly\",]):\n",
    "    df_fip_pp = pd.DataFrame()\n",
    "    df_pp_params = pd.DataFrame()\n",
    "\n",
    "    # df_fip = pd.read_pickle(filename)\n",
    "    if len(df_fip) == 0:\n",
    "        return df_fip, df_pp_params\n",
    "\n",
    "    sessions = pd.unique(df_fip[\"session\"].values)\n",
    "    sessions = sessions[~pd.isna(sessions)]\n",
    "    fiber_numbers = np.unique(df_fip[\"fiber_number\"].values)\n",
    "    channels = pd.unique(df_fip[\"channel\"])  # ['G', 'R', 'Iso']\n",
    "    channels = channels[~pd.isna(channels)]\n",
    "    for pp_name in methods:\n",
    "        if pp_name in [\"poly\", \"exp\", \"bright\"]:\n",
    "            for i_iter, (channel, fiber_number, session) in enumerate(\n",
    "                itertools.product(channels, fiber_numbers, sessions)\n",
    "            ):\n",
    "                df_fip_iter = df_fip[\n",
    "                    (df_fip[\"session\"] == session)\n",
    "                    & (df_fip[\"fiber_number\"] == fiber_number)\n",
    "                    & (df_fip[\"channel\"] == channel)\n",
    "                ]\n",
    "                if len(df_fip_iter) == 0:\n",
    "                    continue\n",
    "\n",
    "                NM_values = df_fip_iter[\"signal\"].values\n",
    "                # try:\n",
    "                NM_preprocessed, NM_fitting_params = nwp.chunk_processing(NM_values, method=pp_name)\n",
    "                # except:\n",
    "                #     print(f\"Processing with method {pp_name} failed. Continuing...\")\n",
    "                #     continue\n",
    "                df_fip_iter.loc[:, \"signal\"] = NM_preprocessed\n",
    "                df_fip_iter.loc[:, \"preprocess\"] = pp_name\n",
    "                df_fip_pp = pd.concat([df_fip_pp, df_fip_iter], axis=0)\n",
    "\n",
    "                NM_fitting_params.update(\n",
    "                    {\n",
    "                        \"preprocess\": pp_name,\n",
    "                        \"channel\": channel,\n",
    "                        \"fiber_number\": fiber_number,\n",
    "                        \"session\": session,\n",
    "                    }\n",
    "                )\n",
    "                df_pp_params_ses = pd.DataFrame(NM_fitting_params, index=[0])\n",
    "                df_pp_params = pd.concat([df_pp_params, df_pp_params_ses], axis=0)\n",
    "\n",
    "    return df_fip_pp, df_pp_params"
   ]
  },
  {
   "cell_type": "code",
   "execution_count": 9,
   "id": "78620a0f-7602-4b98-ad30-ee2871648916",
   "metadata": {
    "tags": []
   },
   "outputs": [
    {
     "data": {
      "text/plain": [
       "3712.1658291263648"
      ]
     },
     "execution_count": 9,
     "metadata": {},
     "output_type": "execute_result"
    }
   ],
   "source": [
    "qq=[np.array(pd.read_csv(Path(nwb_file).parent / \"parameters.csv\", delimiter=\",\", index_col=0)[\"t_slow\"])\n",
    "  for nwb_file in sorted(glob.glob(f\"{parents[-1]}/*/*.nwb\"))]\n",
    "np.nanmedian(qq)"
   ]
  },
  {
   "cell_type": "code",
   "execution_count": 31,
   "id": "877b2934-1073-4395-b317-babbef949410",
   "metadata": {
    "tags": []
   },
   "outputs": [
    {
     "data": {
      "text/plain": [
       "220.42119205670485"
      ]
     },
     "execution_count": 31,
     "metadata": {},
     "output_type": "execute_result"
    }
   ],
   "source": [
    "qq=[np.array(pd.read_csv(Path(nwb_file).parent / \"parameters.csv\", delimiter=\",\", index_col=0)[\"t_fast\"])\n",
    "  for nwb_file in sorted(glob.glob(f\"{parents[-2]}/*/*.nwb\"))]\n",
    "np.nanmedian(qq)"
   ]
  },
  {
   "cell_type": "code",
   "execution_count": 32,
   "id": "a7485871-4f9b-48e3-9808-02095a24b948",
   "metadata": {
    "tags": []
   },
   "outputs": [
    {
     "data": {
      "text/plain": [
       "2073.122248162862"
      ]
     },
     "execution_count": 32,
     "metadata": {},
     "output_type": "execute_result"
    }
   ],
   "source": [
    "qq=[np.array(pd.read_csv(Path(nwb_file).parent / \"parameters.csv\", delimiter=\",\", index_col=0)[\"t_bright\"])\n",
    "  for nwb_file in sorted(glob.glob(f\"{parents[-3]}/*/*.nwb\"))]\n",
    "np.nanmedian(qq)"
   ]
  },
  {
   "cell_type": "code",
   "execution_count": null,
   "id": "db537a1e-a9b8-4de2-b322-df44f4cd5a7f",
   "metadata": {},
   "outputs": [],
   "source": []
  },
  {
   "cell_type": "code",
   "execution_count": 16,
   "id": "eeab373f-5d66-484f-9af4-c1089c170b97",
   "metadata": {
    "tags": []
   },
   "outputs": [
    {
     "name": "stdout",
     "output_type": "stream",
     "text": [
      "Processing NWB file: /data/photometry/vary_a_power/FIP_000163_2024-08-06_10-01-24/FIP_000163_2024-08-06_10-01-24.nwb\n"
     ]
    }
   ],
   "source": [
    "        print(f\"Processing NWB file: {nwb_file}\")\n",
    "        p = pd.read_csv(Path(nwb_file).parent / \"parameters.csv\", delimiter=\",\", index_col=0)\n",
    "        p = list(p[vary])\n",
    "        params.append([p[:3], p[3:6]])\n",
    "        with h5py.File(Path(nwb_file).parent / 'groundtruth.h5') as file:\n",
    "            dFF_gt = [file[f'fiber{f}']['dff'][:] for f in (0,1)]\n",
    "\n",
    "        with NWBZarrIO(path=nwb_file, mode=\"r\") as io:\n",
    "            nwb = io.read()\n",
    "            # convert nwb to dataframe\n",
    "            df_from_nwb = nwb_utils.nwb_to_dataframe(nwb)\n",
    "            # add the session column\n",
    "            filename = Path(nwb_file).name\n",
    "            session_name = filename.split(\".\")[0].split(\"FIP_\")[1]\n",
    "            df_from_nwb.insert(0, \"session\", session_name)\n",
    "            # now pass the dataframe through the preprocessing function:\n",
    "            df_fip_pp_nwb, df_PP_params = batch_processing(df_fip=df_from_nwb)\n",
    "            # calculate performance measures\n",
    "            tmp = []\n",
    "            for pre in (\"poly\", ): #(\"poly\", \"exp\", \"bright\"):\n",
    "                df = df_fip_pp_nwb[df_fip_pp_nwb[\"preprocess\"]==pre]\n",
    "                dFF = np.array([[df[(df[\"channel\"] == ch) & (df[\"fiber_number\"] == fiber)][\"signal\"]\n",
    "                                 for ch in ['Iso', 'G', 'R']] for fiber in df_fip_pp_nwb[\"fiber_number\"].unique()])\n",
    "                tmp.append([RMSE(dFF, dFF_gt), bias(dFF, dFF_gt), std_of_diff(dFF, dFF_gt)])"
   ]
  },
  {
   "cell_type": "code",
   "execution_count": 17,
   "id": "325d827a-b069-402b-b4dd-20266c38beda",
   "metadata": {
    "tags": []
   },
   "outputs": [
    {
     "data": {
      "text/html": [
       "<div>\n",
       "<style scoped>\n",
       "    .dataframe tbody tr th:only-of-type {\n",
       "        vertical-align: middle;\n",
       "    }\n",
       "\n",
       "    .dataframe tbody tr th {\n",
       "        vertical-align: top;\n",
       "    }\n",
       "\n",
       "    .dataframe thead th {\n",
       "        text-align: right;\n",
       "    }\n",
       "</style>\n",
       "<table border=\"1\" class=\"dataframe\">\n",
       "  <thead>\n",
       "    <tr style=\"text-align: right;\">\n",
       "      <th></th>\n",
       "      <th>0</th>\n",
       "      <th>1</th>\n",
       "      <th>2</th>\n",
       "      <th>3</th>\n",
       "      <th>4</th>\n",
       "      <th>QC_metric</th>\n",
       "      <th>preprocess</th>\n",
       "      <th>channel</th>\n",
       "      <th>fiber_number</th>\n",
       "      <th>session</th>\n",
       "    </tr>\n",
       "  </thead>\n",
       "  <tbody>\n",
       "    <tr>\n",
       "      <th>0</th>\n",
       "      <td>3.265138e-12</td>\n",
       "      <td>-2.399607e-08</td>\n",
       "      <td>0.000054</td>\n",
       "      <td>-0.026933</td>\n",
       "      <td>667.585411</td>\n",
       "      <td>NaN</td>\n",
       "      <td>poly</td>\n",
       "      <td>G</td>\n",
       "      <td>1</td>\n",
       "      <td>000163_2024-08-06_10-01-24</td>\n",
       "    </tr>\n",
       "    <tr>\n",
       "      <th>0</th>\n",
       "      <td>2.135958e-12</td>\n",
       "      <td>-1.825405e-08</td>\n",
       "      <td>0.000062</td>\n",
       "      <td>-0.132687</td>\n",
       "      <td>1249.656241</td>\n",
       "      <td>NaN</td>\n",
       "      <td>poly</td>\n",
       "      <td>G</td>\n",
       "      <td>2</td>\n",
       "      <td>000163_2024-08-06_10-01-24</td>\n",
       "    </tr>\n",
       "    <tr>\n",
       "      <th>0</th>\n",
       "      <td>5.462325e-12</td>\n",
       "      <td>-4.639155e-08</td>\n",
       "      <td>0.000138</td>\n",
       "      <td>-0.176828</td>\n",
       "      <td>508.386383</td>\n",
       "      <td>NaN</td>\n",
       "      <td>poly</td>\n",
       "      <td>Iso</td>\n",
       "      <td>1</td>\n",
       "      <td>000163_2024-08-06_10-01-24</td>\n",
       "    </tr>\n",
       "    <tr>\n",
       "      <th>0</th>\n",
       "      <td>6.354249e-12</td>\n",
       "      <td>-4.910404e-08</td>\n",
       "      <td>0.000124</td>\n",
       "      <td>-0.115277</td>\n",
       "      <td>541.385348</td>\n",
       "      <td>NaN</td>\n",
       "      <td>poly</td>\n",
       "      <td>Iso</td>\n",
       "      <td>2</td>\n",
       "      <td>000163_2024-08-06_10-01-24</td>\n",
       "    </tr>\n",
       "    <tr>\n",
       "      <th>0</th>\n",
       "      <td>2.194894e-11</td>\n",
       "      <td>-1.818185e-07</td>\n",
       "      <td>0.000457</td>\n",
       "      <td>-0.208369</td>\n",
       "      <td>2917.465424</td>\n",
       "      <td>NaN</td>\n",
       "      <td>poly</td>\n",
       "      <td>R</td>\n",
       "      <td>1</td>\n",
       "      <td>000163_2024-08-06_10-01-24</td>\n",
       "    </tr>\n",
       "    <tr>\n",
       "      <th>0</th>\n",
       "      <td>1.224045e-11</td>\n",
       "      <td>-7.545887e-08</td>\n",
       "      <td>0.000100</td>\n",
       "      <td>0.069498</td>\n",
       "      <td>2011.081500</td>\n",
       "      <td>NaN</td>\n",
       "      <td>poly</td>\n",
       "      <td>R</td>\n",
       "      <td>2</td>\n",
       "      <td>000163_2024-08-06_10-01-24</td>\n",
       "    </tr>\n",
       "  </tbody>\n",
       "</table>\n",
       "</div>"
      ],
      "text/plain": [
       "              0             1         2         3            4  QC_metric  \\\n",
       "0  3.265138e-12 -2.399607e-08  0.000054 -0.026933   667.585411        NaN   \n",
       "0  2.135958e-12 -1.825405e-08  0.000062 -0.132687  1249.656241        NaN   \n",
       "0  5.462325e-12 -4.639155e-08  0.000138 -0.176828   508.386383        NaN   \n",
       "0  6.354249e-12 -4.910404e-08  0.000124 -0.115277   541.385348        NaN   \n",
       "0  2.194894e-11 -1.818185e-07  0.000457 -0.208369  2917.465424        NaN   \n",
       "0  1.224045e-11 -7.545887e-08  0.000100  0.069498  2011.081500        NaN   \n",
       "\n",
       "  preprocess channel fiber_number                     session  \n",
       "0       poly       G            1  000163_2024-08-06_10-01-24  \n",
       "0       poly       G            2  000163_2024-08-06_10-01-24  \n",
       "0       poly     Iso            1  000163_2024-08-06_10-01-24  \n",
       "0       poly     Iso            2  000163_2024-08-06_10-01-24  \n",
       "0       poly       R            1  000163_2024-08-06_10-01-24  \n",
       "0       poly       R            2  000163_2024-08-06_10-01-24  "
      ]
     },
     "execution_count": 17,
     "metadata": {},
     "output_type": "execute_result"
    }
   ],
   "source": [
    "df_PP_params"
   ]
  },
  {
   "cell_type": "code",
   "execution_count": 11,
   "id": "3a2f2d13-73f5-4511-ab0c-a48e387601b3",
   "metadata": {
    "tags": []
   },
   "outputs": [
    {
     "data": {
      "text/plain": [
       "[[array([[0.00957872, 0.01447426, 0.01537848],\n",
       "         [0.01226334, 0.01011846, 0.01356608]]),\n",
       "  array([[ 0.00350177, -0.00416861,  0.00239148],\n",
       "         [ 0.00486335, -0.00649907, -0.0105098 ]]),\n",
       "  array([[0.00891568, 0.01386098, 0.0151914 ],\n",
       "         [0.01125776, 0.00775534, 0.00857803]])]]"
      ]
     },
     "execution_count": 11,
     "metadata": {},
     "output_type": "execute_result"
    },
    {
     "data": {
      "image/png": "[encoded data removed]",
      "text/plain": [
       "<Figure size 640x480 with 1 Axes>"
      ]
     },
     "metadata": {},
     "output_type": "display_data"
    }
   ],
   "source": [
    "plt.plot(dFF[0][0])\n",
    "tmp"
   ]
  },
  {
   "cell_type": "code",
   "execution_count": 10,
   "id": "bf8812b6-8399-457d-9b45-e793b3a9eab7",
   "metadata": {
    "tags": []
   },
   "outputs": [
    {
     "data": {
      "text/html": [
       "<div>\n",
       "<style scoped>\n",
       "    .dataframe tbody tr th:only-of-type {\n",
       "        vertical-align: middle;\n",
       "    }\n",
       "\n",
       "    .dataframe tbody tr th {\n",
       "        vertical-align: top;\n",
       "    }\n",
       "\n",
       "    .dataframe thead th {\n",
       "        text-align: right;\n",
       "    }\n",
       "</style>\n",
       "<table border=\"1\" class=\"dataframe\">\n",
       "  <thead>\n",
       "    <tr style=\"text-align: right;\">\n",
       "      <th></th>\n",
       "      <th>0</th>\n",
       "      <th>1</th>\n",
       "      <th>2</th>\n",
       "      <th>3</th>\n",
       "      <th>QC_metric</th>\n",
       "      <th>preprocess</th>\n",
       "      <th>channel</th>\n",
       "      <th>fiber_number</th>\n",
       "      <th>session</th>\n",
       "    </tr>\n",
       "  </thead>\n",
       "  <tbody>\n",
       "    <tr>\n",
       "      <th>0</th>\n",
       "      <td>663.707073</td>\n",
       "      <td>-0.000014</td>\n",
       "      <td>37.153948</td>\n",
       "      <td>0.022469</td>\n",
       "      <td>NaN</td>\n",
       "      <td>exp</td>\n",
       "      <td>G</td>\n",
       "      <td>1</td>\n",
       "      <td>000163_2024-08-06_10-01-24</td>\n",
       "    </tr>\n",
       "    <tr>\n",
       "      <th>0</th>\n",
       "      <td>1149.871856</td>\n",
       "      <td>0.000018</td>\n",
       "      <td>98.564160</td>\n",
       "      <td>0.001068</td>\n",
       "      <td>NaN</td>\n",
       "      <td>exp</td>\n",
       "      <td>G</td>\n",
       "      <td>2</td>\n",
       "      <td>000163_2024-08-06_10-01-24</td>\n",
       "    </tr>\n",
       "    <tr>\n",
       "      <th>0</th>\n",
       "      <td>440.930667</td>\n",
       "      <td>0.000025</td>\n",
       "      <td>81.974523</td>\n",
       "      <td>0.004136</td>\n",
       "      <td>NaN</td>\n",
       "      <td>exp</td>\n",
       "      <td>Iso</td>\n",
       "      <td>1</td>\n",
       "      <td>000163_2024-08-06_10-01-24</td>\n",
       "    </tr>\n",
       "    <tr>\n",
       "      <th>0</th>\n",
       "      <td>513.946695</td>\n",
       "      <td>0.000006</td>\n",
       "      <td>41.853821</td>\n",
       "      <td>0.009027</td>\n",
       "      <td>NaN</td>\n",
       "      <td>exp</td>\n",
       "      <td>Iso</td>\n",
       "      <td>2</td>\n",
       "      <td>000163_2024-08-06_10-01-24</td>\n",
       "    </tr>\n",
       "    <tr>\n",
       "      <th>0</th>\n",
       "      <td>2889.259147</td>\n",
       "      <td>-0.000045</td>\n",
       "      <td>82.501212</td>\n",
       "      <td>0.024626</td>\n",
       "      <td>NaN</td>\n",
       "      <td>exp</td>\n",
       "      <td>R</td>\n",
       "      <td>1</td>\n",
       "      <td>000163_2024-08-06_10-01-24</td>\n",
       "    </tr>\n",
       "    <tr>\n",
       "      <th>0</th>\n",
       "      <td>2085.925774</td>\n",
       "      <td>-0.000004</td>\n",
       "      <td>-9.498792</td>\n",
       "      <td>30790.224412</td>\n",
       "      <td>NaN</td>\n",
       "      <td>exp</td>\n",
       "      <td>R</td>\n",
       "      <td>2</td>\n",
       "      <td>000163_2024-08-06_10-01-24</td>\n",
       "    </tr>\n",
       "  </tbody>\n",
       "</table>\n",
       "</div>"
      ],
      "text/plain": [
       "             0         1          2             3  QC_metric preprocess  \\\n",
       "0   663.707073 -0.000014  37.153948      0.022469        NaN        exp   \n",
       "0  1149.871856  0.000018  98.564160      0.001068        NaN        exp   \n",
       "0   440.930667  0.000025  81.974523      0.004136        NaN        exp   \n",
       "0   513.946695  0.000006  41.853821      0.009027        NaN        exp   \n",
       "0  2889.259147 -0.000045  82.501212      0.024626        NaN        exp   \n",
       "0  2085.925774 -0.000004  -9.498792  30790.224412        NaN        exp   \n",
       "\n",
       "  channel fiber_number                     session  \n",
       "0       G            1  000163_2024-08-06_10-01-24  \n",
       "0       G            2  000163_2024-08-06_10-01-24  \n",
       "0     Iso            1  000163_2024-08-06_10-01-24  \n",
       "0     Iso            2  000163_2024-08-06_10-01-24  \n",
       "0       R            1  000163_2024-08-06_10-01-24  \n",
       "0       R            2  000163_2024-08-06_10-01-24  "
      ]
     },
     "execution_count": 10,
     "metadata": {},
     "output_type": "execute_result"
    }
   ],
   "source": [
    "df_PP_params"
   ]
  },
  {
   "cell_type": "code",
   "execution_count": 11,
   "id": "f3f7d8d3-4b40-41b2-85bc-90eedc151b57",
   "metadata": {
    "tags": []
   },
   "outputs": [
    {
     "data": {
      "text/plain": [
       "[[array([[0.00957872, 0.01447404, 0.01537842],\n",
       "         [0.01226336, 0.01011846, 0.01817634]]),\n",
       "  array([[ 0.00350178, -0.00416791,  0.00239104],\n",
       "         [ 0.0048634 , -0.00649907, -0.00570408]]),\n",
       "  array([[0.00891568, 0.01386097, 0.0151914 ],\n",
       "         [0.01125777, 0.00775534, 0.01725812]])]]"
      ]
     },
     "execution_count": 11,
     "metadata": {},
     "output_type": "execute_result"
    },
    {
     "data": {
      "image/png": "[encoded data removed]",
      "text/plain": [
       "<Figure size 640x480 with 1 Axes>"
      ]
     },
     "metadata": {},
     "output_type": "display_data"
    }
   ],
   "source": [
    "plt.plot(dFF[0][0])\n",
    "tmp"
   ]
  },
  {
   "cell_type": "code",
   "execution_count": 10,
   "id": "030a0141-47b8-400e-a6ab-23b2c47d3cc3",
   "metadata": {
    "tags": []
   },
   "outputs": [
    {
     "data": {
      "text/html": [
       "<div>\n",
       "<style scoped>\n",
       "    .dataframe tbody tr th:only-of-type {\n",
       "        vertical-align: middle;\n",
       "    }\n",
       "\n",
       "    .dataframe tbody tr th {\n",
       "        vertical-align: top;\n",
       "    }\n",
       "\n",
       "    .dataframe thead th {\n",
       "        text-align: right;\n",
       "    }\n",
       "</style>\n",
       "<table border=\"1\" class=\"dataframe\">\n",
       "  <thead>\n",
       "    <tr style=\"text-align: right;\">\n",
       "      <th></th>\n",
       "      <th>0</th>\n",
       "      <th>1</th>\n",
       "      <th>2</th>\n",
       "      <th>3</th>\n",
       "      <th>QC_metric</th>\n",
       "      <th>preprocess</th>\n",
       "      <th>channel</th>\n",
       "      <th>fiber_number</th>\n",
       "      <th>session</th>\n",
       "    </tr>\n",
       "  </thead>\n",
       "  <tbody>\n",
       "    <tr>\n",
       "      <th>0</th>\n",
       "      <td>625.928009</td>\n",
       "      <td>3600.0</td>\n",
       "      <td>69.547611</td>\n",
       "      <td>146.361359</td>\n",
       "      <td>NaN</td>\n",
       "      <td>exp</td>\n",
       "      <td>G</td>\n",
       "      <td>1</td>\n",
       "      <td>000163_2024-08-06_10-01-24</td>\n",
       "    </tr>\n",
       "    <tr>\n",
       "      <th>0</th>\n",
       "      <td>1141.675664</td>\n",
       "      <td>3600.0</td>\n",
       "      <td>126.852862</td>\n",
       "      <td>145.934774</td>\n",
       "      <td>NaN</td>\n",
       "      <td>exp</td>\n",
       "      <td>G</td>\n",
       "      <td>2</td>\n",
       "      <td>000163_2024-08-06_10-01-24</td>\n",
       "    </tr>\n",
       "    <tr>\n",
       "      <th>0</th>\n",
       "      <td>471.585192</td>\n",
       "      <td>3600.0</td>\n",
       "      <td>52.398443</td>\n",
       "      <td>146.494515</td>\n",
       "      <td>NaN</td>\n",
       "      <td>exp</td>\n",
       "      <td>Iso</td>\n",
       "      <td>1</td>\n",
       "      <td>000163_2024-08-06_10-01-24</td>\n",
       "    </tr>\n",
       "    <tr>\n",
       "      <th>0</th>\n",
       "      <td>493.441960</td>\n",
       "      <td>3600.0</td>\n",
       "      <td>54.826907</td>\n",
       "      <td>155.648981</td>\n",
       "      <td>NaN</td>\n",
       "      <td>exp</td>\n",
       "      <td>Iso</td>\n",
       "      <td>2</td>\n",
       "      <td>000163_2024-08-06_10-01-24</td>\n",
       "    </tr>\n",
       "    <tr>\n",
       "      <th>0</th>\n",
       "      <td>2650.395998</td>\n",
       "      <td>3600.0</td>\n",
       "      <td>294.488672</td>\n",
       "      <td>146.151266</td>\n",
       "      <td>NaN</td>\n",
       "      <td>exp</td>\n",
       "      <td>R</td>\n",
       "      <td>1</td>\n",
       "      <td>000163_2024-08-06_10-01-24</td>\n",
       "    </tr>\n",
       "    <tr>\n",
       "      <th>0</th>\n",
       "      <td>1853.365333</td>\n",
       "      <td>3600.0</td>\n",
       "      <td>205.929957</td>\n",
       "      <td>145.973621</td>\n",
       "      <td>NaN</td>\n",
       "      <td>exp</td>\n",
       "      <td>R</td>\n",
       "      <td>2</td>\n",
       "      <td>000163_2024-08-06_10-01-24</td>\n",
       "    </tr>\n",
       "  </tbody>\n",
       "</table>\n",
       "</div>"
      ],
      "text/plain": [
       "             0       1           2           3  QC_metric preprocess channel  \\\n",
       "0   625.928009  3600.0   69.547611  146.361359        NaN        exp       G   \n",
       "0  1141.675664  3600.0  126.852862  145.934774        NaN        exp       G   \n",
       "0   471.585192  3600.0   52.398443  146.494515        NaN        exp     Iso   \n",
       "0   493.441960  3600.0   54.826907  155.648981        NaN        exp     Iso   \n",
       "0  2650.395998  3600.0  294.488672  146.151266        NaN        exp       R   \n",
       "0  1853.365333  3600.0  205.929957  145.973621        NaN        exp       R   \n",
       "\n",
       "  fiber_number                     session  \n",
       "0            1  000163_2024-08-06_10-01-24  \n",
       "0            2  000163_2024-08-06_10-01-24  \n",
       "0            1  000163_2024-08-06_10-01-24  \n",
       "0            2  000163_2024-08-06_10-01-24  \n",
       "0            1  000163_2024-08-06_10-01-24  \n",
       "0            2  000163_2024-08-06_10-01-24  "
      ]
     },
     "execution_count": 10,
     "metadata": {},
     "output_type": "execute_result"
    }
   ],
   "source": [
    "df_PP_params"
   ]
  },
  {
   "cell_type": "code",
   "execution_count": 11,
   "id": "0e138677-9a62-4dd5-a219-e3834b409f2b",
   "metadata": {
    "tags": []
   },
   "outputs": [
    {
     "data": {
      "text/plain": [
       "[[array([[0.04802834, 0.04186753, 0.05618922],\n",
       "         [0.04039437, 0.04273639, 0.04224653]]),\n",
       "  array([[ 0.01073101, -0.00846723,  0.00864304],\n",
       "         [ 0.00561541,  0.0031847 , -0.00824045]]),\n",
       "  array([[0.04681418, 0.04100239, 0.05552051],\n",
       "         [0.04000216, 0.04261756, 0.04143506]])]]"
      ]
     },
     "execution_count": 11,
     "metadata": {},
     "output_type": "execute_result"
    },
    {
     "data": {
      "image/png": "[encoded data removed]",
      "text/plain": [
       "<Figure size 640x480 with 1 Axes>"
      ]
     },
     "metadata": {},
     "output_type": "display_data"
    }
   ],
   "source": [
    "plt.plot(dFF[0][0])\n",
    "tmp"
   ]
  },
  {
   "cell_type": "code",
   "execution_count": 19,
   "id": "97e8e730-ed01-4d5e-aaae-2a9a3375f4a1",
   "metadata": {
    "tags": []
   },
   "outputs": [
    {
     "data": {
      "text/plain": [
       "[[array([[0.04820772, 0.04195866, 0.05625486],\n",
       "         [0.04046717, 0.04273523, 0.0425291 ]]),\n",
       "  array([[ 0.0107216 , -0.00847104,  0.0086394 ],\n",
       "         [ 0.00561238,  0.00318475, -0.00825235]]),\n",
       "  array([[0.04700034, 0.04109466, 0.05558749],\n",
       "         [0.04007609, 0.0426164 , 0.04172077]])]]"
      ]
     },
     "execution_count": 19,
     "metadata": {},
     "output_type": "execute_result"
    },
    {
     "data": {
      "image/png": "[encoded data removed]",
      "text/plain": [
       "<Figure size 640x480 with 1 Axes>"
      ]
     },
     "metadata": {},
     "output_type": "display_data"
    }
   ],
   "source": [
    "plt.plot(dFF[0][0])\n",
    "tmp"
   ]
  },
  {
   "cell_type": "code",
   "execution_count": null,
   "id": "36193755-de01-4099-b0e6-b8289d233c72",
   "metadata": {},
   "outputs": [],
   "source": []
  },
  {
   "cell_type": "code",
   "execution_count": null,
   "id": "362af7cc-776e-430f-9af1-c57336584a63",
   "metadata": {},
   "outputs": [],
   "source": []
  },
  {
   "cell_type": "code",
   "execution_count": 12,
   "id": "4ce5903d-52f1-45db-a1ca-2d0f3ba8bcc5",
   "metadata": {
    "tags": []
   },
   "outputs": [
    {
     "name": "stdout",
     "output_type": "stream",
     "text": [
      "/data/photometry/vary_a_max\n",
      "Processing NWB file: /data/photometry/vary_a_max/FIP_000140_2024-08-06_10-01-07/FIP_000140_2024-08-06_10-01-07.nwb\n",
      "Processing NWB file: /data/photometry/vary_a_max/FIP_000141_2024-08-06_10-01-08/FIP_000141_2024-08-06_10-01-08.nwb\n",
      "Processing NWB file: /data/photometry/vary_a_max/FIP_000142_2024-08-06_10-01-08/FIP_000142_2024-08-06_10-01-08.nwb\n",
      "Processing NWB file: /data/photometry/vary_a_max/FIP_000143_2024-08-06_10-01-09/FIP_000143_2024-08-06_10-01-09.nwb\n",
      "Processing NWB file: /data/photometry/vary_a_max/FIP_000144_2024-08-06_10-01-10/FIP_000144_2024-08-06_10-01-10.nwb\n",
      "Processing NWB file: /data/photometry/vary_a_max/FIP_000145_2024-08-06_10-01-11/FIP_000145_2024-08-06_10-01-11.nwb\n",
      "Processing NWB file: /data/photometry/vary_a_max/FIP_000146_2024-08-06_10-01-11/FIP_000146_2024-08-06_10-01-11.nwb\n",
      "Processing NWB file: /data/photometry/vary_a_max/FIP_000147_2024-08-06_10-01-12/FIP_000147_2024-08-06_10-01-12.nwb\n"
     ]
    },
    {
     "name": "stderr",
     "output_type": "stream",
     "text": [
      "/opt/conda/lib/python3.10/site-packages/scipy/optimize/_numdiff.py:503: RuntimeWarning: invalid value encountered in subtract\n",
      "  dx = ((x0 + h) - x0)\n",
      "/opt/conda/lib/python3.10/site-packages/scipy/optimize/_numdiff.py:58: RuntimeWarning: invalid value encountered in subtract\n",
      "  upper_dist = ub - x0\n",
      "/opt/conda/lib/python3.10/site-packages/scipy/optimize/_numdiff.py:591: RuntimeWarning: invalid value encountered in scalar subtract\n",
      "  dx = x1[i] - x0[i]  # Recompute dx as exactly representable number.\n"
     ]
    },
    {
     "name": "stdout",
     "output_type": "stream",
     "text": [
      "/data/photometry/vary_a_power\n",
      "Processing NWB file: /data/photometry/vary_a_power/FIP_000156_2024-08-06_10-01-19/FIP_000156_2024-08-06_10-01-19.nwb\n",
      "Processing NWB file: /data/photometry/vary_a_power/FIP_000157_2024-08-06_10-01-20/FIP_000157_2024-08-06_10-01-20.nwb\n",
      "Processing NWB file: /data/photometry/vary_a_power/FIP_000158_2024-08-06_10-01-21/FIP_000158_2024-08-06_10-01-21.nwb\n",
      "Processing NWB file: /data/photometry/vary_a_power/FIP_000159_2024-08-06_10-01-21/FIP_000159_2024-08-06_10-01-21.nwb\n",
      "Processing NWB file: /data/photometry/vary_a_power/FIP_000160_2024-08-06_10-01-22/FIP_000160_2024-08-06_10-01-22.nwb\n"
     ]
    },
    {
     "name": "stderr",
     "output_type": "stream",
     "text": [
      "/opt/conda/lib/python3.10/site-packages/scipy/optimize/_numdiff.py:503: RuntimeWarning: invalid value encountered in subtract\n",
      "  dx = ((x0 + h) - x0)\n",
      "/opt/conda/lib/python3.10/site-packages/scipy/optimize/_numdiff.py:58: RuntimeWarning: invalid value encountered in subtract\n",
      "  upper_dist = ub - x0\n",
      "/opt/conda/lib/python3.10/site-packages/scipy/optimize/_numdiff.py:591: RuntimeWarning: invalid value encountered in scalar subtract\n",
      "  dx = x1[i] - x0[i]  # Recompute dx as exactly representable number.\n"
     ]
    },
    {
     "name": "stdout",
     "output_type": "stream",
     "text": [
      "Processing NWB file: /data/photometry/vary_a_power/FIP_000161_2024-08-06_10-01-23/FIP_000161_2024-08-06_10-01-23.nwb\n"
     ]
    },
    {
     "name": "stderr",
     "output_type": "stream",
     "text": [
      "/opt/conda/lib/python3.10/site-packages/scipy/optimize/_numdiff.py:503: RuntimeWarning: invalid value encountered in subtract\n",
      "  dx = ((x0 + h) - x0)\n",
      "/opt/conda/lib/python3.10/site-packages/scipy/optimize/_numdiff.py:58: RuntimeWarning: invalid value encountered in subtract\n",
      "  upper_dist = ub - x0\n",
      "/opt/conda/lib/python3.10/site-packages/scipy/optimize/_numdiff.py:591: RuntimeWarning: invalid value encountered in scalar subtract\n",
      "  dx = x1[i] - x0[i]  # Recompute dx as exactly representable number.\n"
     ]
    },
    {
     "name": "stdout",
     "output_type": "stream",
     "text": [
      "Processing NWB file: /data/photometry/vary_a_power/FIP_000162_2024-08-06_10-01-24/FIP_000162_2024-08-06_10-01-24.nwb\n"
     ]
    },
    {
     "name": "stderr",
     "output_type": "stream",
     "text": [
      "/opt/conda/lib/python3.10/site-packages/scipy/optimize/_numdiff.py:503: RuntimeWarning: invalid value encountered in subtract\n",
      "  dx = ((x0 + h) - x0)\n",
      "/opt/conda/lib/python3.10/site-packages/scipy/optimize/_numdiff.py:58: RuntimeWarning: invalid value encountered in subtract\n",
      "  upper_dist = ub - x0\n",
      "/opt/conda/lib/python3.10/site-packages/scipy/optimize/_numdiff.py:591: RuntimeWarning: invalid value encountered in scalar subtract\n",
      "  dx = x1[i] - x0[i]  # Recompute dx as exactly representable number.\n"
     ]
    },
    {
     "name": "stdout",
     "output_type": "stream",
     "text": [
      "Processing NWB file: /data/photometry/vary_a_power/FIP_000163_2024-08-06_10-01-24/FIP_000163_2024-08-06_10-01-24.nwb\n",
      "Processing with method exp failed. Continuing...\n"
     ]
    },
    {
     "name": "stderr",
     "output_type": "stream",
     "text": [
      "/opt/conda/lib/python3.10/site-packages/scipy/optimize/_numdiff.py:503: RuntimeWarning: invalid value encountered in subtract\n",
      "  dx = ((x0 + h) - x0)\n",
      "/opt/conda/lib/python3.10/site-packages/scipy/optimize/_numdiff.py:58: RuntimeWarning: invalid value encountered in subtract\n",
      "  upper_dist = ub - x0\n",
      "/opt/conda/lib/python3.10/site-packages/scipy/optimize/_numdiff.py:591: RuntimeWarning: invalid value encountered in scalar subtract\n",
      "  dx = x1[i] - x0[i]  # Recompute dx as exactly representable number.\n"
     ]
    },
    {
     "ename": "ValueError",
     "evalue": "setting an array element with a sequence. The requested array has an inhomogeneous shape after 2 dimensions. The detected shape was (2, 3) + inhomogeneous part.",
     "output_type": "error",
     "traceback": [
      "\u001b[0;31m---------------------------------------------------------------------------\u001b[0m",
      "\u001b[0;31mValueError\u001b[0m                                Traceback (most recent call last)",
      "Cell \u001b[0;32mIn[12], line 4\u001b[0m\n\u001b[1;32m      2\u001b[0m \u001b[38;5;28;01mfor\u001b[39;00m parent \u001b[38;5;129;01min\u001b[39;00m parents:\n\u001b[1;32m      3\u001b[0m     \u001b[38;5;28mprint\u001b[39m(parent)\n\u001b[0;32m----> 4\u001b[0m     results\u001b[38;5;241m.\u001b[39mappend(\u001b[43mevaluate\u001b[49m\u001b[43m(\u001b[49m\u001b[43mparent\u001b[49m\u001b[43m)\u001b[49m)\n",
      "Cell \u001b[0;32mIn[6], line 27\u001b[0m, in \u001b[0;36mevaluate\u001b[0;34m(parent)\u001b[0m\n\u001b[1;32m     25\u001b[0m \u001b[38;5;28;01mfor\u001b[39;00m pre \u001b[38;5;129;01min\u001b[39;00m (\u001b[38;5;124m\"\u001b[39m\u001b[38;5;124mpoly\u001b[39m\u001b[38;5;124m\"\u001b[39m, \u001b[38;5;124m\"\u001b[39m\u001b[38;5;124mexp\u001b[39m\u001b[38;5;124m\"\u001b[39m, \u001b[38;5;124m\"\u001b[39m\u001b[38;5;124mbright\u001b[39m\u001b[38;5;124m\"\u001b[39m):\n\u001b[1;32m     26\u001b[0m     df \u001b[38;5;241m=\u001b[39m df_fip_pp_nwb[df_fip_pp_nwb[\u001b[38;5;124m\"\u001b[39m\u001b[38;5;124mpreprocess\u001b[39m\u001b[38;5;124m\"\u001b[39m]\u001b[38;5;241m==\u001b[39mpre]\n\u001b[0;32m---> 27\u001b[0m     dFF \u001b[38;5;241m=\u001b[39m \u001b[43mnp\u001b[49m\u001b[38;5;241;43m.\u001b[39;49m\u001b[43marray\u001b[49m\u001b[43m(\u001b[49m\u001b[43m[\u001b[49m\u001b[43m[\u001b[49m\u001b[43mdf\u001b[49m\u001b[43m[\u001b[49m\u001b[43m(\u001b[49m\u001b[43mdf\u001b[49m\u001b[43m[\u001b[49m\u001b[38;5;124;43m\"\u001b[39;49m\u001b[38;5;124;43mchannel\u001b[39;49m\u001b[38;5;124;43m\"\u001b[39;49m\u001b[43m]\u001b[49m\u001b[43m \u001b[49m\u001b[38;5;241;43m==\u001b[39;49m\u001b[43m \u001b[49m\u001b[43mch\u001b[49m\u001b[43m)\u001b[49m\u001b[43m \u001b[49m\u001b[38;5;241;43m&\u001b[39;49m\u001b[43m \u001b[49m\u001b[43m(\u001b[49m\u001b[43mdf\u001b[49m\u001b[43m[\u001b[49m\u001b[38;5;124;43m\"\u001b[39;49m\u001b[38;5;124;43mfiber_number\u001b[39;49m\u001b[38;5;124;43m\"\u001b[39;49m\u001b[43m]\u001b[49m\u001b[43m \u001b[49m\u001b[38;5;241;43m==\u001b[39;49m\u001b[43m \u001b[49m\u001b[43mfiber\u001b[49m\u001b[43m)\u001b[49m\u001b[43m]\u001b[49m\u001b[43m[\u001b[49m\u001b[38;5;124;43m\"\u001b[39;49m\u001b[38;5;124;43msignal\u001b[39;49m\u001b[38;5;124;43m\"\u001b[39;49m\u001b[43m]\u001b[49m\n\u001b[1;32m     28\u001b[0m \u001b[43m                     \u001b[49m\u001b[38;5;28;43;01mfor\u001b[39;49;00m\u001b[43m \u001b[49m\u001b[43mch\u001b[49m\u001b[43m \u001b[49m\u001b[38;5;129;43;01min\u001b[39;49;00m\u001b[43m \u001b[49m\u001b[43m[\u001b[49m\u001b[38;5;124;43m'\u001b[39;49m\u001b[38;5;124;43mIso\u001b[39;49m\u001b[38;5;124;43m'\u001b[39;49m\u001b[43m,\u001b[49m\u001b[43m \u001b[49m\u001b[38;5;124;43m'\u001b[39;49m\u001b[38;5;124;43mG\u001b[39;49m\u001b[38;5;124;43m'\u001b[39;49m\u001b[43m,\u001b[49m\u001b[43m \u001b[49m\u001b[38;5;124;43m'\u001b[39;49m\u001b[38;5;124;43mR\u001b[39;49m\u001b[38;5;124;43m'\u001b[39;49m\u001b[43m]\u001b[49m\u001b[43m]\u001b[49m\u001b[43m \u001b[49m\u001b[38;5;28;43;01mfor\u001b[39;49;00m\u001b[43m \u001b[49m\u001b[43mfiber\u001b[49m\u001b[43m \u001b[49m\u001b[38;5;129;43;01min\u001b[39;49;00m\u001b[43m \u001b[49m\u001b[43mdf_fip_pp_nwb\u001b[49m\u001b[43m[\u001b[49m\u001b[38;5;124;43m\"\u001b[39;49m\u001b[38;5;124;43mfiber_number\u001b[39;49m\u001b[38;5;124;43m\"\u001b[39;49m\u001b[43m]\u001b[49m\u001b[38;5;241;43m.\u001b[39;49m\u001b[43munique\u001b[49m\u001b[43m(\u001b[49m\u001b[43m)\u001b[49m\u001b[43m]\u001b[49m\u001b[43m)\u001b[49m\n\u001b[1;32m     29\u001b[0m     tmp\u001b[38;5;241m.\u001b[39mappend([RMSE(dFF, dFF_gt), bias(dFF, dFF_gt), std_of_diff(dFF, dFF_gt)])\n\u001b[1;32m     30\u001b[0m perf\u001b[38;5;241m.\u001b[39mappend(tmp)\n",
      "\u001b[0;31mValueError\u001b[0m: setting an array element with a sequence. The requested array has an inhomogeneous shape after 2 dimensions. The detected shape was (2, 3) + inhomogeneous part."
     ]
    }
   ],
   "source": [
    "results = []\n",
    "for parent in parents:\n",
    "    print(parent)\n",
    "    results.append(evaluate(parent))"
   ]
  },
  {
   "cell_type": "code",
   "execution_count": 10,
   "id": "4a9831ef-e4ae-4a09-8acb-af82fd92fa38",
   "metadata": {
    "tags": []
   },
   "outputs": [
    {
     "ename": "ValueError",
     "evalue": "setting an array element with a sequence. The requested array has an inhomogeneous shape after 2 dimensions. The detected shape was (2, 3) + inhomogeneous part.",
     "output_type": "error",
     "traceback": [
      "\u001b[0;31m---------------------------------------------------------------------------\u001b[0m",
      "\u001b[0;31mRemoteTraceback\u001b[0m                           Traceback (most recent call last)",
      "\u001b[0;31mRemoteTraceback\u001b[0m: \n\"\"\"\nTraceback (most recent call last):\n  File \"/opt/conda/lib/python3.10/multiprocessing/pool.py\", line 125, in worker\n    result = (True, func(*args, **kwds))\n  File \"/opt/conda/lib/python3.10/multiprocessing/pool.py\", line 48, in mapstar\n    return list(map(*args))\n  File \"/tmp/ipykernel_49/3996902805.py\", line 27, in evaluate\n    dFF = np.array([[df[(df[\"channel\"] == ch) & (df[\"fiber_number\"] == fiber)][\"signal\"]\nValueError: setting an array element with a sequence. The requested array has an inhomogeneous shape after 2 dimensions. The detected shape was (2, 3) + inhomogeneous part.\n\"\"\"",
      "\nThe above exception was the direct cause of the following exception:\n",
      "\u001b[0;31mValueError\u001b[0m                                Traceback (most recent call last)",
      "Cell \u001b[0;32mIn[10], line 1\u001b[0m\n\u001b[0;32m----> 1\u001b[0m results \u001b[38;5;241m=\u001b[39m \u001b[43mPool\u001b[49m\u001b[43m(\u001b[49m\u001b[38;5;28;43mint\u001b[39;49m\u001b[43m(\u001b[49m\u001b[43mos\u001b[49m\u001b[38;5;241;43m.\u001b[39;49m\u001b[43menviron\u001b[49m\u001b[43m[\u001b[49m\u001b[38;5;124;43m'\u001b[39;49m\u001b[38;5;124;43mCO_CPUS\u001b[39;49m\u001b[38;5;124;43m'\u001b[39;49m\u001b[43m]\u001b[49m\u001b[43m)\u001b[49m\u001b[43m)\u001b[49m\u001b[38;5;241;43m.\u001b[39;49m\u001b[43mmap\u001b[49m\u001b[43m(\u001b[49m\u001b[43mevaluate\u001b[49m\u001b[43m,\u001b[49m\u001b[43m \u001b[49m\u001b[43mparents\u001b[49m\u001b[43m)\u001b[49m\n",
      "File \u001b[0;32m/opt/conda/lib/python3.10/multiprocessing/pool.py:367\u001b[0m, in \u001b[0;36mPool.map\u001b[0;34m(self, func, iterable, chunksize)\u001b[0m\n\u001b[1;32m    362\u001b[0m \u001b[38;5;28;01mdef\u001b[39;00m \u001b[38;5;21mmap\u001b[39m(\u001b[38;5;28mself\u001b[39m, func, iterable, chunksize\u001b[38;5;241m=\u001b[39m\u001b[38;5;28;01mNone\u001b[39;00m):\n\u001b[1;32m    363\u001b[0m \u001b[38;5;250m    \u001b[39m\u001b[38;5;124;03m'''\u001b[39;00m\n\u001b[1;32m    364\u001b[0m \u001b[38;5;124;03m    Apply `func` to each element in `iterable`, collecting the results\u001b[39;00m\n\u001b[1;32m    365\u001b[0m \u001b[38;5;124;03m    in a list that is returned.\u001b[39;00m\n\u001b[1;32m    366\u001b[0m \u001b[38;5;124;03m    '''\u001b[39;00m\n\u001b[0;32m--> 367\u001b[0m     \u001b[38;5;28;01mreturn\u001b[39;00m \u001b[38;5;28;43mself\u001b[39;49m\u001b[38;5;241;43m.\u001b[39;49m\u001b[43m_map_async\u001b[49m\u001b[43m(\u001b[49m\u001b[43mfunc\u001b[49m\u001b[43m,\u001b[49m\u001b[43m \u001b[49m\u001b[43miterable\u001b[49m\u001b[43m,\u001b[49m\u001b[43m \u001b[49m\u001b[43mmapstar\u001b[49m\u001b[43m,\u001b[49m\u001b[43m \u001b[49m\u001b[43mchunksize\u001b[49m\u001b[43m)\u001b[49m\u001b[38;5;241;43m.\u001b[39;49m\u001b[43mget\u001b[49m\u001b[43m(\u001b[49m\u001b[43m)\u001b[49m\n",
      "File \u001b[0;32m/opt/conda/lib/python3.10/multiprocessing/pool.py:774\u001b[0m, in \u001b[0;36mApplyResult.get\u001b[0;34m(self, timeout)\u001b[0m\n\u001b[1;32m    772\u001b[0m     \u001b[38;5;28;01mreturn\u001b[39;00m \u001b[38;5;28mself\u001b[39m\u001b[38;5;241m.\u001b[39m_value\n\u001b[1;32m    773\u001b[0m \u001b[38;5;28;01melse\u001b[39;00m:\n\u001b[0;32m--> 774\u001b[0m     \u001b[38;5;28;01mraise\u001b[39;00m \u001b[38;5;28mself\u001b[39m\u001b[38;5;241m.\u001b[39m_value\n",
      "\u001b[0;31mValueError\u001b[0m: setting an array element with a sequence. The requested array has an inhomogeneous shape after 2 dimensions. The detected shape was (2, 3) + inhomogeneous part."
     ]
    },
    {
     "name": "stdout",
     "output_type": "stream",
     "text": [
      "CPU times: user 190 ms, sys: 104 ms, total: 294 ms\n",
      "Wall time: 50min 13s\n"
     ]
    }
   ],
   "source": [
    "%%time\n",
    "%%capture\n",
    "results = Pool(int(os.environ['CO_CPUS'])).map(evaluate, parents)"
   ]
  },
  {
   "cell_type": "code",
   "execution_count": 11,
   "id": "a5766c9a-1813-4422-8f67-575455d9fcb9",
   "metadata": {
    "tags": []
   },
   "outputs": [
    {
     "ename": "NameError",
     "evalue": "name 'results' is not defined",
     "output_type": "error",
     "traceback": [
      "\u001b[0;31m---------------------------------------------------------------------------\u001b[0m",
      "\u001b[0;31mNameError\u001b[0m                                 Traceback (most recent call last)",
      "Cell \u001b[0;32mIn[11], line 3\u001b[0m\n\u001b[1;32m      1\u001b[0m \u001b[38;5;66;03m# Save to a pickle file\u001b[39;00m\n\u001b[1;32m      2\u001b[0m \u001b[38;5;28;01mwith\u001b[39;00m \u001b[38;5;28mopen\u001b[39m(\u001b[38;5;124m'\u001b[39m\u001b[38;5;124mcomparison.pkl\u001b[39m\u001b[38;5;124m'\u001b[39m, \u001b[38;5;124m'\u001b[39m\u001b[38;5;124mwb\u001b[39m\u001b[38;5;124m'\u001b[39m) \u001b[38;5;28;01mas\u001b[39;00m f:\n\u001b[0;32m----> 3\u001b[0m     pickle\u001b[38;5;241m.\u001b[39mdump(\u001b[43mresults\u001b[49m, f)\n",
      "\u001b[0;31mNameError\u001b[0m: name 'results' is not defined"
     ]
    }
   ],
   "source": [
    "# Save to a pickle file\n",
    "with open('comparison.pkl', 'wb') as f:\n",
    "    pickle.dump(results, f)"
   ]
  },
  {
   "cell_type": "code",
   "execution_count": null,
   "id": "98a90c9e-9b2e-4266-a098-106186b01042",
   "metadata": {
    "tags": []
   },
   "outputs": [],
   "source": [
    "rows = len(results)\n",
    "fig = plt.figure(layout=\"constrained\", figsize=(12,2.5*rows))\n",
    "subfigs = fig.subfigures(rows, 3, wspace=0.05)\n",
    "for row in range(rows):\n",
    "    params, perf = results[row]\n",
    "    vary = parents[row].split('/')[-1][5:]\n",
    "    for col in range(3):\n",
    "        ax0, ax1 = subfigs[row, col].subplots(1, 2, width_ratios=[4, 1], sharey=True)\n",
    "        for k in range(len(perf[0])):\n",
    "            ax0.scatter(params[...,0].ravel(), perf[:,k,col,:,0].ravel(), c=f'C{k}', s=50, marker='+')\n",
    "            ax0.scatter(params[...,1].ravel(), perf[:,k,col,:,1].ravel(), c=f'C{k}', s=20, marker='o')\n",
    "            ax0.scatter(params[...,2].ravel(), perf[:,k,col,:,2].ravel(), c=f'C{k}', s=50, marker='x')\n",
    "            ax1.boxplot(perf[:,k,col].ravel(),\n",
    "                        positions=[k], widths=.7, showmeans=True, notch=True,\n",
    "                        boxprops=dict(color=f'C{k}'), flierprops=dict(markeredgecolor=f'C{k}'),\n",
    "                        meanprops=dict(markerfacecolor=f'C{k}', markeredgecolor=f'C{k}', markersize=3))\n",
    "            ax1.set_xticks([])\n",
    "        if col+row==0:\n",
    "            ax0.legend(handles=[Patch(color='C0', label='poly'),\n",
    "                                Patch(color='C1', label='exp'),\n",
    "                                Patch(color='C2', label='bright'),\n",
    "                                Line2D([], [], color='k', markersize=7, marker='+', linestyle='None', label='Isosbestic'),\n",
    "                                Line2D([], [], color='k', markersize=4, marker='o', linestyle='None', label='Green'),\n",
    "                                Line2D([], [], color='k', markersize=7, marker='x', linestyle='None', label='Red')],\n",
    "                      loc=(-.2,.4))\n",
    "        ax0.set_xlabel(vary)\n",
    "        ax0.set_ylabel(['RMSE', 'bias', 'std'][col])\n",
    "        if row==0:\n",
    "            ax0.set_title('dF/F')"
   ]
  },
  {
   "cell_type": "code",
   "execution_count": null,
   "id": "0f2140c8-9478-46c3-9c8f-6bf8090dbe95",
   "metadata": {},
   "outputs": [],
   "source": []
  }
 ],
 "metadata": {
  "kernelspec": {
   "display_name": "Python 3 (ipykernel)",
   "language": "python",
   "name": "python3"
  },
  "language_info": {
   "codemirror_mode": {
    "name": "ipython",
    "version": 3
   },
   "file_extension": ".py",
   "mimetype": "text/x-python",
   "name": "python",
   "nbconvert_exporter": "python",
   "pygments_lexer": "ipython3",
   "version": "3.10.12"
  }
 },
 "nbformat": 4,
 "nbformat_minor": 5
}
