{
 "cells": [
  {
   "cell_type": "code",
   "execution_count": 1,
   "id": "8f727d39-39ee-488a-b3e4-0b8e703baeee",
   "metadata": {
    "tags": []
   },
   "outputs": [
    {
     "name": "stdout",
     "output_type": "stream",
     "text": [
      "Collecting matplotlib\n",
      "  Downloading matplotlib-3.9.1.post1-cp310-cp310-manylinux_2_17_x86_64.manylinux2014_x86_64.whl (8.3 MB)\n",
      "\u001b[2K     \u001b[90m━━━━━━━━━━━━━━━━━━━━━━━━━━━━━━━━━━━━━━━━\u001b[0m \u001b[32m8.3/8.3 MB\u001b[0m \u001b[31m62.6 MB/s\u001b[0m eta \u001b[36m0:00:00\u001b[0m00:01\u001b[0m00:01\u001b[0m\n",
      "\u001b[?25hCollecting contourpy>=1.0.1 (from matplotlib)\n",
      "  Downloading contourpy-1.2.1-cp310-cp310-manylinux_2_17_x86_64.manylinux2014_x86_64.whl (305 kB)\n",
      "\u001b[2K     \u001b[90m━━━━━━━━━━━━━━━━━━━━━━━━━━━━━━━━━━━━━━\u001b[0m \u001b[32m305.2/305.2 kB\u001b[0m \u001b[31m48.7 MB/s\u001b[0m eta \u001b[36m0:00:00\u001b[0m\n",
      "\u001b[?25hCollecting cycler>=0.10 (from matplotlib)\n",
      "  Downloading cycler-0.12.1-py3-none-any.whl (8.3 kB)\n",
      "Collecting fonttools>=4.22.0 (from matplotlib)\n",
      "  Downloading fonttools-4.53.1-cp310-cp310-manylinux_2_17_x86_64.manylinux2014_x86_64.whl (4.6 MB)\n",
      "\u001b[2K     \u001b[90m━━━━━━━━━━━━━━━━━━━━━━━━━━━━━━━━━━━━━━━━\u001b[0m \u001b[32m4.6/4.6 MB\u001b[0m \u001b[31m76.1 MB/s\u001b[0m eta \u001b[36m0:00:00\u001b[0m:00:01\u001b[0m\n",
      "\u001b[?25hCollecting kiwisolver>=1.3.1 (from matplotlib)\n",
      "  Downloading kiwisolver-1.4.5-cp310-cp310-manylinux_2_12_x86_64.manylinux2010_x86_64.whl (1.6 MB)\n",
      "\u001b[2K     \u001b[90m━━━━━━━━━━━━━━━━━━━━━━━━━━━━━━━━━━━━━━━━\u001b[0m \u001b[32m1.6/1.6 MB\u001b[0m \u001b[31m106.7 MB/s\u001b[0m eta \u001b[36m0:00:00\u001b[0m\n",
      "\u001b[?25hRequirement already satisfied: numpy>=1.23 in /opt/conda/lib/python3.10/site-packages (from matplotlib) (1.26.4)\n",
      "Requirement already satisfied: packaging>=20.0 in /opt/conda/lib/python3.10/site-packages (from matplotlib) (23.1)\n",
      "Collecting pillow>=8 (from matplotlib)\n",
      "  Downloading pillow-10.4.0-cp310-cp310-manylinux_2_28_x86_64.whl (4.5 MB)\n",
      "\u001b[2K     \u001b[90m━━━━━━━━━━━━━━━━━━━━━━━━━━━━━━━━━━━━━━━━\u001b[0m \u001b[32m4.5/4.5 MB\u001b[0m \u001b[31m118.3 MB/s\u001b[0m eta \u001b[36m0:00:00\u001b[0m00:01\u001b[0m\n",
      "\u001b[?25hCollecting pyparsing>=2.3.1 (from matplotlib)\n",
      "  Downloading pyparsing-3.1.2-py3-none-any.whl (103 kB)\n",
      "\u001b[2K     \u001b[90m━━━━━━━━━━━━━━━━━━━━━━━━━━━━━━━━━━━━━━\u001b[0m \u001b[32m103.2/103.2 kB\u001b[0m \u001b[31m28.2 MB/s\u001b[0m eta \u001b[36m0:00:00\u001b[0m\n",
      "\u001b[?25hRequirement already satisfied: python-dateutil>=2.7 in /opt/conda/lib/python3.10/site-packages (from matplotlib) (2.8.2)\n",
      "Requirement already satisfied: six>=1.5 in /opt/conda/lib/python3.10/site-packages (from python-dateutil>=2.7->matplotlib) (1.16.0)\n",
      "Installing collected packages: pyparsing, pillow, kiwisolver, fonttools, cycler, contourpy, matplotlib\n",
      "Successfully installed contourpy-1.2.1 cycler-0.12.1 fonttools-4.53.1 kiwisolver-1.4.5 matplotlib-3.9.1.post1 pillow-10.4.0 pyparsing-3.1.2\n",
      "\u001b[33mWARNING: Running pip as the 'root' user can result in broken permissions and conflicting behaviour with the system package manager. It is recommended to use a virtual environment instead: https://pip.pypa.io/warnings/venv\u001b[0m\u001b[33m\n",
      "\u001b[0m"
     ]
    }
   ],
   "source": [
    "!pip install matplotlib"
   ]
  },
  {
   "cell_type": "code",
   "execution_count": 1,
   "id": "a4415fb3-5222-45e8-b4c5-bfc7f12b7033",
   "metadata": {
    "tags": []
   },
   "outputs": [],
   "source": [
    "import glob\n",
    "import os\n",
    "from multiprocessing import Pool\n",
    "from pathlib import Path\n",
    "import pickle\n",
    "\n",
    "import h5py\n",
    "from matplotlib.lines import Line2D\n",
    "from matplotlib.patches import Patch\n",
    "import matplotlib.pyplot as plt\n",
    "import numpy as np\n",
    "import pandas as pd\n",
    "from hdmf_zarr import NWBZarrIO\n",
    "\n",
    "import utils.new_preprocess as nwp\n",
    "import utils.nwb_dict_utils as nwb_utils"
   ]
  },
  {
   "cell_type": "code",
   "execution_count": 2,
   "id": "94d00b64-d204-4b24-8b4b-f23c6080e315",
   "metadata": {
    "tags": []
   },
   "outputs": [],
   "source": [
    "# https://pandas.pydata.org/pandas-docs/stable/user_guide/indexing.html#returning-a-view-versus-a-copy\n",
    "pd.options.mode.copy_on_write = True"
   ]
  },
  {
   "cell_type": "code",
   "execution_count": 3,
   "id": "6ede5098-4b56-4d95-b5e4-de45d1050f0c",
   "metadata": {
    "tags": []
   },
   "outputs": [],
   "source": [
    "def RMSE(x,y):\n",
    "    return np.sqrt(np.mean((x-y)**2, -1))\n",
    "\n",
    "def bias(x,y):\n",
    "    return np.mean(x-y, -1)\n",
    "\n",
    "def std_of_diff(x,y):\n",
    "    return np.std(x-y, -1)"
   ]
  },
  {
   "cell_type": "code",
   "execution_count": 4,
   "id": "d9e08ca6-1545-496f-ae0b-9ec24e2cb81e",
   "metadata": {
    "tags": []
   },
   "outputs": [
    {
     "data": {
      "text/plain": [
       "['/data/photometry/vary_a_max',\n",
       " '/data/photometry/vary_a_power',\n",
       " '/data/photometry/vary_attenuation',\n",
       " '/data/photometry/vary_b_bright',\n",
       " '/data/photometry/vary_b_fast',\n",
       " '/data/photometry/vary_b_inf',\n",
       " '/data/photometry/vary_b_slow',\n",
       " '/data/photometry/vary_corr_s',\n",
       " '/data/photometry/vary_decay',\n",
       " '/data/photometry/vary_motion_power',\n",
       " '/data/photometry/vary_noise_std',\n",
       " '/data/photometry/vary_t_bright',\n",
       " '/data/photometry/vary_t_fast',\n",
       " '/data/photometry/vary_t_slow']"
      ]
     },
     "execution_count": 4,
     "metadata": {},
     "output_type": "execute_result"
    }
   ],
   "source": [
    "parents = sorted(glob.glob(\"/data/photometry/vary*\"))\n",
    "parents"
   ]
  },
  {
   "cell_type": "code",
   "execution_count": 5,
   "id": "a0e408b2-f467-4bfa-8e2b-dccc5f87d6da",
   "metadata": {
    "tags": []
   },
   "outputs": [],
   "source": [
    "def evaluate(parent):\n",
    "    perf = []\n",
    "    params = []\n",
    "    vary = parent.split('/')[-1][5:]\n",
    "    for nwb_file in sorted(glob.glob(f\"{parent}/*/*.nwb\")):\n",
    "        print(f\"Processing NWB file: {nwb_file}\")\n",
    "        p = pd.read_csv(Path(nwb_file).parent / \"parameters.csv\", delimiter=\",\", index_col=0)\n",
    "        p = list(p[vary])\n",
    "        params.append([p[:3], p[3:6]])\n",
    "        with h5py.File(Path(nwb_file).parent / 'groundtruth.h5') as file:\n",
    "            dFF_gt = [file[f'fiber{f}']['dff'][:] for f in (0,1)]\n",
    "\n",
    "        with NWBZarrIO(path=nwb_file, mode=\"r\") as io:\n",
    "            nwb = io.read()\n",
    "            # convert nwb to dataframe\n",
    "            df_from_nwb = nwb_utils.nwb_to_dataframe(nwb)\n",
    "            # add the session column\n",
    "            filename = Path(nwb_file).name\n",
    "            session_name = filename.split(\".\")[0].split(\"FIP_\")[1]\n",
    "            df_from_nwb.insert(0, \"session\", session_name)\n",
    "            # now pass the dataframe through the preprocessing function:\n",
    "            df_fip_pp_nwb, df_PP_params = nwp.batch_processing_new(df_fip=df_from_nwb)\n",
    "            # calculate performance measures\n",
    "            tmp = []\n",
    "            for pre in (\"poly\", \"exp\", \"bright\"):\n",
    "                df = df_fip_pp_nwb[df_fip_pp_nwb[\"preprocess\"]==pre]\n",
    "                dFF = np.array([[df[(df[\"channel\"] == ch) & (df[\"fiber_number\"] == fiber)][\"signal\"]\n",
    "                                 for ch in ['Iso', 'G', 'R']] for fiber in df_fip_pp_nwb[\"fiber_number\"].unique()])\n",
    "                tmp.append([RMSE(dFF, dFF_gt), bias(dFF, dFF_gt), std_of_diff(dFF, dFF_gt)])\n",
    "            perf.append(tmp)\n",
    "\n",
    "    return (np.array(params), # indices: expId, fiber, channel\n",
    "            np.array(perf))   # indices: expId, method, performance_measure, fiber, channel"
   ]
  },
  {
   "cell_type": "code",
   "execution_count": null,
   "id": "4ce5903d-52f1-45db-a1ca-2d0f3ba8bcc5",
   "metadata": {
    "tags": []
   },
   "outputs": [
    {
     "name": "stdout",
     "output_type": "stream",
     "text": [
      "/data/photometry/vary_corr_s\n",
      "Processing NWB file: /data/photometry/vary_corr_s/FIP_000164_2024-08-06_10-01-25/FIP_000164_2024-08-06_10-01-25.nwb\n",
      "Processing NWB file: /data/photometry/vary_corr_s/FIP_000165_2024-08-06_10-01-26/FIP_000165_2024-08-06_10-01-26.nwb\n"
     ]
    },
    {
     "name": "stderr",
     "output_type": "stream",
     "text": [
      "/root/capsule/code/utils/new_preprocess.py:96: RuntimeWarning: overflow encountered in exp\n",
      "  return a * np.exp(-b * x) + c * np.exp(-d * x)\n",
      "/root/capsule/code/utils/new_preprocess.py:96: RuntimeWarning: overflow encountered in multiply\n",
      "  return a * np.exp(-b * x) + c * np.exp(-d * x)\n",
      "/root/capsule/code/utils/new_preprocess.py:96: RuntimeWarning: overflow encountered in add\n",
      "  return a * np.exp(-b * x) + c * np.exp(-d * x)\n",
      "/opt/conda/lib/python3.10/site-packages/scipy/optimize/_numdiff.py:503: RuntimeWarning: invalid value encountered in subtract\n",
      "  dx = ((x0 + h) - x0)\n",
      "/opt/conda/lib/python3.10/site-packages/scipy/optimize/_numdiff.py:58: RuntimeWarning: invalid value encountered in subtract\n",
      "  upper_dist = ub - x0\n",
      "/opt/conda/lib/python3.10/site-packages/scipy/optimize/_numdiff.py:591: RuntimeWarning: invalid value encountered in scalar subtract\n",
      "  dx = x1[i] - x0[i]  # Recompute dx as exactly representable number.\n"
     ]
    },
    {
     "name": "stdout",
     "output_type": "stream",
     "text": [
      "Processing NWB file: /data/photometry/vary_corr_s/FIP_000166_2024-08-06_10-01-27/FIP_000166_2024-08-06_10-01-27.nwb\n"
     ]
    },
    {
     "name": "stderr",
     "output_type": "stream",
     "text": [
      "/root/capsule/code/utils/new_preprocess.py:96: RuntimeWarning: overflow encountered in exp\n",
      "  return a * np.exp(-b * x) + c * np.exp(-d * x)\n",
      "/root/capsule/code/utils/new_preprocess.py:96: RuntimeWarning: overflow encountered in multiply\n",
      "  return a * np.exp(-b * x) + c * np.exp(-d * x)\n",
      "/root/capsule/code/utils/new_preprocess.py:96: RuntimeWarning: overflow encountered in add\n",
      "  return a * np.exp(-b * x) + c * np.exp(-d * x)\n",
      "/opt/conda/lib/python3.10/site-packages/scipy/optimize/_numdiff.py:503: RuntimeWarning: invalid value encountered in subtract\n",
      "  dx = ((x0 + h) - x0)\n",
      "/opt/conda/lib/python3.10/site-packages/scipy/optimize/_numdiff.py:58: RuntimeWarning: invalid value encountered in subtract\n",
      "  upper_dist = ub - x0\n",
      "/opt/conda/lib/python3.10/site-packages/scipy/optimize/_numdiff.py:591: RuntimeWarning: invalid value encountered in scalar subtract\n",
      "  dx = x1[i] - x0[i]  # Recompute dx as exactly representable number.\n"
     ]
    },
    {
     "name": "stdout",
     "output_type": "stream",
     "text": [
      "Processing NWB file: /data/photometry/vary_corr_s/FIP_000167_2024-08-06_10-01-27/FIP_000167_2024-08-06_10-01-27.nwb\n"
     ]
    },
    {
     "name": "stderr",
     "output_type": "stream",
     "text": [
      "/root/capsule/code/utils/new_preprocess.py:96: RuntimeWarning: overflow encountered in exp\n",
      "  return a * np.exp(-b * x) + c * np.exp(-d * x)\n",
      "/root/capsule/code/utils/new_preprocess.py:96: RuntimeWarning: overflow encountered in multiply\n",
      "  return a * np.exp(-b * x) + c * np.exp(-d * x)\n",
      "/root/capsule/code/utils/new_preprocess.py:96: RuntimeWarning: overflow encountered in add\n",
      "  return a * np.exp(-b * x) + c * np.exp(-d * x)\n",
      "/opt/conda/lib/python3.10/site-packages/scipy/optimize/_numdiff.py:503: RuntimeWarning: invalid value encountered in subtract\n",
      "  dx = ((x0 + h) - x0)\n",
      "/opt/conda/lib/python3.10/site-packages/scipy/optimize/_numdiff.py:58: RuntimeWarning: invalid value encountered in subtract\n",
      "  upper_dist = ub - x0\n",
      "/opt/conda/lib/python3.10/site-packages/scipy/optimize/_numdiff.py:591: RuntimeWarning: invalid value encountered in scalar subtract\n",
      "  dx = x1[i] - x0[i]  # Recompute dx as exactly representable number.\n"
     ]
    },
    {
     "name": "stdout",
     "output_type": "stream",
     "text": [
      "Processing NWB file: /data/photometry/vary_corr_s/FIP_000168_2024-08-06_10-01-28/FIP_000168_2024-08-06_10-01-28.nwb\n"
     ]
    },
    {
     "name": "stderr",
     "output_type": "stream",
     "text": [
      "/root/capsule/code/utils/new_preprocess.py:96: RuntimeWarning: overflow encountered in exp\n",
      "  return a * np.exp(-b * x) + c * np.exp(-d * x)\n",
      "/root/capsule/code/utils/new_preprocess.py:96: RuntimeWarning: overflow encountered in multiply\n",
      "  return a * np.exp(-b * x) + c * np.exp(-d * x)\n",
      "/root/capsule/code/utils/new_preprocess.py:96: RuntimeWarning: overflow encountered in add\n",
      "  return a * np.exp(-b * x) + c * np.exp(-d * x)\n"
     ]
    },
    {
     "name": "stdout",
     "output_type": "stream",
     "text": [
      "Processing NWB file: /data/photometry/vary_corr_s/FIP_000169_2024-08-06_10-01-29/FIP_000169_2024-08-06_10-01-29.nwb\n"
     ]
    },
    {
     "name": "stderr",
     "output_type": "stream",
     "text": [
      "/root/capsule/code/utils/new_preprocess.py:96: RuntimeWarning: overflow encountered in exp\n",
      "  return a * np.exp(-b * x) + c * np.exp(-d * x)\n",
      "/root/capsule/code/utils/new_preprocess.py:96: RuntimeWarning: overflow encountered in multiply\n",
      "  return a * np.exp(-b * x) + c * np.exp(-d * x)\n",
      "/root/capsule/code/utils/new_preprocess.py:96: RuntimeWarning: overflow encountered in add\n",
      "  return a * np.exp(-b * x) + c * np.exp(-d * x)\n",
      "/root/capsule/code/utils/new_preprocess.py:96: RuntimeWarning: overflow encountered in exp\n",
      "  return a * np.exp(-b * x) + c * np.exp(-d * x)\n",
      "/root/capsule/code/utils/new_preprocess.py:96: RuntimeWarning: overflow encountered in add\n",
      "  return a * np.exp(-b * x) + c * np.exp(-d * x)\n",
      "/root/capsule/code/utils/new_preprocess.py:96: RuntimeWarning: overflow encountered in multiply\n",
      "  return a * np.exp(-b * x) + c * np.exp(-d * x)\n"
     ]
    },
    {
     "name": "stdout",
     "output_type": "stream",
     "text": [
      "Processing with method bright failed. Setting dF/F to nans.\n"
     ]
    }
   ],
   "source": [
    "results = []\n",
    "for parent in parents[7:]:\n",
    "    print(parent)\n",
    "    results.append(evaluate(parent))"
   ]
  },
  {
   "cell_type": "code",
   "execution_count": 10,
   "id": "4a9831ef-e4ae-4a09-8acb-af82fd92fa38",
   "metadata": {
    "tags": []
   },
   "outputs": [
    {
     "ename": "ValueError",
     "evalue": "setting an array element with a sequence. The requested array has an inhomogeneous shape after 2 dimensions. The detected shape was (2, 3) + inhomogeneous part.",
     "output_type": "error",
     "traceback": [
      "\u001b[0;31m---------------------------------------------------------------------------\u001b[0m",
      "\u001b[0;31mRemoteTraceback\u001b[0m                           Traceback (most recent call last)",
      "\u001b[0;31mRemoteTraceback\u001b[0m: \n\"\"\"\nTraceback (most recent call last):\n  File \"/opt/conda/lib/python3.10/multiprocessing/pool.py\", line 125, in worker\n    result = (True, func(*args, **kwds))\n  File \"/opt/conda/lib/python3.10/multiprocessing/pool.py\", line 48, in mapstar\n    return list(map(*args))\n  File \"/tmp/ipykernel_49/3996902805.py\", line 27, in evaluate\n    dFF = np.array([[df[(df[\"channel\"] == ch) & (df[\"fiber_number\"] == fiber)][\"signal\"]\nValueError: setting an array element with a sequence. The requested array has an inhomogeneous shape after 2 dimensions. The detected shape was (2, 3) + inhomogeneous part.\n\"\"\"",
      "\nThe above exception was the direct cause of the following exception:\n",
      "\u001b[0;31mValueError\u001b[0m                                Traceback (most recent call last)",
      "Cell \u001b[0;32mIn[10], line 1\u001b[0m\n\u001b[0;32m----> 1\u001b[0m results \u001b[38;5;241m=\u001b[39m \u001b[43mPool\u001b[49m\u001b[43m(\u001b[49m\u001b[38;5;28;43mint\u001b[39;49m\u001b[43m(\u001b[49m\u001b[43mos\u001b[49m\u001b[38;5;241;43m.\u001b[39;49m\u001b[43menviron\u001b[49m\u001b[43m[\u001b[49m\u001b[38;5;124;43m'\u001b[39;49m\u001b[38;5;124;43mCO_CPUS\u001b[39;49m\u001b[38;5;124;43m'\u001b[39;49m\u001b[43m]\u001b[49m\u001b[43m)\u001b[49m\u001b[43m)\u001b[49m\u001b[38;5;241;43m.\u001b[39;49m\u001b[43mmap\u001b[49m\u001b[43m(\u001b[49m\u001b[43mevaluate\u001b[49m\u001b[43m,\u001b[49m\u001b[43m \u001b[49m\u001b[43mparents\u001b[49m\u001b[43m)\u001b[49m\n",
      "File \u001b[0;32m/opt/conda/lib/python3.10/multiprocessing/pool.py:367\u001b[0m, in \u001b[0;36mPool.map\u001b[0;34m(self, func, iterable, chunksize)\u001b[0m\n\u001b[1;32m    362\u001b[0m \u001b[38;5;28;01mdef\u001b[39;00m \u001b[38;5;21mmap\u001b[39m(\u001b[38;5;28mself\u001b[39m, func, iterable, chunksize\u001b[38;5;241m=\u001b[39m\u001b[38;5;28;01mNone\u001b[39;00m):\n\u001b[1;32m    363\u001b[0m \u001b[38;5;250m    \u001b[39m\u001b[38;5;124;03m'''\u001b[39;00m\n\u001b[1;32m    364\u001b[0m \u001b[38;5;124;03m    Apply `func` to each element in `iterable`, collecting the results\u001b[39;00m\n\u001b[1;32m    365\u001b[0m \u001b[38;5;124;03m    in a list that is returned.\u001b[39;00m\n\u001b[1;32m    366\u001b[0m \u001b[38;5;124;03m    '''\u001b[39;00m\n\u001b[0;32m--> 367\u001b[0m     \u001b[38;5;28;01mreturn\u001b[39;00m \u001b[38;5;28;43mself\u001b[39;49m\u001b[38;5;241;43m.\u001b[39;49m\u001b[43m_map_async\u001b[49m\u001b[43m(\u001b[49m\u001b[43mfunc\u001b[49m\u001b[43m,\u001b[49m\u001b[43m \u001b[49m\u001b[43miterable\u001b[49m\u001b[43m,\u001b[49m\u001b[43m \u001b[49m\u001b[43mmapstar\u001b[49m\u001b[43m,\u001b[49m\u001b[43m \u001b[49m\u001b[43mchunksize\u001b[49m\u001b[43m)\u001b[49m\u001b[38;5;241;43m.\u001b[39;49m\u001b[43mget\u001b[49m\u001b[43m(\u001b[49m\u001b[43m)\u001b[49m\n",
      "File \u001b[0;32m/opt/conda/lib/python3.10/multiprocessing/pool.py:774\u001b[0m, in \u001b[0;36mApplyResult.get\u001b[0;34m(self, timeout)\u001b[0m\n\u001b[1;32m    772\u001b[0m     \u001b[38;5;28;01mreturn\u001b[39;00m \u001b[38;5;28mself\u001b[39m\u001b[38;5;241m.\u001b[39m_value\n\u001b[1;32m    773\u001b[0m \u001b[38;5;28;01melse\u001b[39;00m:\n\u001b[0;32m--> 774\u001b[0m     \u001b[38;5;28;01mraise\u001b[39;00m \u001b[38;5;28mself\u001b[39m\u001b[38;5;241m.\u001b[39m_value\n",
      "\u001b[0;31mValueError\u001b[0m: setting an array element with a sequence. The requested array has an inhomogeneous shape after 2 dimensions. The detected shape was (2, 3) + inhomogeneous part."
     ]
    },
    {
     "name": "stdout",
     "output_type": "stream",
     "text": [
      "CPU times: user 190 ms, sys: 104 ms, total: 294 ms\n",
      "Wall time: 50min 13s\n"
     ]
    }
   ],
   "source": [
    "%%time\n",
    "%%capture\n",
    "results = Pool(int(os.environ['CO_CPUS'])).map(evaluate, parents)"
   ]
  },
  {
   "cell_type": "code",
   "execution_count": null,
   "id": "a5766c9a-1813-4422-8f67-575455d9fcb9",
   "metadata": {
    "tags": []
   },
   "outputs": [],
   "source": [
    "# Save to a pickle file\n",
    "with open('comparison2.pkl', 'wb') as f:\n",
    "    pickle.dump(results, f)"
   ]
  },
  {
   "cell_type": "code",
   "execution_count": null,
   "id": "98a90c9e-9b2e-4266-a098-106186b01042",
   "metadata": {
    "tags": []
   },
   "outputs": [],
   "source": [
    "rows = len(results)\n",
    "fig = plt.figure(layout=\"constrained\", figsize=(12,2.5*rows))\n",
    "subfigs = fig.subfigures(rows, 3, wspace=0.05)\n",
    "for row in range(rows):\n",
    "    params, perf = results[row]\n",
    "    vary = parents[row].split('/')[-1][5:]\n",
    "    for col in range(3):\n",
    "        ax0, ax1 = subfigs[row, col].subplots(1, 2, width_ratios=[4, 1], sharey=True)\n",
    "        for k in range(len(perf[0])):\n",
    "            ax0.scatter(params[...,0].ravel(), perf[:,k,col,:,0].ravel(), c=f'C{k}', s=50, marker='+')\n",
    "            ax0.scatter(params[...,1].ravel(), perf[:,k,col,:,1].ravel(), c=f'C{k}', s=20, marker='o')\n",
    "            ax0.scatter(params[...,2].ravel(), perf[:,k,col,:,2].ravel(), c=f'C{k}', s=50, marker='x')\n",
    "            ax1.boxplot(perf[:,k,col].ravel(),\n",
    "                        positions=[k], widths=.7, showmeans=True, notch=True,\n",
    "                        boxprops=dict(color=f'C{k}'), flierprops=dict(markeredgecolor=f'C{k}'),\n",
    "                        meanprops=dict(markerfacecolor=f'C{k}', markeredgecolor=f'C{k}', markersize=3))\n",
    "            ax1.set_xticks([])\n",
    "        if col+row==0:\n",
    "            ax0.legend(handles=[Patch(color='C0', label='poly'),\n",
    "                                Patch(color='C1', label='exp'),\n",
    "                                Patch(color='C2', label='bright'),\n",
    "                                Line2D([], [], color='k', markersize=7, marker='+', linestyle='None', label='Isosbestic'),\n",
    "                                Line2D([], [], color='k', markersize=4, marker='o', linestyle='None', label='Green'),\n",
    "                                Line2D([], [], color='k', markersize=7, marker='x', linestyle='None', label='Red')],\n",
    "                      loc=(-.2,.4))\n",
    "        ax0.set_xlabel(vary)\n",
    "        ax0.set_ylabel(['RMSE', 'bias', 'std'][col])\n",
    "        if row==0:\n",
    "            ax0.set_title('dF/F')"
   ]
  },
  {
   "cell_type": "code",
   "execution_count": null,
   "id": "0f2140c8-9478-46c3-9c8f-6bf8090dbe95",
   "metadata": {},
   "outputs": [],
   "source": []
  }
 ],
 "metadata": {
  "kernelspec": {
   "display_name": "Python 3 (ipykernel)",
   "language": "python",
   "name": "python3"
  },
  "language_info": {
   "codemirror_mode": {
    "name": "ipython",
    "version": 3
   },
   "file_extension": ".py",
   "mimetype": "text/x-python",
   "name": "python",
   "nbconvert_exporter": "python",
   "pygments_lexer": "ipython3",
   "version": "3.10.12"
  }
 },
 "nbformat": 4,
 "nbformat_minor": 5
}
