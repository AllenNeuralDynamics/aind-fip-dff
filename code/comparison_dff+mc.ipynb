{
 "cells": [
  {
   "cell_type": "code",
   "execution_count": 1,
   "id": "8f727d39-39ee-488a-b3e4-0b8e703baeee",
   "metadata": {
    "tags": []
   },
   "outputs": [
    {
     "name": "stdout",
     "output_type": "stream",
     "text": [
      "Requirement already satisfied: matplotlib in /opt/conda/lib/python3.10/site-packages (3.9.2)\n",
      "Requirement already satisfied: contourpy>=1.0.1 in /opt/conda/lib/python3.10/site-packages (from matplotlib) (1.3.0)\n",
      "Requirement already satisfied: cycler>=0.10 in /opt/conda/lib/python3.10/site-packages (from matplotlib) (0.12.1)\n",
      "Requirement already satisfied: fonttools>=4.22.0 in /opt/conda/lib/python3.10/site-packages (from matplotlib) (4.54.1)\n",
      "Requirement already satisfied: kiwisolver>=1.3.1 in /opt/conda/lib/python3.10/site-packages (from matplotlib) (1.4.7)\n",
      "Requirement already satisfied: numpy>=1.23 in /opt/conda/lib/python3.10/site-packages (from matplotlib) (2.1.2)\n",
      "Requirement already satisfied: packaging>=20.0 in /opt/conda/lib/python3.10/site-packages (from matplotlib) (23.1)\n",
      "Requirement already satisfied: pillow>=8 in /opt/conda/lib/python3.10/site-packages (from matplotlib) (11.0.0)\n",
      "Requirement already satisfied: pyparsing>=2.3.1 in /opt/conda/lib/python3.10/site-packages (from matplotlib) (3.2.0)\n",
      "Requirement already satisfied: python-dateutil>=2.7 in /opt/conda/lib/python3.10/site-packages (from matplotlib) (2.8.2)\n",
      "Requirement already satisfied: six>=1.5 in /opt/conda/lib/python3.10/site-packages (from python-dateutil>=2.7->matplotlib) (1.16.0)\n",
      "\u001b[33mWARNING: Running pip as the 'root' user can result in broken permissions and conflicting behaviour with the system package manager. It is recommended to use a virtual environment instead: https://pip.pypa.io/warnings/venv\u001b[0m\u001b[33m\n",
      "\u001b[0m"
     ]
    }
   ],
   "source": [
    "!pip install matplotlib"
   ]
  },
  {
   "cell_type": "code",
   "execution_count": 2,
   "id": "a4415fb3-5222-45e8-b4c5-bfc7f12b7033",
   "metadata": {
    "tags": []
   },
   "outputs": [],
   "source": [
    "import glob\n",
    "import os\n",
    "from multiprocessing import Pool\n",
    "from pathlib import Path\n",
    "import pickle\n",
    "\n",
    "import h5py\n",
    "from matplotlib.lines import Line2D\n",
    "from matplotlib.patches import Patch\n",
    "import matplotlib.pyplot as plt\n",
    "import numpy as np\n",
    "import pandas as pd\n",
    "from hdmf_zarr import NWBZarrIO\n",
    "\n",
    "import utils.nwb_dict_utils as nwb_utils\n",
    "from utils.preprocess import batch_processing"
   ]
  },
  {
   "cell_type": "code",
   "execution_count": 3,
   "id": "94d00b64-d204-4b24-8b4b-f23c6080e315",
   "metadata": {
    "tags": []
   },
   "outputs": [],
   "source": [
    "# https://pandas.pydata.org/pandas-docs/stable/user_guide/indexing.html#returning-a-view-versus-a-copy\n",
    "pd.options.mode.copy_on_write = True"
   ]
  },
  {
   "cell_type": "code",
   "execution_count": 4,
   "id": "6ede5098-4b56-4d95-b5e4-de45d1050f0c",
   "metadata": {
    "tags": []
   },
   "outputs": [],
   "source": [
    "def RMSE(x,y):\n",
    "    return np.sqrt(np.mean((x-y)**2, -1))\n",
    "\n",
    "def bias(x,y):\n",
    "    return np.mean(x-y, -1)\n",
    "\n",
    "def std_of_diff(x,y):\n",
    "    return np.std(x-y, -1)\n",
    "\n",
    "def corr(x, y):\n",
    "    x = np.array(x)\n",
    "    y = np.array(y)\n",
    "    x = x-x.mean(-1)[...,None]\n",
    "    x /= x.std(-1)[...,None]\n",
    "    y = y-y.mean(-1)[...,None]\n",
    "    y /= y.std(-1)[...,None]\n",
    "    return np.mean(x*y, -1)"
   ]
  },
  {
   "cell_type": "code",
   "execution_count": 5,
   "id": "d9e08ca6-1545-496f-ae0b-9ec24e2cb81e",
   "metadata": {
    "tags": []
   },
   "outputs": [
    {
     "data": {
      "text/plain": [
       "['/data/photometry/vary_a_max',\n",
       " '/data/photometry/vary_a_power',\n",
       " '/data/photometry/vary_attenuation',\n",
       " '/data/photometry/vary_b_bright',\n",
       " '/data/photometry/vary_b_fast',\n",
       " '/data/photometry/vary_b_inf',\n",
       " '/data/photometry/vary_b_slow',\n",
       " '/data/photometry/vary_corr_s',\n",
       " '/data/photometry/vary_decay',\n",
       " '/data/photometry/vary_motion_power',\n",
       " '/data/photometry/vary_noise_std',\n",
       " '/data/photometry/vary_t_bright',\n",
       " '/data/photometry/vary_t_fast',\n",
       " '/data/photometry/vary_t_slow']"
      ]
     },
     "execution_count": 5,
     "metadata": {},
     "output_type": "execute_result"
    }
   ],
   "source": [
    "parents = sorted(glob.glob(\"/data/photometry/vary*\"))\n",
    "parents"
   ]
  },
  {
   "cell_type": "code",
   "execution_count": 6,
   "id": "a0e408b2-f467-4bfa-8e2b-dccc5f87d6da",
   "metadata": {
    "tags": []
   },
   "outputs": [],
   "source": [
    "def evaluate(parent):\n",
    "    perf_dff = []\n",
    "    perf_pp = []\n",
    "    params = []\n",
    "    dFFs = []\n",
    "    PPs = []\n",
    "    vary = parent.split('/')[-1][5:]\n",
    "    for nwb_file in sorted(glob.glob(f\"{parent}/*/*.nwb\")):\n",
    "        print(f\"Processing NWB file: {nwb_file}\")\n",
    "        p = pd.read_csv(Path(nwb_file).parent / \"parameters.csv\", delimiter=\",\", index_col=0)\n",
    "        p = list(p[vary])\n",
    "        params.append([p[:3], p[3:6]])\n",
    "        with h5py.File(Path(nwb_file).parent / 'groundtruth.h5') as file:\n",
    "            dFF_gt = [file[f'fiber{f}']['dff'][:] for f in (0,1)]\n",
    "\n",
    "        with NWBZarrIO(path=nwb_file, mode=\"r\") as io:\n",
    "            nwb = io.read()\n",
    "            # convert nwb to dataframe\n",
    "            df_from_nwb = nwb_utils.nwb_to_dataframe(nwb)\n",
    "            # add the session column\n",
    "            filename = Path(nwb_file).name\n",
    "            session_name = filename.split(\".\")[0].split(\"FIP_\")[1]\n",
    "            df_from_nwb.insert(0, \"session\", session_name)\n",
    "            # now pass the dataframe through the preprocessing function:\n",
    "            df_fip_pp_nwb, df_PP_params, df_fip_mc = batch_processing(df_fip=df_from_nwb)\n",
    "            # calculate performance measures\n",
    "            tmp, tmp2 = [], []\n",
    "            dFF, PP = [], []\n",
    "            for pre in (\"poly\", \"exp\", \"bright\"):\n",
    "                df = df_fip_pp_nwb[df_fip_pp_nwb[\"preprocess\"]==pre]\n",
    "                dFF.append(np.array([[df[(df[\"channel\"] == ch) & (df[\"fiber_number\"] == fiber)][\"signal\"]\n",
    "                                 for ch in ['Iso', 'G', 'R']] for fiber in df_fip_pp_nwb[\"fiber_number\"].unique()]))\n",
    "                tmp.append([RMSE(dFF[-1], dFF_gt), bias(dFF[-1], dFF_gt), std_of_diff(dFF[-1], dFF_gt), corr(dFF[-1], dFF_gt)])\n",
    "                df = df_fip_mc[df_fip_mc[\"preprocess\"]==pre]\n",
    "                PP.append(np.array([[df[(df[\"channel\"] == ch) & (df[\"fiber_number\"] == fiber)][\"signal\"]\n",
    "                                 for ch in ['Iso', 'G', 'R']] for fiber in df_fip_mc[\"fiber_number\"].unique()]))\n",
    "                tmp2.append([RMSE(PP[-1], dFF_gt), bias(PP[-1], dFF_gt), std_of_diff(PP[-1], dFF_gt), corr(PP[-1], dFF_gt)])\n",
    "            perf_dff.append(tmp)\n",
    "            dFFs.append(dFF)\n",
    "            perf_pp.append(tmp2)\n",
    "            PPs.append(PP)\n",
    "\n",
    "    return (np.array(params),  # indices: expId, fiber, channel\n",
    "            np.array(perf_dff),# indices: expId, method, performance_measure, fiber, channel\n",
    "            np.array(dFFs),    # indices: expId, method, fiber, channel, frame\n",
    "            np.array(perf_pp), # indices: expId, method, performance_measure, fiber, channel\n",
    "            np.array(PPs))    # indices: expId, method, fiber, channel, frame"
   ]
  },
  {
   "cell_type": "code",
   "execution_count": null,
   "id": "0b659cf8-7fb6-4c5e-b472-2b2c201f552a",
   "metadata": {
    "tags": []
   },
   "outputs": [],
   "source": [
    "%%time\n",
    "%%capture\n",
    "results = Pool(int(os.environ['CO_CPUS'])).map(evaluate, parents)"
   ]
  },
  {
   "cell_type": "code",
   "execution_count": null,
   "id": "6f84472b-6377-4eae-93ef-af3b373cf889",
   "metadata": {
    "tags": []
   },
   "outputs": [],
   "source": [
    "# Save to a pickle file\n",
    "with open('/scratch/comparison_dff+mc.pkl', 'wb') as f:\n",
    "    pickle.dump(results, f)"
   ]
  },
  {
   "cell_type": "markdown",
   "id": "778e5a2d-48e8-4938-b530-28b54dc776c8",
   "metadata": {},
   "source": [
    "#### Create comparison plot "
   ]
  },
  {
   "cell_type": "code",
   "execution_count": null,
   "id": "98a90c9e-9b2e-4266-a098-106186b01042",
   "metadata": {
    "tags": []
   },
   "outputs": [],
   "source": [
    "rows = len(results)\n",
    "for pre in (\"dff\", \"dff+mc\"):\n",
    "    fig = plt.figure(layout=\"constrained\", figsize=(16,2.5*rows))\n",
    "    subfigs = fig.subfigures(rows, 4, wspace=0.05)\n",
    "    for row in range(rows):\n",
    "        params = results[row][0]\n",
    "        perf = results[row][1 if pre==\"dff\" else 3]\n",
    "        vary = parents[row].split('/')[-1][5:]\n",
    "        for col in range(4):\n",
    "            ax0, ax1 = subfigs[row, col].subplots(1, 2, width_ratios=[4, 1], sharey=True)\n",
    "            for k in range(len(perf[0])):\n",
    "                ax0.scatter(params[...,0].ravel(), perf[:,k,col,:,0].ravel(), c=f'C{k}', s=50, marker='+')\n",
    "                ax0.scatter(params[...,1].ravel(), perf[:,k,col,:,1].ravel(), c=f'C{k}', s=20, marker='o')\n",
    "                ax0.scatter(params[...,2].ravel(), perf[:,k,col,:,2].ravel(), c=f'C{k}', s=50, marker='x')\n",
    "                tmp = perf[:,k,col].ravel()\n",
    "                ax1.boxplot(tmp[~np.isnan(tmp)],\n",
    "                            positions=[k], widths=.7, showmeans=True, notch=True,\n",
    "                            boxprops=dict(color=f'C{k}'), flierprops=dict(markeredgecolor=f'C{k}'),\n",
    "                            meanprops=dict(markerfacecolor=f'C{k}', markeredgecolor=f'C{k}', markersize=3))\n",
    "                ax1.set_xticks([])\n",
    "            if col+row==0:\n",
    "                ax0.legend(handles=[Patch(color='C0', label='poly'),\n",
    "                                    Patch(color='C1', label='exp'),\n",
    "                                    Patch(color='C2', label='bright'),\n",
    "                                    Line2D([], [], color='k', markersize=7, marker='+', linestyle='None', label='Isosbestic'),\n",
    "                                    Line2D([], [], color='k', markersize=4, marker='o', linestyle='None', label='Green'),\n",
    "                                    Line2D([], [], color='k', markersize=7, marker='x', linestyle='None', label='Red')],\n",
    "                          loc=(-.2,.4))\n",
    "            ax0.set_xlabel(vary)\n",
    "            ax0.set_ylabel(['RMSE', 'bias', 'std', 'corr'][col])\n",
    "            if row==0:\n",
    "                ax0.set_title('dF/F' if pre==\"dff\" else 'dF/F + mc')\n",
    "    plt.savefig(f\"/scratch/comparison_{pre}.pdf\")"
   ]
  },
  {
   "cell_type": "code",
   "execution_count": null,
   "id": "10df66a0-0346-43fd-8b6d-82473540605c",
   "metadata": {
    "tags": []
   },
   "outputs": [],
   "source": [
    "# RMSE of dF/F for each method over all simulations\n",
    "print(np.mean([[results[row][1][:,m,0].mean() for m in (0,1,2)] for row in range(rows)], 0))\n",
    "print(np.sum([[results[row][1][:,m,0].sum() for m in (0,1,2)] for row in range(rows)], 0))"
   ]
  },
  {
   "cell_type": "code",
   "execution_count": null,
   "id": "93ae6590-02b5-455b-bd31-5aa89139c6a7",
   "metadata": {
    "tags": []
   },
   "outputs": [],
   "source": [
    "# RMSE of dF/F+mc for each method over all simulations\n",
    "print(np.mean([[results[row][3][:,m,0].mean() for m in (0,1,2)] for row in range(rows)], 0))\n",
    "print(np.sum([[results[row][3][:,m,0].sum() for m in (0,1,2)] for row in range(rows)], 0))"
   ]
  },
  {
   "cell_type": "code",
   "execution_count": null,
   "id": "6b8f76fc-4e9d-4682-babd-95af40fb8a74",
   "metadata": {
    "tags": []
   },
   "outputs": [],
   "source": [
    "# median values for each parameter\n",
    "for parent in parents:\n",
    "    vary = parent.split('/')[-1][5:]\n",
    "    qq=[np.array(pd.read_csv(Path(nwb_file).parent / \"parameters.csv\", delimiter=\",\", index_col=0)[vary])\n",
    "          for nwb_file in sorted(glob.glob(f\"{parent}/*/*.nwb\"))]\n",
    "    print(vary, np.nanmedian(qq))"
   ]
  },
  {
   "cell_type": "code",
   "execution_count": null,
   "id": "06422400-11d3-49e4-863b-fc0df101a3f5",
   "metadata": {},
   "outputs": [],
   "source": []
  },
  {
   "cell_type": "markdown",
   "id": "0e6836b6-a22c-43b0-83d7-dd511460fc1f",
   "metadata": {},
   "source": [
    "#### Create plots of traces for all 3 $\\Delta$F/F methods "
   ]
  },
  {
   "cell_type": "code",
   "execution_count": null,
   "id": "7b161b47-a778-4df5-91fa-af1c254c0cc0",
   "metadata": {
    "tags": []
   },
   "outputs": [],
   "source": [
    "plt.ioff()  # Turn interactive plotting off\n",
    "\n",
    "def plot(p, pre=\"dff\"):\n",
    "    parent = parents[p]\n",
    "    dFFs = results[p][2 if pre==\"dff\" else 4]\n",
    "    for n, nwb_file in enumerate(sorted(glob.glob(f\"{parent}/*/*.nwb\"))):\n",
    "        print(f\"Processing NWB file: {nwb_file}\")\n",
    "        with h5py.File(Path(nwb_file).parent / 'groundtruth.h5') as file:\n",
    "            dFF_gt = [file[f'fiber{f}']['dff'][:] for f in (0,1)]\n",
    "\n",
    "        with NWBZarrIO(path=nwb_file, mode=\"r\") as io:\n",
    "            nwb = io.read()\n",
    "            # convert nwb to dataframe\n",
    "            df_from_nwb = nwb_utils.nwb_to_dataframe(nwb)\n",
    "            \n",
    "        outdir = Path(\"/scratch\") / parent.split('/')[-1] / nwb_file.split('/')[-2]\n",
    "        os.makedirs(outdir, exist_ok=True)\n",
    "\n",
    "        for f in (0,1):\n",
    "            for c in (0,1,2):\n",
    "                fs = 20\n",
    "                time_seconds = np.arange(np.shape(dFF_gt)[-1]) / fs\n",
    "                raw = df_from_nwb[(df_from_nwb[\"fiber_number\"] == str(f+1)) & (df_from_nwb[\"channel\"] == ('Iso', 'G', 'R')[c])][\"signal\"].values\n",
    "                \n",
    "                fig = plt.figure(figsize=(15,5))\n",
    "                # We'll use two separate gridspecs to have different margins, hspace, etc\n",
    "                gs_top = plt.GridSpec(5, 1, top=0.92, hspace=.25)\n",
    "                gs_base = plt.GridSpec(5, 1, hspace=.15)\n",
    "                # Top (unshared) axes\n",
    "                topax = fig.add_subplot(gs_top[0,:])\n",
    "                # The four shared axes\n",
    "                ax0 = fig.add_subplot(gs_base[1,:], sharex=topax) # Need to create the first one to share...\n",
    "                other_axes = [fig.add_subplot(gs_base[i,:], sharex=topax, sharey=ax0) for i in range(2, 5)]\n",
    "                ax = [ax0] + other_axes\n",
    "                # Hide shared x-tick labels\n",
    "                for a in ax[:-1]:\n",
    "                    plt.setp(a.get_xticklabels(), visible=False)\n",
    "                \n",
    "                topax.plot(time_seconds, raw, c='k')\n",
    "                topax.set_title(\"raw\", y=.65, size=11)\n",
    "                topax.set_ylabel('F [a.u.]')\n",
    "                for i in (0,1,2):\n",
    "                    ax[i].plot(time_seconds, 100*dFFs[n,i,f,c], c=f\"C{i}\")\n",
    "                    ax[i].set_title((\"poly\", \"exp\", \"bright\")[i], c=f\"C{i}\", y=.65, size=11)\n",
    "                ax[2].set_ylabel(r'$\\Delta$F/F (%)', y=1.12)\n",
    "                ax[3].plot(time_seconds, 100*np.array(dFF_gt)[f,c], c='k')\n",
    "                ax[3].set_title(\"ground truth\", y=.65, size=11)\n",
    "                ax[3].set_xlim(0, time_seconds[-1])\n",
    "                ax[3].set_xlabel('Time [seconds]')\n",
    "                plt.savefig(outdir / f\"Fiber{f+1}_{('Iso', 'G', 'R')[c]}_{pre}\", bbox_inches='tight', pad_inches=.05)"
   ]
  },
  {
   "cell_type": "code",
   "execution_count": null,
   "id": "0120c95a-534d-436f-96ec-e40e9c159d0c",
   "metadata": {
    "tags": []
   },
   "outputs": [],
   "source": [
    "%%time\n",
    "%%capture\n",
    "Pool(int(os.environ['CO_CPUS'])).map(plot, range(len(parents)))"
   ]
  },
  {
   "cell_type": "code",
   "execution_count": null,
   "id": "2ed76f16-819a-48b2-bc72-5c8f085718b6",
   "metadata": {
    "tags": []
   },
   "outputs": [],
   "source": [
    "def plot_pp(p):\n",
    "    return plot(p, \"dff+mc\")"
   ]
  },
  {
   "cell_type": "code",
   "execution_count": null,
   "id": "c81f18e6-0c45-4e5c-bc57-f155edbede81",
   "metadata": {
    "tags": []
   },
   "outputs": [],
   "source": [
    "%%time\n",
    "%%capture\n",
    "Pool(int(os.environ['CO_CPUS'])).map(plot_pp, range(len(parents)))"
   ]
  },
  {
   "cell_type": "code",
   "execution_count": null,
   "id": "4feef8e2-d0cc-4e91-8b9c-92a158f427a4",
   "metadata": {},
   "outputs": [],
   "source": []
  }
 ],
 "metadata": {
  "kernelspec": {
   "display_name": "Python 3 (ipykernel)",
   "language": "python",
   "name": "python3"
  },
  "language_info": {
   "codemirror_mode": {
    "name": "ipython",
    "version": 3
   },
   "file_extension": ".py",
   "mimetype": "text/x-python",
   "name": "python",
   "nbconvert_exporter": "python",
   "pygments_lexer": "ipython3",
   "version": "3.10.12"
  }
 },
 "nbformat": 4,
 "nbformat_minor": 5
}
