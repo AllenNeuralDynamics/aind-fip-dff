{
 "cells": [
  {
   "cell_type": "code",
   "execution_count": 1,
   "id": "8f727d39-39ee-488a-b3e4-0b8e703baeee",
   "metadata": {
    "tags": []
   },
   "outputs": [
    {
     "name": "stdout",
     "output_type": "stream",
     "text": [
      "Collecting matplotlib\n",
      "  Downloading matplotlib-3.9.1.post1-cp310-cp310-manylinux_2_17_x86_64.manylinux2014_x86_64.whl (8.3 MB)\n",
      "\u001b[2K     \u001b[90m━━━━━━━━━━━━━━━━━━━━━━━━━━━━━━━━━━━━━━━━\u001b[0m \u001b[32m8.3/8.3 MB\u001b[0m \u001b[31m62.6 MB/s\u001b[0m eta \u001b[36m0:00:00\u001b[0m00:01\u001b[0m00:01\u001b[0m\n",
      "\u001b[?25hCollecting contourpy>=1.0.1 (from matplotlib)\n",
      "  Downloading contourpy-1.2.1-cp310-cp310-manylinux_2_17_x86_64.manylinux2014_x86_64.whl (305 kB)\n",
      "\u001b[2K     \u001b[90m━━━━━━━━━━━━━━━━━━━━━━━━━━━━━━━━━━━━━━\u001b[0m \u001b[32m305.2/305.2 kB\u001b[0m \u001b[31m48.7 MB/s\u001b[0m eta \u001b[36m0:00:00\u001b[0m\n",
      "\u001b[?25hCollecting cycler>=0.10 (from matplotlib)\n",
      "  Downloading cycler-0.12.1-py3-none-any.whl (8.3 kB)\n",
      "Collecting fonttools>=4.22.0 (from matplotlib)\n",
      "  Downloading fonttools-4.53.1-cp310-cp310-manylinux_2_17_x86_64.manylinux2014_x86_64.whl (4.6 MB)\n",
      "\u001b[2K     \u001b[90m━━━━━━━━━━━━━━━━━━━━━━━━━━━━━━━━━━━━━━━━\u001b[0m \u001b[32m4.6/4.6 MB\u001b[0m \u001b[31m76.1 MB/s\u001b[0m eta \u001b[36m0:00:00\u001b[0m:00:01\u001b[0m\n",
      "\u001b[?25hCollecting kiwisolver>=1.3.1 (from matplotlib)\n",
      "  Downloading kiwisolver-1.4.5-cp310-cp310-manylinux_2_12_x86_64.manylinux2010_x86_64.whl (1.6 MB)\n",
      "\u001b[2K     \u001b[90m━━━━━━━━━━━━━━━━━━━━━━━━━━━━━━━━━━━━━━━━\u001b[0m \u001b[32m1.6/1.6 MB\u001b[0m \u001b[31m106.7 MB/s\u001b[0m eta \u001b[36m0:00:00\u001b[0m\n",
      "\u001b[?25hRequirement already satisfied: numpy>=1.23 in /opt/conda/lib/python3.10/site-packages (from matplotlib) (1.26.4)\n",
      "Requirement already satisfied: packaging>=20.0 in /opt/conda/lib/python3.10/site-packages (from matplotlib) (23.1)\n",
      "Collecting pillow>=8 (from matplotlib)\n",
      "  Downloading pillow-10.4.0-cp310-cp310-manylinux_2_28_x86_64.whl (4.5 MB)\n",
      "\u001b[2K     \u001b[90m━━━━━━━━━━━━━━━━━━━━━━━━━━━━━━━━━━━━━━━━\u001b[0m \u001b[32m4.5/4.5 MB\u001b[0m \u001b[31m118.3 MB/s\u001b[0m eta \u001b[36m0:00:00\u001b[0m00:01\u001b[0m\n",
      "\u001b[?25hCollecting pyparsing>=2.3.1 (from matplotlib)\n",
      "  Downloading pyparsing-3.1.2-py3-none-any.whl (103 kB)\n",
      "\u001b[2K     \u001b[90m━━━━━━━━━━━━━━━━━━━━━━━━━━━━━━━━━━━━━━\u001b[0m \u001b[32m103.2/103.2 kB\u001b[0m \u001b[31m28.2 MB/s\u001b[0m eta \u001b[36m0:00:00\u001b[0m\n",
      "\u001b[?25hRequirement already satisfied: python-dateutil>=2.7 in /opt/conda/lib/python3.10/site-packages (from matplotlib) (2.8.2)\n",
      "Requirement already satisfied: six>=1.5 in /opt/conda/lib/python3.10/site-packages (from python-dateutil>=2.7->matplotlib) (1.16.0)\n",
      "Installing collected packages: pyparsing, pillow, kiwisolver, fonttools, cycler, contourpy, matplotlib\n",
      "Successfully installed contourpy-1.2.1 cycler-0.12.1 fonttools-4.53.1 kiwisolver-1.4.5 matplotlib-3.9.1.post1 pillow-10.4.0 pyparsing-3.1.2\n",
      "\u001b[33mWARNING: Running pip as the 'root' user can result in broken permissions and conflicting behaviour with the system package manager. It is recommended to use a virtual environment instead: https://pip.pypa.io/warnings/venv\u001b[0m\u001b[33m\n",
      "\u001b[0m"
     ]
    }
   ],
   "source": [
    "!pip install matplotlib"
   ]
  },
  {
   "cell_type": "code",
   "execution_count": 1,
   "id": "a4415fb3-5222-45e8-b4c5-bfc7f12b7033",
   "metadata": {
    "tags": []
   },
   "outputs": [],
   "source": [
    "import glob\n",
    "import os\n",
    "from multiprocessing import Pool\n",
    "from pathlib import Path\n",
    "import pickle\n",
    "\n",
    "import h5py\n",
    "from matplotlib.lines import Line2D\n",
    "from matplotlib.patches import Patch\n",
    "import matplotlib.pyplot as plt\n",
    "import numpy as np\n",
    "import pandas as pd\n",
    "from hdmf_zarr import NWBZarrIO\n",
    "\n",
    "import utils.new_preprocess as nwp\n",
    "import utils.nwb_dict_utils as nwb_utils"
   ]
  },
  {
   "cell_type": "code",
   "execution_count": 2,
   "id": "94d00b64-d204-4b24-8b4b-f23c6080e315",
   "metadata": {
    "tags": []
   },
   "outputs": [],
   "source": [
    "# https://pandas.pydata.org/pandas-docs/stable/user_guide/indexing.html#returning-a-view-versus-a-copy\n",
    "pd.options.mode.copy_on_write = True"
   ]
  },
  {
   "cell_type": "code",
   "execution_count": 3,
   "id": "6ede5098-4b56-4d95-b5e4-de45d1050f0c",
   "metadata": {
    "tags": []
   },
   "outputs": [],
   "source": [
    "def RMSE(x,y):\n",
    "    return np.sqrt(np.mean((x-y)**2, -1))\n",
    "\n",
    "def bias(x,y):\n",
    "    return np.mean(x-y, -1)\n",
    "\n",
    "def std_of_diff(x,y):\n",
    "    return np.std(x-y, -1)"
   ]
  },
  {
   "cell_type": "code",
   "execution_count": 4,
   "id": "d9e08ca6-1545-496f-ae0b-9ec24e2cb81e",
   "metadata": {
    "tags": []
   },
   "outputs": [
    {
     "data": {
      "text/plain": [
       "['/data/photometry/vary_a_max',\n",
       " '/data/photometry/vary_a_power',\n",
       " '/data/photometry/vary_attenuation',\n",
       " '/data/photometry/vary_b_bright',\n",
       " '/data/photometry/vary_b_fast',\n",
       " '/data/photometry/vary_b_inf',\n",
       " '/data/photometry/vary_b_slow',\n",
       " '/data/photometry/vary_corr_s',\n",
       " '/data/photometry/vary_decay',\n",
       " '/data/photometry/vary_motion_power',\n",
       " '/data/photometry/vary_noise_std',\n",
       " '/data/photometry/vary_t_bright',\n",
       " '/data/photometry/vary_t_fast',\n",
       " '/data/photometry/vary_t_slow']"
      ]
     },
     "execution_count": 4,
     "metadata": {},
     "output_type": "execute_result"
    }
   ],
   "source": [
    "parents = sorted(glob.glob(\"/data/photometry/vary*\"))\n",
    "parents"
   ]
  },
  {
   "cell_type": "code",
   "execution_count": 5,
   "id": "a0e408b2-f467-4bfa-8e2b-dccc5f87d6da",
   "metadata": {
    "tags": []
   },
   "outputs": [],
   "source": [
    "def evaluate(parent):\n",
    "    perf = []\n",
    "    params = []\n",
    "    vary = parent.split('/')[-1][5:]\n",
    "    for nwb_file in sorted(glob.glob(f\"{parent}/*/*.nwb\")):\n",
    "        print(f\"Processing NWB file: {nwb_file}\")\n",
    "        p = pd.read_csv(Path(nwb_file).parent / \"parameters.csv\", delimiter=\",\", index_col=0)\n",
    "        p = list(p[vary])\n",
    "        params.append([p[:3], p[3:6]])\n",
    "        with h5py.File(Path(nwb_file).parent / 'groundtruth.h5') as file:\n",
    "            dFF_gt = [file[f'fiber{f}']['dff'][:] for f in (0,1)]\n",
    "\n",
    "        with NWBZarrIO(path=nwb_file, mode=\"r\") as io:\n",
    "            nwb = io.read()\n",
    "            # convert nwb to dataframe\n",
    "            df_from_nwb = nwb_utils.nwb_to_dataframe(nwb)\n",
    "            # add the session column\n",
    "            filename = Path(nwb_file).name\n",
    "            session_name = filename.split(\".\")[0].split(\"FIP_\")[1]\n",
    "            df_from_nwb.insert(0, \"session\", session_name)\n",
    "            # now pass the dataframe through the preprocessing function:\n",
    "            df_fip_pp_nwb, df_PP_params = nwp.batch_processing_new(df_fip=df_from_nwb)\n",
    "            # calculate performance measures\n",
    "            tmp = []\n",
    "            for pre in (\"poly\", \"exp\", \"bright\"):\n",
    "                df = df_fip_pp_nwb[df_fip_pp_nwb[\"preprocess\"]==pre]\n",
    "                dFF = np.array([[df[(df[\"channel\"] == ch) & (df[\"fiber_number\"] == fiber)][\"signal\"]\n",
    "                                 for ch in ['Iso', 'G', 'R']] for fiber in df_fip_pp_nwb[\"fiber_number\"].unique()])\n",
    "                tmp.append([RMSE(dFF, dFF_gt), bias(dFF, dFF_gt), std_of_diff(dFF, dFF_gt)])\n",
    "            perf.append(tmp)\n",
    "\n",
    "    return (np.array(params), # indices: expId, fiber, channel\n",
    "            np.array(perf))   # indices: expId, method, performance_measure, fiber, channel"
   ]
  },
  {
   "cell_type": "code",
   "execution_count": null,
   "id": "0b659cf8-7fb6-4c5e-b472-2b2c201f552a",
   "metadata": {
    "tags": []
   },
   "outputs": [
    {
     "name": "stdout",
     "output_type": "stream",
     "text": [
      "Processing NWB file: /data/photometry/vary_a_max/FIP_000140_2024-08-06_10-01-07/FIP_000140_2024-08-06_10-01-07.nwb\n",
      "Processing NWB file: /data/photometry/vary_a_power/FIP_000156_2024-08-06_10-01-19/FIP_000156_2024-08-06_10-01-19.nwb\n",
      "Processing NWB file: /data/photometry/vary_corr_s/FIP_000164_2024-08-06_10-01-25/FIP_000164_2024-08-06_10-01-25.nwb\n",
      "Processing NWB file: /data/photometry/vary_b_inf/FIP_000000_2024-08-06_09-59-21/FIP_000000_2024-08-06_09-59-21.nwbProcessing NWB file: /data/photometry/vary_b_bright/FIP_000042_2024-08-06_09-59-53/FIP_000042_2024-08-06_09-59-53.nwbProcessing NWB file: /data/photometry/vary_attenuation/FIP_000112_2024-08-06_10-00-46/FIP_000112_2024-08-06_10-00-46.nwbProcessing NWB file: /data/photometry/vary_b_fast/FIP_000028_2024-08-06_09-59-42/FIP_000028_2024-08-06_09-59-42.nwbProcessing NWB file: /data/photometry/vary_b_slow/FIP_000014_2024-08-06_09-59-32/FIP_000014_2024-08-06_09-59-32.nwb\n",
      "\n",
      "\n",
      "\n",
      "\n"
     ]
    },
    {
     "name": "stderr",
     "output_type": "stream",
     "text": [
      "/root/capsule/code/utils/new_preprocess.py:96: RuntimeWarning: overflow encountered in exp\n",
      "  return a * np.exp(-b * x) + c * np.exp(-d * x)\n",
      "/root/capsule/code/utils/new_preprocess.py:96: RuntimeWarning: overflow encountered in multiply\n",
      "  return a * np.exp(-b * x) + c * np.exp(-d * x)\n",
      "/root/capsule/code/utils/new_preprocess.py:96: RuntimeWarning: overflow encountered in add\n",
      "  return a * np.exp(-b * x) + c * np.exp(-d * x)\n",
      "/root/capsule/code/utils/new_preprocess.py:96: RuntimeWarning: overflow encountered in exp\n",
      "  return a * np.exp(-b * x) + c * np.exp(-d * x)\n",
      "/root/capsule/code/utils/new_preprocess.py:96: RuntimeWarning: overflow encountered in multiply\n",
      "  return a * np.exp(-b * x) + c * np.exp(-d * x)\n",
      "/root/capsule/code/utils/new_preprocess.py:96: RuntimeWarning: overflow encountered in add\n",
      "  return a * np.exp(-b * x) + c * np.exp(-d * x)\n",
      "/root/capsule/code/utils/new_preprocess.py:96: RuntimeWarning: overflow encountered in exp\n",
      "  return a * np.exp(-b * x) + c * np.exp(-d * x)\n",
      "/root/capsule/code/utils/new_preprocess.py:96: RuntimeWarning: overflow encountered in multiply\n",
      "  return a * np.exp(-b * x) + c * np.exp(-d * x)\n",
      "/root/capsule/code/utils/new_preprocess.py:96: RuntimeWarning: overflow encountered in add\n",
      "  return a * np.exp(-b * x) + c * np.exp(-d * x)\n",
      "/root/capsule/code/utils/new_preprocess.py:96: RuntimeWarning: overflow encountered in exp\n",
      "  return a * np.exp(-b * x) + c * np.exp(-d * x)\n",
      "/root/capsule/code/utils/new_preprocess.py:96: RuntimeWarning: overflow encountered in multiply\n",
      "  return a * np.exp(-b * x) + c * np.exp(-d * x)\n",
      "/root/capsule/code/utils/new_preprocess.py:96: RuntimeWarning: overflow encountered in add\n",
      "  return a * np.exp(-b * x) + c * np.exp(-d * x)\n",
      "/root/capsule/code/utils/new_preprocess.py:96: RuntimeWarning: overflow encountered in exp\n",
      "  return a * np.exp(-b * x) + c * np.exp(-d * x)\n",
      "/root/capsule/code/utils/new_preprocess.py:96: RuntimeWarning: overflow encountered in multiply\n",
      "  return a * np.exp(-b * x) + c * np.exp(-d * x)\n",
      "/root/capsule/code/utils/new_preprocess.py:96: RuntimeWarning: overflow encountered in add\n",
      "  return a * np.exp(-b * x) + c * np.exp(-d * x)\n",
      "/root/capsule/code/utils/new_preprocess.py:96: RuntimeWarning: overflow encountered in exp\n",
      "  return a * np.exp(-b * x) + c * np.exp(-d * x)\n",
      "/root/capsule/code/utils/new_preprocess.py:96: RuntimeWarning: overflow encountered in multiply\n",
      "  return a * np.exp(-b * x) + c * np.exp(-d * x)\n",
      "/root/capsule/code/utils/new_preprocess.py:96: RuntimeWarning: overflow encountered in add\n",
      "  return a * np.exp(-b * x) + c * np.exp(-d * x)\n"
     ]
    },
    {
     "name": "stdout",
     "output_type": "stream",
     "text": [
      "Converged after 20 iterations\n",
      "Converged after 20 iterations\n",
      "Converged after 20 iterations\n",
      "Converged after 20 iterations\n",
      "Converged after 20 iterations\n",
      "Converged after 20 iterations\n",
      "Converged after 20 iterations\n",
      "Converged after 20 iterations\n",
      "Converged after 20 iterations\n",
      "Converged after 20 iterations\n",
      "Converged after 20 iterations\n",
      "Converged after 19 iterations\n",
      "Converged after 20 iterations\n",
      "Converged after 20 iterations\n",
      "Converged after 20 iterations\n",
      "Converged after 20 iterations\n",
      "Converged after 20 iterations\n",
      "Converged after 18 iterations\n",
      "Converged after 20 iterations\n",
      "Converged after 20 iterations\n",
      "Converged after 20 iterations\n",
      "Converged after 20 iterations\n",
      "Converged after 20 iterations\n",
      "Converged after 20 iterations\n",
      "Converged after 20 iterations\n",
      "Converged after 20 iterations\n",
      "Converged after 20 iterations\n",
      "Converged after 20 iterations\n",
      "Converged after 20 iterations\n",
      "Converged after 20 iterations\n",
      "Converged after 20 iterations\n",
      "Converged after 20 iterations\n",
      "Converged after 20 iterations\n",
      "Converged after 20 iterations\n",
      "Processing NWB file: /data/photometry/vary_b_slow/FIP_000015_2024-08-06_09-59-33/FIP_000015_2024-08-06_09-59-33.nwb\n",
      "Processing NWB file: /data/photometry/vary_b_bright/FIP_000043_2024-08-06_09-59-54/FIP_000043_2024-08-06_09-59-54.nwb\n",
      "Converged after 20 iterations\n",
      "Converged after 20 iterations\n",
      "Converged after 20 iterations\n",
      "Converged after 20 iterations\n"
     ]
    },
    {
     "name": "stderr",
     "output_type": "stream",
     "text": [
      "/root/capsule/code/utils/new_preprocess.py:96: RuntimeWarning: overflow encountered in exp\n",
      "  return a * np.exp(-b * x) + c * np.exp(-d * x)\n",
      "/root/capsule/code/utils/new_preprocess.py:96: RuntimeWarning: overflow encountered in add\n",
      "  return a * np.exp(-b * x) + c * np.exp(-d * x)\n",
      "/root/capsule/code/utils/new_preprocess.py:96: RuntimeWarning: overflow encountered in multiply\n",
      "  return a * np.exp(-b * x) + c * np.exp(-d * x)\n",
      "/root/capsule/code/utils/new_preprocess.py:96: RuntimeWarning: overflow encountered in exp\n",
      "  return a * np.exp(-b * x) + c * np.exp(-d * x)\n",
      "/root/capsule/code/utils/new_preprocess.py:96: RuntimeWarning: overflow encountered in multiply\n",
      "  return a * np.exp(-b * x) + c * np.exp(-d * x)\n",
      "/root/capsule/code/utils/new_preprocess.py:96: RuntimeWarning: overflow encountered in add\n",
      "  return a * np.exp(-b * x) + c * np.exp(-d * x)\n"
     ]
    },
    {
     "name": "stdout",
     "output_type": "stream",
     "text": [
      "Processing NWB file: /data/photometry/vary_corr_s/FIP_000165_2024-08-06_10-01-26/FIP_000165_2024-08-06_10-01-26.nwb\n"
     ]
    },
    {
     "name": "stderr",
     "output_type": "stream",
     "text": [
      "/root/capsule/code/utils/new_preprocess.py:96: RuntimeWarning: overflow encountered in exp\n",
      "  return a * np.exp(-b * x) + c * np.exp(-d * x)\n",
      "/root/capsule/code/utils/new_preprocess.py:96: RuntimeWarning: overflow encountered in multiply\n",
      "  return a * np.exp(-b * x) + c * np.exp(-d * x)\n",
      "/root/capsule/code/utils/new_preprocess.py:96: RuntimeWarning: overflow encountered in add\n",
      "  return a * np.exp(-b * x) + c * np.exp(-d * x)\n"
     ]
    },
    {
     "name": "stdout",
     "output_type": "stream",
     "text": [
      "Converged after 20 iterations\n",
      "Converged after 20 iterations\n",
      "Converged after 20 iterations\n",
      "Converged after 20 iterations\n",
      "Processing NWB file: /data/photometry/vary_attenuation/FIP_000113_2024-08-06_10-00-47/FIP_000113_2024-08-06_10-00-47.nwb\n"
     ]
    },
    {
     "name": "stderr",
     "output_type": "stream",
     "text": [
      "/root/capsule/code/utils/new_preprocess.py:96: RuntimeWarning: overflow encountered in exp\n",
      "  return a * np.exp(-b * x) + c * np.exp(-d * x)\n",
      "/root/capsule/code/utils/new_preprocess.py:96: RuntimeWarning: overflow encountered in multiply\n",
      "  return a * np.exp(-b * x) + c * np.exp(-d * x)\n",
      "/root/capsule/code/utils/new_preprocess.py:96: RuntimeWarning: overflow encountered in add\n",
      "  return a * np.exp(-b * x) + c * np.exp(-d * x)\n"
     ]
    },
    {
     "name": "stdout",
     "output_type": "stream",
     "text": [
      "Processing NWB file: /data/photometry/vary_b_fast/FIP_000029_2024-08-06_09-59-43/FIP_000029_2024-08-06_09-59-43.nwb\n",
      "Converged after 20 iterations\n"
     ]
    },
    {
     "name": "stderr",
     "output_type": "stream",
     "text": [
      "/root/capsule/code/utils/new_preprocess.py:96: RuntimeWarning: overflow encountered in exp\n",
      "  return a * np.exp(-b * x) + c * np.exp(-d * x)\n",
      "/root/capsule/code/utils/new_preprocess.py:96: RuntimeWarning: overflow encountered in multiply\n",
      "  return a * np.exp(-b * x) + c * np.exp(-d * x)\n",
      "/root/capsule/code/utils/new_preprocess.py:96: RuntimeWarning: overflow encountered in add\n",
      "  return a * np.exp(-b * x) + c * np.exp(-d * x)\n",
      "/root/capsule/code/utils/new_preprocess.py:96: RuntimeWarning: overflow encountered in exp\n",
      "  return a * np.exp(-b * x) + c * np.exp(-d * x)\n",
      "/root/capsule/code/utils/new_preprocess.py:96: RuntimeWarning: overflow encountered in multiply\n",
      "  return a * np.exp(-b * x) + c * np.exp(-d * x)\n",
      "/root/capsule/code/utils/new_preprocess.py:96: RuntimeWarning: overflow encountered in add\n",
      "  return a * np.exp(-b * x) + c * np.exp(-d * x)\n"
     ]
    },
    {
     "name": "stdout",
     "output_type": "stream",
     "text": [
      "Converged after 20 iterations\n",
      "Converged after 20 iterations\n",
      "Converged after 20 iterations\n",
      "Converged after 20 iterations\n",
      "Converged after 20 iterations\n",
      "Converged after 20 iterations\n",
      "Converged after 20 iterations\n",
      "Converged after 20 iterations\n"
     ]
    },
    {
     "name": "stderr",
     "output_type": "stream",
     "text": [
      "/opt/conda/lib/python3.10/site-packages/scipy/optimize/_numdiff.py:503: RuntimeWarning: invalid value encountered in subtract\n",
      "  dx = ((x0 + h) - x0)\n",
      "/opt/conda/lib/python3.10/site-packages/scipy/optimize/_numdiff.py:58: RuntimeWarning: invalid value encountered in subtract\n",
      "  upper_dist = ub - x0\n",
      "/opt/conda/lib/python3.10/site-packages/scipy/optimize/_numdiff.py:591: RuntimeWarning: invalid value encountered in scalar subtract\n",
      "  dx = x1[i] - x0[i]  # Recompute dx as exactly representable number.\n"
     ]
    },
    {
     "name": "stdout",
     "output_type": "stream",
     "text": [
      "Converged after 2 iterations\n",
      "Converged after 20 iterations\n",
      "Converged after 20 iterations\n",
      "Converged after 20 iterations\n",
      "Converged after 20 iterations\n",
      "Converged after 20 iterations\n",
      "Converged after 20 iterations\n",
      "Converged after 20 iterations\n",
      "Converged after 20 iterations\n",
      "Converged after 20 iterations\n",
      "Converged after 20 iterations\n",
      "Converged after 20 iterations\n",
      "Converged after 20 iterations\n",
      "Converged after 20 iterations\n",
      "Converged after 20 iterations\n"
     ]
    },
    {
     "name": "stderr",
     "output_type": "stream",
     "text": [
      "/opt/conda/lib/python3.10/site-packages/scipy/optimize/_numdiff.py:503: RuntimeWarning: invalid value encountered in subtract\n",
      "  dx = ((x0 + h) - x0)\n",
      "/opt/conda/lib/python3.10/site-packages/scipy/optimize/_numdiff.py:58: RuntimeWarning: invalid value encountered in subtract\n",
      "  upper_dist = ub - x0\n",
      "/opt/conda/lib/python3.10/site-packages/scipy/optimize/_numdiff.py:591: RuntimeWarning: invalid value encountered in scalar subtract\n",
      "  dx = x1[i] - x0[i]  # Recompute dx as exactly representable number.\n"
     ]
    },
    {
     "name": "stdout",
     "output_type": "stream",
     "text": [
      "Converged after 2 iterations\n",
      "Processing NWB file: /data/photometry/vary_b_inf/FIP_000001_2024-08-06_09-59-22/FIP_000001_2024-08-06_09-59-22.nwb\n",
      "Converged after 20 iterations\n",
      "Converged after 20 iterations\n",
      "Converged after 20 iterations\n",
      "Processing NWB file: /data/photometry/vary_a_power/FIP_000157_2024-08-06_10-01-20/FIP_000157_2024-08-06_10-01-20.nwb\n",
      "Processing NWB file: /data/photometry/vary_attenuation/FIP_000114_2024-08-06_10-00-47/FIP_000114_2024-08-06_10-00-47.nwb\n"
     ]
    },
    {
     "name": "stderr",
     "output_type": "stream",
     "text": [
      "/root/capsule/code/utils/new_preprocess.py:96: RuntimeWarning: overflow encountered in exp\n",
      "  return a * np.exp(-b * x) + c * np.exp(-d * x)\n",
      "/root/capsule/code/utils/new_preprocess.py:96: RuntimeWarning: overflow encountered in multiply\n",
      "  return a * np.exp(-b * x) + c * np.exp(-d * x)\n",
      "/root/capsule/code/utils/new_preprocess.py:96: RuntimeWarning: overflow encountered in add\n",
      "  return a * np.exp(-b * x) + c * np.exp(-d * x)\n"
     ]
    },
    {
     "name": "stdout",
     "output_type": "stream",
     "text": [
      "Converged after 20 iterations\n"
     ]
    },
    {
     "name": "stderr",
     "output_type": "stream",
     "text": [
      "/opt/conda/lib/python3.10/site-packages/scipy/optimize/_numdiff.py:503: RuntimeWarning: invalid value encountered in subtract\n",
      "  dx = ((x0 + h) - x0)\n",
      "/opt/conda/lib/python3.10/site-packages/scipy/optimize/_numdiff.py:58: RuntimeWarning: invalid value encountered in subtract\n",
      "  upper_dist = ub - x0\n",
      "/opt/conda/lib/python3.10/site-packages/scipy/optimize/_numdiff.py:591: RuntimeWarning: invalid value encountered in scalar subtract\n",
      "  dx = x1[i] - x0[i]  # Recompute dx as exactly representable number.\n"
     ]
    },
    {
     "name": "stdout",
     "output_type": "stream",
     "text": [
      "Converged after 2 iterations\n",
      "Converged after 20 iterations\n",
      "Converged after 20 iterations\n",
      "Converged after 20 iterations\n",
      "Converged after 20 iterations\n",
      "Converged after 20 iterations\n",
      "Converged after 20 iterations\n",
      "Processing NWB file: /data/photometry/vary_b_slow/FIP_000016_2024-08-06_09-59-34/FIP_000016_2024-08-06_09-59-34.nwb\n",
      "Converged after 20 iterations\n",
      "Converged after 20 iterations\n",
      "Converged after 20 iterations\n"
     ]
    },
    {
     "name": "stderr",
     "output_type": "stream",
     "text": [
      "/root/capsule/code/utils/new_preprocess.py:96: RuntimeWarning: overflow encountered in exp\n",
      "  return a * np.exp(-b * x) + c * np.exp(-d * x)\n",
      "/root/capsule/code/utils/new_preprocess.py:96: RuntimeWarning: overflow encountered in multiply\n",
      "  return a * np.exp(-b * x) + c * np.exp(-d * x)\n",
      "/root/capsule/code/utils/new_preprocess.py:96: RuntimeWarning: overflow encountered in add\n",
      "  return a * np.exp(-b * x) + c * np.exp(-d * x)\n"
     ]
    },
    {
     "name": "stdout",
     "output_type": "stream",
     "text": [
      "Processing NWB file: /data/photometry/vary_a_max/FIP_000141_2024-08-06_10-01-08/FIP_000141_2024-08-06_10-01-08.nwb\n",
      "Processing NWB file: /data/photometry/vary_b_fast/FIP_000030_2024-08-06_09-59-44/FIP_000030_2024-08-06_09-59-44.nwb\n",
      "Converged after 20 iterations\n"
     ]
    },
    {
     "name": "stderr",
     "output_type": "stream",
     "text": [
      "/root/capsule/code/utils/new_preprocess.py:96: RuntimeWarning: overflow encountered in exp\n",
      "  return a * np.exp(-b * x) + c * np.exp(-d * x)\n",
      "/root/capsule/code/utils/new_preprocess.py:96: RuntimeWarning: overflow encountered in multiply\n",
      "  return a * np.exp(-b * x) + c * np.exp(-d * x)\n",
      "/root/capsule/code/utils/new_preprocess.py:96: RuntimeWarning: overflow encountered in add\n",
      "  return a * np.exp(-b * x) + c * np.exp(-d * x)\n",
      "/root/capsule/code/utils/new_preprocess.py:96: RuntimeWarning: overflow encountered in exp\n",
      "  return a * np.exp(-b * x) + c * np.exp(-d * x)\n",
      "/root/capsule/code/utils/new_preprocess.py:96: RuntimeWarning: overflow encountered in multiply\n",
      "  return a * np.exp(-b * x) + c * np.exp(-d * x)\n",
      "/root/capsule/code/utils/new_preprocess.py:96: RuntimeWarning: overflow encountered in add\n",
      "  return a * np.exp(-b * x) + c * np.exp(-d * x)\n"
     ]
    },
    {
     "name": "stdout",
     "output_type": "stream",
     "text": [
      "Converged after 20 iterations\n",
      "Converged after 20 iterations\n",
      "Converged after 20 iterations\n",
      "Converged after 20 iterations\n",
      "Processing NWB file: /data/photometry/vary_corr_s/FIP_000166_2024-08-06_10-01-27/FIP_000166_2024-08-06_10-01-27.nwb\n",
      "Processing NWB file: /data/photometry/vary_b_bright/FIP_000044_2024-08-06_09-59-55/FIP_000044_2024-08-06_09-59-55.nwb\n",
      "Converged after 20 iterations\n",
      "Converged after 20 iterations\n",
      "Converged after 20 iterations\n"
     ]
    },
    {
     "name": "stderr",
     "output_type": "stream",
     "text": [
      "/root/capsule/code/utils/new_preprocess.py:96: RuntimeWarning: overflow encountered in exp\n",
      "  return a * np.exp(-b * x) + c * np.exp(-d * x)\n",
      "/root/capsule/code/utils/new_preprocess.py:96: RuntimeWarning: overflow encountered in multiply\n",
      "  return a * np.exp(-b * x) + c * np.exp(-d * x)\n",
      "/root/capsule/code/utils/new_preprocess.py:96: RuntimeWarning: overflow encountered in add\n",
      "  return a * np.exp(-b * x) + c * np.exp(-d * x)\n"
     ]
    },
    {
     "name": "stdout",
     "output_type": "stream",
     "text": [
      "Processing NWB file: /data/photometry/vary_b_inf/FIP_000002_2024-08-06_09-59-23/FIP_000002_2024-08-06_09-59-23.nwb\n"
     ]
    },
    {
     "name": "stderr",
     "output_type": "stream",
     "text": [
      "/root/capsule/code/utils/new_preprocess.py:96: RuntimeWarning: overflow encountered in exp\n",
      "  return a * np.exp(-b * x) + c * np.exp(-d * x)\n",
      "/root/capsule/code/utils/new_preprocess.py:96: RuntimeWarning: overflow encountered in add\n",
      "  return a * np.exp(-b * x) + c * np.exp(-d * x)\n",
      "/root/capsule/code/utils/new_preprocess.py:96: RuntimeWarning: overflow encountered in multiply\n",
      "  return a * np.exp(-b * x) + c * np.exp(-d * x)\n"
     ]
    },
    {
     "name": "stdout",
     "output_type": "stream",
     "text": [
      "Converged after 20 iterations\n",
      "Converged after 20 iterations\n"
     ]
    },
    {
     "name": "stderr",
     "output_type": "stream",
     "text": [
      "/root/capsule/code/utils/new_preprocess.py:96: RuntimeWarning: overflow encountered in exp\n",
      "  return a * np.exp(-b * x) + c * np.exp(-d * x)\n",
      "/root/capsule/code/utils/new_preprocess.py:96: RuntimeWarning: overflow encountered in multiply\n",
      "  return a * np.exp(-b * x) + c * np.exp(-d * x)\n",
      "/root/capsule/code/utils/new_preprocess.py:96: RuntimeWarning: overflow encountered in add\n",
      "  return a * np.exp(-b * x) + c * np.exp(-d * x)\n"
     ]
    },
    {
     "name": "stdout",
     "output_type": "stream",
     "text": [
      "Converged after 20 iterations\n",
      "Converged after 20 iterations\n",
      "Converged after 20 iterations\n",
      "Converged after 20 iterations\n",
      "Converged after 20 iterations\n",
      "Converged after 20 iterations\n",
      "Converged after 20 iterations\n",
      "Converged after 20 iterations\n",
      "Converged after 20 iterations\n",
      "Converged after 20 iterations\n",
      "Converged after 20 iterations\n",
      "Converged after 20 iterations\n",
      "Converged after 20 iterations\n",
      "Converged after 20 iterations\n",
      "Converged after 20 iterations\n",
      "Converged after 20 iterations\n",
      "Converged after 20 iterations\n",
      "Converged after 20 iterations\n",
      "Converged after 20 iterations\n",
      "Converged after 20 iterations\n",
      "Processing NWB file: /data/photometry/vary_attenuation/FIP_000115_2024-08-06_10-00-48/FIP_000115_2024-08-06_10-00-48.nwb\n",
      "Converged after 20 iterations\n",
      "Converged after 20 iterations\n",
      "Converged after 20 iterations\n"
     ]
    },
    {
     "name": "stderr",
     "output_type": "stream",
     "text": [
      "/root/capsule/code/utils/new_preprocess.py:96: RuntimeWarning: overflow encountered in exp\n",
      "  return a * np.exp(-b * x) + c * np.exp(-d * x)\n",
      "/root/capsule/code/utils/new_preprocess.py:96: RuntimeWarning: overflow encountered in multiply\n",
      "  return a * np.exp(-b * x) + c * np.exp(-d * x)\n",
      "/root/capsule/code/utils/new_preprocess.py:96: RuntimeWarning: overflow encountered in add\n",
      "  return a * np.exp(-b * x) + c * np.exp(-d * x)\n"
     ]
    },
    {
     "name": "stdout",
     "output_type": "stream",
     "text": [
      "Converged after 20 iterations\n"
     ]
    },
    {
     "name": "stderr",
     "output_type": "stream",
     "text": [
      "/root/capsule/code/utils/new_preprocess.py:96: RuntimeWarning: overflow encountered in exp\n",
      "  return a * np.exp(-b * x) + c * np.exp(-d * x)\n",
      "/root/capsule/code/utils/new_preprocess.py:96: RuntimeWarning: overflow encountered in multiply\n",
      "  return a * np.exp(-b * x) + c * np.exp(-d * x)\n",
      "/root/capsule/code/utils/new_preprocess.py:96: RuntimeWarning: overflow encountered in add\n",
      "  return a * np.exp(-b * x) + c * np.exp(-d * x)\n"
     ]
    },
    {
     "name": "stdout",
     "output_type": "stream",
     "text": [
      "Converged after 20 iterations\n",
      "Converged after 20 iterations\n",
      "Converged after 20 iterations\n"
     ]
    },
    {
     "name": "stderr",
     "output_type": "stream",
     "text": [
      "/root/capsule/code/utils/new_preprocess.py:158: OptimizeWarning: Initial guess is not within the specified bounds\n",
      "  return minimize(\n"
     ]
    },
    {
     "name": "stdout",
     "output_type": "stream",
     "text": [
      "Converged after 20 iterations\n",
      "Converged after 20 iterations\n",
      "Converged after 20 iterations\n",
      "Converged after 20 iterations\n",
      "Processing NWB file: /data/photometry/vary_a_power/FIP_000158_2024-08-06_10-01-21/FIP_000158_2024-08-06_10-01-21.nwb\n",
      "Converged after 20 iterations\n",
      "Converged after 20 iterations\n",
      "Converged after 20 iterations\n",
      "Processing NWB file: /data/photometry/vary_corr_s/FIP_000167_2024-08-06_10-01-27/FIP_000167_2024-08-06_10-01-27.nwb\n"
     ]
    },
    {
     "name": "stderr",
     "output_type": "stream",
     "text": [
      "/root/capsule/code/utils/new_preprocess.py:96: RuntimeWarning: overflow encountered in exp\n",
      "  return a * np.exp(-b * x) + c * np.exp(-d * x)\n",
      "/root/capsule/code/utils/new_preprocess.py:96: RuntimeWarning: overflow encountered in add\n",
      "  return a * np.exp(-b * x) + c * np.exp(-d * x)\n",
      "/root/capsule/code/utils/new_preprocess.py:96: RuntimeWarning: overflow encountered in multiply\n",
      "  return a * np.exp(-b * x) + c * np.exp(-d * x)\n",
      "/root/capsule/code/utils/new_preprocess.py:96: RuntimeWarning: overflow encountered in exp\n",
      "  return a * np.exp(-b * x) + c * np.exp(-d * x)\n",
      "/root/capsule/code/utils/new_preprocess.py:96: RuntimeWarning: overflow encountered in multiply\n",
      "  return a * np.exp(-b * x) + c * np.exp(-d * x)\n",
      "/root/capsule/code/utils/new_preprocess.py:96: RuntimeWarning: overflow encountered in add\n",
      "  return a * np.exp(-b * x) + c * np.exp(-d * x)\n"
     ]
    },
    {
     "name": "stdout",
     "output_type": "stream",
     "text": [
      "Converged after 20 iterations\n",
      "Converged after 20 iterations\n",
      "Converged after 20 iterations\n",
      "Processing NWB file: /data/photometry/vary_b_slow/FIP_000017_2024-08-06_09-59-34/FIP_000017_2024-08-06_09-59-34.nwb\n",
      "Converged after 20 iterations\n",
      "Converged after 20 iterations\n",
      "Processing NWB file: /data/photometry/vary_a_max/FIP_000142_2024-08-06_10-01-08/FIP_000142_2024-08-06_10-01-08.nwb\n",
      "Converged after 20 iterations\n"
     ]
    },
    {
     "name": "stderr",
     "output_type": "stream",
     "text": [
      "/root/capsule/code/utils/new_preprocess.py:96: RuntimeWarning: overflow encountered in exp\n",
      "  return a * np.exp(-b * x) + c * np.exp(-d * x)\n",
      "/root/capsule/code/utils/new_preprocess.py:96: RuntimeWarning: overflow encountered in multiply\n",
      "  return a * np.exp(-b * x) + c * np.exp(-d * x)\n",
      "/root/capsule/code/utils/new_preprocess.py:96: RuntimeWarning: overflow encountered in add\n",
      "  return a * np.exp(-b * x) + c * np.exp(-d * x)\n",
      "/opt/conda/lib/python3.10/site-packages/scipy/optimize/_numdiff.py:503: RuntimeWarning: invalid value encountered in subtract\n",
      "  dx = ((x0 + h) - x0)\n",
      "/opt/conda/lib/python3.10/site-packages/scipy/optimize/_numdiff.py:58: RuntimeWarning: invalid value encountered in subtract\n",
      "  upper_dist = ub - x0\n",
      "/opt/conda/lib/python3.10/site-packages/scipy/optimize/_numdiff.py:591: RuntimeWarning: invalid value encountered in scalar subtract\n",
      "  dx = x1[i] - x0[i]  # Recompute dx as exactly representable number.\n"
     ]
    },
    {
     "name": "stdout",
     "output_type": "stream",
     "text": [
      "Converged after 2 iterations\n",
      "Converged after 20 iterations\n"
     ]
    },
    {
     "name": "stderr",
     "output_type": "stream",
     "text": [
      "/root/capsule/code/utils/new_preprocess.py:96: RuntimeWarning: overflow encountered in exp\n",
      "  return a * np.exp(-b * x) + c * np.exp(-d * x)\n",
      "/root/capsule/code/utils/new_preprocess.py:96: RuntimeWarning: overflow encountered in multiply\n",
      "  return a * np.exp(-b * x) + c * np.exp(-d * x)\n",
      "/root/capsule/code/utils/new_preprocess.py:96: RuntimeWarning: overflow encountered in add\n",
      "  return a * np.exp(-b * x) + c * np.exp(-d * x)\n"
     ]
    },
    {
     "name": "stdout",
     "output_type": "stream",
     "text": [
      "Converged after 20 iterations\n",
      "Converged after 20 iterations\n",
      "Converged after 20 iterations\n",
      "Processing NWB file: /data/photometry/vary_b_bright/FIP_000045_2024-08-06_09-59-55/FIP_000045_2024-08-06_09-59-55.nwb\n",
      "Converged after 20 iterations\n"
     ]
    },
    {
     "name": "stderr",
     "output_type": "stream",
     "text": [
      "/root/capsule/code/utils/new_preprocess.py:96: RuntimeWarning: overflow encountered in exp\n",
      "  return a * np.exp(-b * x) + c * np.exp(-d * x)\n",
      "/root/capsule/code/utils/new_preprocess.py:96: RuntimeWarning: overflow encountered in multiply\n",
      "  return a * np.exp(-b * x) + c * np.exp(-d * x)\n",
      "/root/capsule/code/utils/new_preprocess.py:96: RuntimeWarning: overflow encountered in add\n",
      "  return a * np.exp(-b * x) + c * np.exp(-d * x)\n"
     ]
    },
    {
     "name": "stdout",
     "output_type": "stream",
     "text": [
      "Converged after 20 iterations\n",
      "Converged after 20 iterations\n",
      "Converged after 20 iterations\n",
      "Converged after 20 iterations\n",
      "Converged after 20 iterations\n",
      "Converged after 20 iterations\n",
      "Converged after 20 iterations\n",
      "Converged after 20 iterations\n",
      "Converged after 20 iterations\n",
      "Processing NWB file: /data/photometry/vary_b_fast/FIP_000031_2024-08-06_09-59-45/FIP_000031_2024-08-06_09-59-45.nwb\n",
      "Converged after 20 iterations\n",
      "Converged after 20 iterations\n",
      "Converged after 20 iterations\n",
      "Processing NWB file: /data/photometry/vary_corr_s/FIP_000168_2024-08-06_10-01-28/FIP_000168_2024-08-06_10-01-28.nwb\n",
      "Processing NWB file: /data/photometry/vary_b_inf/FIP_000003_2024-08-06_09-59-24/FIP_000003_2024-08-06_09-59-24.nwb\n"
     ]
    },
    {
     "name": "stderr",
     "output_type": "stream",
     "text": [
      "/root/capsule/code/utils/new_preprocess.py:96: RuntimeWarning: overflow encountered in exp\n",
      "  return a * np.exp(-b * x) + c * np.exp(-d * x)\n",
      "/root/capsule/code/utils/new_preprocess.py:96: RuntimeWarning: overflow encountered in multiply\n",
      "  return a * np.exp(-b * x) + c * np.exp(-d * x)\n",
      "/root/capsule/code/utils/new_preprocess.py:96: RuntimeWarning: overflow encountered in add\n",
      "  return a * np.exp(-b * x) + c * np.exp(-d * x)\n"
     ]
    },
    {
     "name": "stdout",
     "output_type": "stream",
     "text": [
      "Converged after 20 iterations\n",
      "Converged after 20 iterations\n"
     ]
    },
    {
     "name": "stderr",
     "output_type": "stream",
     "text": [
      "/root/capsule/code/utils/new_preprocess.py:96: RuntimeWarning: overflow encountered in exp\n",
      "  return a * np.exp(-b * x) + c * np.exp(-d * x)\n",
      "/root/capsule/code/utils/new_preprocess.py:96: RuntimeWarning: overflow encountered in multiply\n",
      "  return a * np.exp(-b * x) + c * np.exp(-d * x)\n",
      "/root/capsule/code/utils/new_preprocess.py:96: RuntimeWarning: overflow encountered in add\n",
      "  return a * np.exp(-b * x) + c * np.exp(-d * x)\n"
     ]
    },
    {
     "name": "stdout",
     "output_type": "stream",
     "text": [
      "Converged after 20 iterations\n",
      "Converged after 20 iterations\n",
      "Converged after 20 iterations\n",
      "Converged after 20 iterations\n",
      "Processing NWB file: /data/photometry/vary_a_power/FIP_000159_2024-08-06_10-01-21/FIP_000159_2024-08-06_10-01-21.nwb\n",
      "Converged after 20 iterations\n"
     ]
    },
    {
     "name": "stderr",
     "output_type": "stream",
     "text": [
      "/root/capsule/code/utils/new_preprocess.py:96: RuntimeWarning: overflow encountered in exp\n",
      "  return a * np.exp(-b * x) + c * np.exp(-d * x)\n",
      "/root/capsule/code/utils/new_preprocess.py:96: RuntimeWarning: overflow encountered in multiply\n",
      "  return a * np.exp(-b * x) + c * np.exp(-d * x)\n",
      "/root/capsule/code/utils/new_preprocess.py:96: RuntimeWarning: overflow encountered in add\n",
      "  return a * np.exp(-b * x) + c * np.exp(-d * x)\n"
     ]
    },
    {
     "name": "stdout",
     "output_type": "stream",
     "text": [
      "Converged after 20 iterations\n",
      "Converged after 20 iterations\n",
      "Converged after 20 iterations\n"
     ]
    },
    {
     "name": "stderr",
     "output_type": "stream",
     "text": [
      "/root/capsule/code/utils/new_preprocess.py:96: RuntimeWarning: overflow encountered in exp\n",
      "  return a * np.exp(-b * x) + c * np.exp(-d * x)\n",
      "/root/capsule/code/utils/new_preprocess.py:96: RuntimeWarning: overflow encountered in multiply\n",
      "  return a * np.exp(-b * x) + c * np.exp(-d * x)\n",
      "/root/capsule/code/utils/new_preprocess.py:96: RuntimeWarning: overflow encountered in add\n",
      "  return a * np.exp(-b * x) + c * np.exp(-d * x)\n"
     ]
    },
    {
     "name": "stdout",
     "output_type": "stream",
     "text": [
      "Converged after 20 iterations\n",
      "Converged after 20 iterations\n",
      "Converged after 20 iterations\n",
      "Converged after 20 iterations\n",
      "Converged after 20 iterations\n",
      "Converged after 20 iterations\n",
      "Converged after 20 iterations\n",
      "Converged after 20 iterations\n",
      "Converged after 20 iterations\n",
      "Converged after 20 iterations\n"
     ]
    },
    {
     "name": "stderr",
     "output_type": "stream",
     "text": [
      "/opt/conda/lib/python3.10/site-packages/scipy/optimize/_numdiff.py:503: RuntimeWarning: invalid value encountered in subtract\n",
      "  dx = ((x0 + h) - x0)\n",
      "/opt/conda/lib/python3.10/site-packages/scipy/optimize/_numdiff.py:58: RuntimeWarning: invalid value encountered in subtract\n",
      "  upper_dist = ub - x0\n",
      "/opt/conda/lib/python3.10/site-packages/scipy/optimize/_numdiff.py:591: RuntimeWarning: invalid value encountered in scalar subtract\n",
      "  dx = x1[i] - x0[i]  # Recompute dx as exactly representable number.\n"
     ]
    },
    {
     "name": "stdout",
     "output_type": "stream",
     "text": [
      "Converged after 2 iterations\n",
      "Converged after 20 iterations\n",
      "Converged after 20 iterations\n",
      "Processing NWB file: /data/photometry/vary_b_slow/FIP_000018_2024-08-06_09-59-35/FIP_000018_2024-08-06_09-59-35.nwb\n",
      "Converged after 20 iterations\n",
      "Converged after 20 iterations\n",
      "Converged after 20 iterations\n"
     ]
    },
    {
     "name": "stderr",
     "output_type": "stream",
     "text": [
      "/root/capsule/code/utils/new_preprocess.py:96: RuntimeWarning: overflow encountered in exp\n",
      "  return a * np.exp(-b * x) + c * np.exp(-d * x)\n",
      "/root/capsule/code/utils/new_preprocess.py:96: RuntimeWarning: overflow encountered in multiply\n",
      "  return a * np.exp(-b * x) + c * np.exp(-d * x)\n",
      "/root/capsule/code/utils/new_preprocess.py:96: RuntimeWarning: overflow encountered in add\n",
      "  return a * np.exp(-b * x) + c * np.exp(-d * x)\n"
     ]
    },
    {
     "name": "stdout",
     "output_type": "stream",
     "text": [
      "Converged after 20 iterations\n",
      "Converged after 20 iterations\n",
      "Converged after 20 iterations\n",
      "Processing NWB file: /data/photometry/vary_b_bright/FIP_000046_2024-08-06_09-59-56/FIP_000046_2024-08-06_09-59-56.nwb\n",
      "Converged after 20 iterations\n",
      "Converged after 20 iterations\n",
      "Processing NWB file: /data/photometry/vary_b_inf/FIP_000004_2024-08-06_09-59-24/FIP_000004_2024-08-06_09-59-24.nwb\n",
      "Converged after 20 iterations\n",
      "Converged after 20 iterations\n",
      "Converged after 20 iterations\n",
      "Processing NWB file: /data/photometry/vary_attenuation/FIP_000116_2024-08-06_10-00-49/FIP_000116_2024-08-06_10-00-49.nwb\n"
     ]
    },
    {
     "name": "stderr",
     "output_type": "stream",
     "text": [
      "/root/capsule/code/utils/new_preprocess.py:96: RuntimeWarning: overflow encountered in exp\n",
      "  return a * np.exp(-b * x) + c * np.exp(-d * x)\n",
      "/root/capsule/code/utils/new_preprocess.py:96: RuntimeWarning: overflow encountered in multiply\n",
      "  return a * np.exp(-b * x) + c * np.exp(-d * x)\n",
      "/root/capsule/code/utils/new_preprocess.py:96: RuntimeWarning: overflow encountered in add\n",
      "  return a * np.exp(-b * x) + c * np.exp(-d * x)\n",
      "/root/capsule/code/utils/new_preprocess.py:96: RuntimeWarning: overflow encountered in exp\n",
      "  return a * np.exp(-b * x) + c * np.exp(-d * x)\n",
      "/root/capsule/code/utils/new_preprocess.py:96: RuntimeWarning: overflow encountered in multiply\n",
      "  return a * np.exp(-b * x) + c * np.exp(-d * x)\n",
      "/root/capsule/code/utils/new_preprocess.py:96: RuntimeWarning: overflow encountered in add\n",
      "  return a * np.exp(-b * x) + c * np.exp(-d * x)\n"
     ]
    },
    {
     "name": "stdout",
     "output_type": "stream",
     "text": [
      "Converged after 20 iterations\n"
     ]
    },
    {
     "name": "stderr",
     "output_type": "stream",
     "text": [
      "/root/capsule/code/utils/new_preprocess.py:96: RuntimeWarning: overflow encountered in exp\n",
      "  return a * np.exp(-b * x) + c * np.exp(-d * x)\n",
      "/root/capsule/code/utils/new_preprocess.py:96: RuntimeWarning: overflow encountered in multiply\n",
      "  return a * np.exp(-b * x) + c * np.exp(-d * x)\n",
      "/root/capsule/code/utils/new_preprocess.py:96: RuntimeWarning: overflow encountered in add\n",
      "  return a * np.exp(-b * x) + c * np.exp(-d * x)\n",
      "/root/capsule/code/utils/new_preprocess.py:96: RuntimeWarning: overflow encountered in exp\n",
      "  return a * np.exp(-b * x) + c * np.exp(-d * x)\n",
      "/root/capsule/code/utils/new_preprocess.py:96: RuntimeWarning: overflow encountered in add\n",
      "  return a * np.exp(-b * x) + c * np.exp(-d * x)\n",
      "/root/capsule/code/utils/new_preprocess.py:96: RuntimeWarning: overflow encountered in multiply\n",
      "  return a * np.exp(-b * x) + c * np.exp(-d * x)\n"
     ]
    },
    {
     "name": "stdout",
     "output_type": "stream",
     "text": [
      "Converged after 20 iterations\n",
      "Converged after 20 iterations\n",
      "Converged after 20 iterations\n",
      "Processing NWB file: /data/photometry/vary_a_max/FIP_000143_2024-08-06_10-01-09/FIP_000143_2024-08-06_10-01-09.nwb\n",
      "Converged after 20 iterations\n",
      "Converged after 20 iterations\n"
     ]
    },
    {
     "name": "stderr",
     "output_type": "stream",
     "text": [
      "/root/capsule/code/utils/new_preprocess.py:96: RuntimeWarning: overflow encountered in exp\n",
      "  return a * np.exp(-b * x) + c * np.exp(-d * x)\n",
      "/root/capsule/code/utils/new_preprocess.py:96: RuntimeWarning: overflow encountered in multiply\n",
      "  return a * np.exp(-b * x) + c * np.exp(-d * x)\n",
      "/root/capsule/code/utils/new_preprocess.py:96: RuntimeWarning: overflow encountered in add\n",
      "  return a * np.exp(-b * x) + c * np.exp(-d * x)\n"
     ]
    },
    {
     "name": "stdout",
     "output_type": "stream",
     "text": [
      "Converged after 20 iterations\n"
     ]
    },
    {
     "name": "stderr",
     "output_type": "stream",
     "text": [
      "/opt/conda/lib/python3.10/site-packages/scipy/optimize/_numdiff.py:503: RuntimeWarning: invalid value encountered in subtract\n",
      "  dx = ((x0 + h) - x0)\n",
      "/opt/conda/lib/python3.10/site-packages/scipy/optimize/_numdiff.py:58: RuntimeWarning: invalid value encountered in subtract\n",
      "  upper_dist = ub - x0\n",
      "/opt/conda/lib/python3.10/site-packages/scipy/optimize/_numdiff.py:591: RuntimeWarning: invalid value encountered in scalar subtract\n",
      "  dx = x1[i] - x0[i]  # Recompute dx as exactly representable number.\n"
     ]
    },
    {
     "name": "stdout",
     "output_type": "stream",
     "text": [
      "Converged after 2 iterations\n",
      "Converged after 20 iterations\n",
      "Converged after 20 iterations\n",
      "Converged after 20 iterations\n",
      "Converged after 20 iterations\n",
      "Converged after 20 iterations\n",
      "Converged after 11 iterations\n",
      "Processing NWB file: /data/photometry/vary_b_fast/FIP_000032_2024-08-06_09-59-45/FIP_000032_2024-08-06_09-59-45.nwb\n",
      "Converged after 20 iterations\n",
      "Converged after 20 iterations\n",
      "Converged after 20 iterations\n",
      "Converged after 20 iterations\n"
     ]
    },
    {
     "name": "stderr",
     "output_type": "stream",
     "text": [
      "/root/capsule/code/utils/new_preprocess.py:96: RuntimeWarning: overflow encountered in exp\n",
      "  return a * np.exp(-b * x) + c * np.exp(-d * x)\n",
      "/root/capsule/code/utils/new_preprocess.py:96: RuntimeWarning: overflow encountered in multiply\n",
      "  return a * np.exp(-b * x) + c * np.exp(-d * x)\n",
      "/root/capsule/code/utils/new_preprocess.py:96: RuntimeWarning: overflow encountered in add\n",
      "  return a * np.exp(-b * x) + c * np.exp(-d * x)\n"
     ]
    },
    {
     "name": "stdout",
     "output_type": "stream",
     "text": [
      "Converged after 20 iterations\n",
      "Converged after 20 iterations\n",
      "Converged after 20 iterations\n",
      "Converged after 20 iterations\n",
      "Converged after 20 iterations\n",
      "Converged after 20 iterations\n",
      "Converged after 20 iterations\n",
      "Converged after 20 iterations\n",
      "Processing NWB file: /data/photometry/vary_corr_s/FIP_000169_2024-08-06_10-01-29/FIP_000169_2024-08-06_10-01-29.nwb\n",
      "Processing NWB file: /data/photometry/vary_a_power/FIP_000160_2024-08-06_10-01-22/FIP_000160_2024-08-06_10-01-22.nwb\n",
      "Converged after 20 iterations\n"
     ]
    },
    {
     "name": "stderr",
     "output_type": "stream",
     "text": [
      "/root/capsule/code/utils/new_preprocess.py:96: RuntimeWarning: overflow encountered in exp\n",
      "  return a * np.exp(-b * x) + c * np.exp(-d * x)\n",
      "/root/capsule/code/utils/new_preprocess.py:96: RuntimeWarning: overflow encountered in multiply\n",
      "  return a * np.exp(-b * x) + c * np.exp(-d * x)\n",
      "/root/capsule/code/utils/new_preprocess.py:96: RuntimeWarning: overflow encountered in add\n",
      "  return a * np.exp(-b * x) + c * np.exp(-d * x)\n"
     ]
    },
    {
     "name": "stdout",
     "output_type": "stream",
     "text": [
      "Converged after 20 iterations\n",
      "Converged after 20 iterations\n"
     ]
    },
    {
     "name": "stderr",
     "output_type": "stream",
     "text": [
      "/root/capsule/code/utils/new_preprocess.py:96: RuntimeWarning: overflow encountered in exp\n",
      "  return a * np.exp(-b * x) + c * np.exp(-d * x)\n",
      "/root/capsule/code/utils/new_preprocess.py:96: RuntimeWarning: overflow encountered in multiply\n",
      "  return a * np.exp(-b * x) + c * np.exp(-d * x)\n",
      "/root/capsule/code/utils/new_preprocess.py:96: RuntimeWarning: overflow encountered in add\n",
      "  return a * np.exp(-b * x) + c * np.exp(-d * x)\n",
      "/root/capsule/code/utils/new_preprocess.py:96: RuntimeWarning: overflow encountered in exp\n",
      "  return a * np.exp(-b * x) + c * np.exp(-d * x)\n",
      "/root/capsule/code/utils/new_preprocess.py:96: RuntimeWarning: overflow encountered in add\n",
      "  return a * np.exp(-b * x) + c * np.exp(-d * x)\n",
      "/root/capsule/code/utils/new_preprocess.py:96: RuntimeWarning: overflow encountered in multiply\n",
      "  return a * np.exp(-b * x) + c * np.exp(-d * x)\n"
     ]
    },
    {
     "name": "stdout",
     "output_type": "stream",
     "text": [
      "Converged after 20 iterations\n",
      "Converged after 20 iterations\n",
      "Converged after 20 iterations\n",
      "Converged after 20 iterations\n",
      "Processing NWB file: /data/photometry/vary_b_slow/FIP_000019_2024-08-06_09-59-36/FIP_000019_2024-08-06_09-59-36.nwb\n",
      "Converged after 20 iterations\n",
      "Converged after 20 iterations\n"
     ]
    },
    {
     "name": "stderr",
     "output_type": "stream",
     "text": [
      "/root/capsule/code/utils/new_preprocess.py:96: RuntimeWarning: overflow encountered in exp\n",
      "  return a * np.exp(-b * x) + c * np.exp(-d * x)\n",
      "/root/capsule/code/utils/new_preprocess.py:96: RuntimeWarning: overflow encountered in multiply\n",
      "  return a * np.exp(-b * x) + c * np.exp(-d * x)\n",
      "/root/capsule/code/utils/new_preprocess.py:96: RuntimeWarning: overflow encountered in add\n",
      "  return a * np.exp(-b * x) + c * np.exp(-d * x)\n"
     ]
    },
    {
     "name": "stdout",
     "output_type": "stream",
     "text": [
      "Converged after 20 iterations\n",
      "Converged after 20 iterations\n",
      "Converged after 20 iterations\n",
      "Converged after 20 iterations\n",
      "Converged after 20 iterations\n",
      "Processing NWB file: /data/photometry/vary_a_max/FIP_000144_2024-08-06_10-01-10/FIP_000144_2024-08-06_10-01-10.nwb\n",
      "Converged after 20 iterations\n",
      "Converged after 20 iterations\n",
      "Processing NWB file: /data/photometry/vary_b_bright/FIP_000047_2024-08-06_09-59-57/FIP_000047_2024-08-06_09-59-57.nwb\n",
      "Converged after 20 iterations\n",
      "Converged after 20 iterations\n"
     ]
    },
    {
     "name": "stderr",
     "output_type": "stream",
     "text": [
      "/root/capsule/code/utils/new_preprocess.py:96: RuntimeWarning: overflow encountered in exp\n",
      "  return a * np.exp(-b * x) + c * np.exp(-d * x)\n",
      "/root/capsule/code/utils/new_preprocess.py:96: RuntimeWarning: overflow encountered in multiply\n",
      "  return a * np.exp(-b * x) + c * np.exp(-d * x)\n",
      "/root/capsule/code/utils/new_preprocess.py:96: RuntimeWarning: overflow encountered in add\n",
      "  return a * np.exp(-b * x) + c * np.exp(-d * x)\n"
     ]
    },
    {
     "name": "stdout",
     "output_type": "stream",
     "text": [
      "Converged after 20 iterations\n"
     ]
    },
    {
     "name": "stderr",
     "output_type": "stream",
     "text": [
      "/root/capsule/code/utils/new_preprocess.py:96: RuntimeWarning: overflow encountered in exp\n",
      "  return a * np.exp(-b * x) + c * np.exp(-d * x)\n",
      "/root/capsule/code/utils/new_preprocess.py:96: RuntimeWarning: overflow encountered in multiply\n",
      "  return a * np.exp(-b * x) + c * np.exp(-d * x)\n",
      "/root/capsule/code/utils/new_preprocess.py:96: RuntimeWarning: overflow encountered in add\n",
      "  return a * np.exp(-b * x) + c * np.exp(-d * x)\n"
     ]
    },
    {
     "name": "stdout",
     "output_type": "stream",
     "text": [
      "Converged after 20 iterations\n"
     ]
    },
    {
     "name": "stderr",
     "output_type": "stream",
     "text": [
      "/opt/conda/lib/python3.10/site-packages/scipy/optimize/_numdiff.py:503: RuntimeWarning: invalid value encountered in subtract\n",
      "  dx = ((x0 + h) - x0)\n",
      "/opt/conda/lib/python3.10/site-packages/scipy/optimize/_numdiff.py:58: RuntimeWarning: invalid value encountered in subtract\n",
      "  upper_dist = ub - x0\n",
      "/opt/conda/lib/python3.10/site-packages/scipy/optimize/_numdiff.py:591: RuntimeWarning: invalid value encountered in scalar subtract\n",
      "  dx = x1[i] - x0[i]  # Recompute dx as exactly representable number.\n"
     ]
    },
    {
     "name": "stdout",
     "output_type": "stream",
     "text": [
      "Converged after 2 iterations\n",
      "Converged after 20 iterations\n",
      "Converged after 20 iterations\n",
      "Converged after 20 iterations\n",
      "Converged after 20 iterations\n",
      "Converged after 20 iterations\n",
      "Converged after 20 iterations\n",
      "Converged after 20 iterations\n",
      "Converged after 20 iterations\n",
      "Processing NWB file: /data/photometry/vary_attenuation/FIP_000117_2024-08-06_10-00-50/FIP_000117_2024-08-06_10-00-50.nwb\n",
      "Converged after 20 iterations\n",
      "Converged after 20 iterations\n",
      "Processing NWB file: /data/photometry/vary_b_fast/FIP_000033_2024-08-06_09-59-46/FIP_000033_2024-08-06_09-59-46.nwb\n",
      "Converged after 20 iterations\n"
     ]
    },
    {
     "name": "stderr",
     "output_type": "stream",
     "text": [
      "/root/capsule/code/utils/new_preprocess.py:96: RuntimeWarning: overflow encountered in exp\n",
      "  return a * np.exp(-b * x) + c * np.exp(-d * x)\n",
      "/root/capsule/code/utils/new_preprocess.py:96: RuntimeWarning: overflow encountered in multiply\n",
      "  return a * np.exp(-b * x) + c * np.exp(-d * x)\n",
      "/root/capsule/code/utils/new_preprocess.py:96: RuntimeWarning: overflow encountered in add\n",
      "  return a * np.exp(-b * x) + c * np.exp(-d * x)\n"
     ]
    },
    {
     "name": "stdout",
     "output_type": "stream",
     "text": [
      "Converged after 20 iterations\n",
      "Processing NWB file: /data/photometry/vary_b_inf/FIP_000005_2024-08-06_09-59-25/FIP_000005_2024-08-06_09-59-25.nwb\n"
     ]
    },
    {
     "name": "stderr",
     "output_type": "stream",
     "text": [
      "/root/capsule/code/utils/new_preprocess.py:96: RuntimeWarning: overflow encountered in exp\n",
      "  return a * np.exp(-b * x) + c * np.exp(-d * x)\n",
      "/root/capsule/code/utils/new_preprocess.py:96: RuntimeWarning: overflow encountered in multiply\n",
      "  return a * np.exp(-b * x) + c * np.exp(-d * x)\n",
      "/root/capsule/code/utils/new_preprocess.py:96: RuntimeWarning: overflow encountered in add\n",
      "  return a * np.exp(-b * x) + c * np.exp(-d * x)\n"
     ]
    },
    {
     "name": "stdout",
     "output_type": "stream",
     "text": [
      "Converged after 20 iterations\n"
     ]
    },
    {
     "name": "stderr",
     "output_type": "stream",
     "text": [
      "/root/capsule/code/utils/new_preprocess.py:96: RuntimeWarning: overflow encountered in exp\n",
      "  return a * np.exp(-b * x) + c * np.exp(-d * x)\n",
      "/root/capsule/code/utils/new_preprocess.py:96: RuntimeWarning: overflow encountered in multiply\n",
      "  return a * np.exp(-b * x) + c * np.exp(-d * x)\n",
      "/root/capsule/code/utils/new_preprocess.py:96: RuntimeWarning: overflow encountered in add\n",
      "  return a * np.exp(-b * x) + c * np.exp(-d * x)\n"
     ]
    },
    {
     "name": "stdout",
     "output_type": "stream",
     "text": [
      "Converged after 20 iterations\n",
      "Converged after 20 iterations\n",
      "Converged after 20 iterations\n",
      "Converged after 20 iterations\n",
      "Processing NWB file: /data/photometry/vary_a_max/FIP_000145_2024-08-06_10-01-11/FIP_000145_2024-08-06_10-01-11.nwb\n",
      "Converged after 20 iterations\n",
      "Converged after 20 iterationsConverged after 20 iterations\n",
      "\n",
      "Converged after 20 iterations\n",
      "Converged after 20 iterations\n",
      "Converged after 20 iterations\n",
      "Converged after 20 iterations\n",
      "Converged after 20 iterations\n",
      "Processing NWB file: /data/photometry/vary_a_power/FIP_000161_2024-08-06_10-01-23/FIP_000161_2024-08-06_10-01-23.nwb\n",
      "Converged after 20 iterations\n",
      "Converged after 20 iterations\n",
      "Converged after 20 iterations\n",
      "Converged after 20 iterations\n",
      "Converged after 20 iterations\n",
      "Converged after 20 iterations\n",
      "Converged after 20 iterations\n",
      "Converged after 20 iterations\n",
      "Processing NWB file: /data/photometry/vary_corr_s/FIP_000170_2024-08-06_10-01-30/FIP_000170_2024-08-06_10-01-30.nwb\n",
      "Converged after 20 iterations\n",
      "Converged after 20 iterations\n",
      "Converged after 20 iterations\n"
     ]
    },
    {
     "name": "stderr",
     "output_type": "stream",
     "text": [
      "/root/capsule/code/utils/new_preprocess.py:96: RuntimeWarning: overflow encountered in exp\n",
      "  return a * np.exp(-b * x) + c * np.exp(-d * x)\n",
      "/root/capsule/code/utils/new_preprocess.py:96: RuntimeWarning: overflow encountered in multiply\n",
      "  return a * np.exp(-b * x) + c * np.exp(-d * x)\n",
      "/root/capsule/code/utils/new_preprocess.py:96: RuntimeWarning: overflow encountered in add\n",
      "  return a * np.exp(-b * x) + c * np.exp(-d * x)\n"
     ]
    },
    {
     "name": "stdout",
     "output_type": "stream",
     "text": [
      "Converged after 20 iterations\n"
     ]
    },
    {
     "name": "stderr",
     "output_type": "stream",
     "text": [
      "/root/capsule/code/utils/new_preprocess.py:96: RuntimeWarning: overflow encountered in exp\n",
      "  return a * np.exp(-b * x) + c * np.exp(-d * x)\n",
      "/root/capsule/code/utils/new_preprocess.py:96: RuntimeWarning: overflow encountered in multiply\n",
      "  return a * np.exp(-b * x) + c * np.exp(-d * x)\n",
      "/root/capsule/code/utils/new_preprocess.py:96: RuntimeWarning: overflow encountered in add\n",
      "  return a * np.exp(-b * x) + c * np.exp(-d * x)\n"
     ]
    },
    {
     "name": "stdout",
     "output_type": "stream",
     "text": [
      "Converged after 20 iterations\n",
      "Converged after 20 iterations\n",
      "Converged after 20 iterations\n",
      "Converged after 20 iterations\n",
      "Converged after 20 iterations\n",
      "Processing NWB file: /data/photometry/vary_a_max/FIP_000146_2024-08-06_10-01-11/FIP_000146_2024-08-06_10-01-11.nwb\n",
      "Converged after 20 iterations\n",
      "Converged after 20 iterations\n"
     ]
    },
    {
     "name": "stderr",
     "output_type": "stream",
     "text": [
      "/root/capsule/code/utils/new_preprocess.py:96: RuntimeWarning: overflow encountered in exp\n",
      "  return a * np.exp(-b * x) + c * np.exp(-d * x)\n",
      "/root/capsule/code/utils/new_preprocess.py:96: RuntimeWarning: overflow encountered in multiply\n",
      "  return a * np.exp(-b * x) + c * np.exp(-d * x)\n",
      "/root/capsule/code/utils/new_preprocess.py:96: RuntimeWarning: overflow encountered in add\n",
      "  return a * np.exp(-b * x) + c * np.exp(-d * x)\n"
     ]
    },
    {
     "name": "stdout",
     "output_type": "stream",
     "text": [
      "Processing NWB file: /data/photometry/vary_b_slow/FIP_000020_2024-08-06_09-59-37/FIP_000020_2024-08-06_09-59-37.nwb\n",
      "Converged after 20 iterations\n",
      "Converged after 20 iterations\n",
      "Converged after 20 iterations\n"
     ]
    },
    {
     "name": "stderr",
     "output_type": "stream",
     "text": [
      "/root/capsule/code/utils/new_preprocess.py:96: RuntimeWarning: overflow encountered in exp\n",
      "  return a * np.exp(-b * x) + c * np.exp(-d * x)\n",
      "/root/capsule/code/utils/new_preprocess.py:96: RuntimeWarning: overflow encountered in multiply\n",
      "  return a * np.exp(-b * x) + c * np.exp(-d * x)\n",
      "/root/capsule/code/utils/new_preprocess.py:96: RuntimeWarning: overflow encountered in add\n",
      "  return a * np.exp(-b * x) + c * np.exp(-d * x)\n"
     ]
    },
    {
     "name": "stdout",
     "output_type": "stream",
     "text": [
      "Converged after 20 iterations\n",
      "Processing NWB file: /data/photometry/vary_attenuation/FIP_000118_2024-08-06_10-00-50/FIP_000118_2024-08-06_10-00-50.nwb\n",
      "Converged after 20 iterations\n"
     ]
    },
    {
     "name": "stderr",
     "output_type": "stream",
     "text": [
      "/root/capsule/code/utils/new_preprocess.py:96: RuntimeWarning: overflow encountered in exp\n",
      "  return a * np.exp(-b * x) + c * np.exp(-d * x)\n",
      "/root/capsule/code/utils/new_preprocess.py:96: RuntimeWarning: overflow encountered in multiply\n",
      "  return a * np.exp(-b * x) + c * np.exp(-d * x)\n",
      "/root/capsule/code/utils/new_preprocess.py:96: RuntimeWarning: overflow encountered in add\n",
      "  return a * np.exp(-b * x) + c * np.exp(-d * x)\n"
     ]
    },
    {
     "name": "stdout",
     "output_type": "stream",
     "text": [
      "Converged after 20 iterations\n",
      "Converged after 20 iterations\n"
     ]
    },
    {
     "name": "stderr",
     "output_type": "stream",
     "text": [
      "/root/capsule/code/utils/new_preprocess.py:96: RuntimeWarning: overflow encountered in exp\n",
      "  return a * np.exp(-b * x) + c * np.exp(-d * x)\n",
      "/root/capsule/code/utils/new_preprocess.py:96: RuntimeWarning: overflow encountered in multiply\n",
      "  return a * np.exp(-b * x) + c * np.exp(-d * x)\n",
      "/root/capsule/code/utils/new_preprocess.py:96: RuntimeWarning: overflow encountered in add\n",
      "  return a * np.exp(-b * x) + c * np.exp(-d * x)\n"
     ]
    },
    {
     "name": "stdout",
     "output_type": "stream",
     "text": [
      "Converged after 20 iterations\n"
     ]
    },
    {
     "name": "stderr",
     "output_type": "stream",
     "text": [
      "/opt/conda/lib/python3.10/site-packages/scipy/optimize/_numdiff.py:503: RuntimeWarning: invalid value encountered in subtract\n",
      "  dx = ((x0 + h) - x0)\n",
      "/opt/conda/lib/python3.10/site-packages/scipy/optimize/_numdiff.py:58: RuntimeWarning: invalid value encountered in subtract\n",
      "  upper_dist = ub - x0\n",
      "/opt/conda/lib/python3.10/site-packages/scipy/optimize/_numdiff.py:591: RuntimeWarning: invalid value encountered in scalar subtract\n",
      "  dx = x1[i] - x0[i]  # Recompute dx as exactly representable number.\n"
     ]
    },
    {
     "name": "stdout",
     "output_type": "stream",
     "text": [
      "Converged after 2 iterations\n"
     ]
    },
    {
     "name": "stderr",
     "output_type": "stream",
     "text": [
      "/root/capsule/code/utils/new_preprocess.py:96: RuntimeWarning: overflow encountered in exp\n",
      "  return a * np.exp(-b * x) + c * np.exp(-d * x)\n",
      "/root/capsule/code/utils/new_preprocess.py:96: RuntimeWarning: overflow encountered in multiply\n",
      "  return a * np.exp(-b * x) + c * np.exp(-d * x)\n",
      "/root/capsule/code/utils/new_preprocess.py:96: RuntimeWarning: overflow encountered in add\n",
      "  return a * np.exp(-b * x) + c * np.exp(-d * x)\n"
     ]
    },
    {
     "name": "stdout",
     "output_type": "stream",
     "text": [
      "Converged after 20 iterations\n",
      "Converged after 20 iterations\n",
      "Converged after 20 iterations\n",
      "Converged after 20 iterations\n",
      "Converged after 20 iterations\n",
      "Processing NWB file: /data/photometry/vary_b_fast/FIP_000034_2024-08-06_09-59-47/FIP_000034_2024-08-06_09-59-47.nwb\n",
      "Converged after 20 iterations\n",
      "Converged after 20 iterations\n"
     ]
    },
    {
     "name": "stderr",
     "output_type": "stream",
     "text": [
      "/root/capsule/code/utils/new_preprocess.py:96: RuntimeWarning: overflow encountered in exp\n",
      "  return a * np.exp(-b * x) + c * np.exp(-d * x)\n",
      "/root/capsule/code/utils/new_preprocess.py:96: RuntimeWarning: overflow encountered in multiply\n",
      "  return a * np.exp(-b * x) + c * np.exp(-d * x)\n",
      "/root/capsule/code/utils/new_preprocess.py:96: RuntimeWarning: overflow encountered in add\n",
      "  return a * np.exp(-b * x) + c * np.exp(-d * x)\n"
     ]
    },
    {
     "name": "stdout",
     "output_type": "stream",
     "text": [
      "Converged after 20 iterations\n",
      "Converged after 20 iterations\n",
      "Converged after 20 iterations\n",
      "Converged after 20 iterations\n",
      "Converged after 20 iterations\n",
      "Converged after 20 iterations\n",
      "Converged after 20 iterations\n",
      "Converged after 20 iterations\n",
      "Processing NWB file: /data/photometry/vary_b_bright/FIP_000048_2024-08-06_09-59-58/FIP_000048_2024-08-06_09-59-58.nwb\n",
      "Processing NWB file: /data/photometry/vary_a_power/FIP_000162_2024-08-06_10-01-24/FIP_000162_2024-08-06_10-01-24.nwb\n"
     ]
    },
    {
     "name": "stderr",
     "output_type": "stream",
     "text": [
      "/root/capsule/code/utils/new_preprocess.py:96: RuntimeWarning: overflow encountered in exp\n",
      "  return a * np.exp(-b * x) + c * np.exp(-d * x)\n",
      "/root/capsule/code/utils/new_preprocess.py:96: RuntimeWarning: overflow encountered in multiply\n",
      "  return a * np.exp(-b * x) + c * np.exp(-d * x)\n",
      "/root/capsule/code/utils/new_preprocess.py:96: RuntimeWarning: invalid value encountered in add\n",
      "  return a * np.exp(-b * x) + c * np.exp(-d * x)\n",
      "/root/capsule/code/utils/new_preprocess.py:96: RuntimeWarning: overflow encountered in add\n",
      "  return a * np.exp(-b * x) + c * np.exp(-d * x)\n",
      "/root/capsule/code/utils/new_preprocess.py:96: RuntimeWarning: overflow encountered in exp\n",
      "  return a * np.exp(-b * x) + c * np.exp(-d * x)\n",
      "/root/capsule/code/utils/new_preprocess.py:96: RuntimeWarning: overflow encountered in multiply\n",
      "  return a * np.exp(-b * x) + c * np.exp(-d * x)\n"
     ]
    },
    {
     "name": "stdout",
     "output_type": "stream",
     "text": [
      "Converged after 20 iterations\n"
     ]
    },
    {
     "name": "stderr",
     "output_type": "stream",
     "text": [
      "/root/capsule/code/utils/new_preprocess.py:96: RuntimeWarning: overflow encountered in add\n",
      "  return a * np.exp(-b * x) + c * np.exp(-d * x)\n",
      "/root/capsule/code/utils/new_preprocess.py:96: RuntimeWarning: overflow encountered in exp\n",
      "  return a * np.exp(-b * x) + c * np.exp(-d * x)\n",
      "/root/capsule/code/utils/new_preprocess.py:96: RuntimeWarning: overflow encountered in multiply\n",
      "  return a * np.exp(-b * x) + c * np.exp(-d * x)\n",
      "/root/capsule/code/utils/new_preprocess.py:96: RuntimeWarning: overflow encountered in add\n",
      "  return a * np.exp(-b * x) + c * np.exp(-d * x)\n"
     ]
    },
    {
     "name": "stdout",
     "output_type": "stream",
     "text": [
      "Processing NWB file: /data/photometry/vary_corr_s/FIP_000171_2024-08-06_10-01-30/FIP_000171_2024-08-06_10-01-30.nwb\n",
      "Converged after 20 iterations\n",
      "Converged after 20 iterations\n",
      "Converged after 20 iterations\n"
     ]
    },
    {
     "name": "stderr",
     "output_type": "stream",
     "text": [
      "/root/capsule/code/utils/new_preprocess.py:96: RuntimeWarning: overflow encountered in exp\n",
      "  return a * np.exp(-b * x) + c * np.exp(-d * x)\n",
      "/root/capsule/code/utils/new_preprocess.py:96: RuntimeWarning: overflow encountered in multiply\n",
      "  return a * np.exp(-b * x) + c * np.exp(-d * x)\n",
      "/root/capsule/code/utils/new_preprocess.py:96: RuntimeWarning: overflow encountered in add\n",
      "  return a * np.exp(-b * x) + c * np.exp(-d * x)\n"
     ]
    },
    {
     "name": "stdout",
     "output_type": "stream",
     "text": [
      "Converged after 20 iterations\n"
     ]
    },
    {
     "name": "stderr",
     "output_type": "stream",
     "text": [
      "/opt/conda/lib/python3.10/site-packages/scipy/optimize/_numdiff.py:503: RuntimeWarning: invalid value encountered in subtract\n",
      "  dx = ((x0 + h) - x0)\n",
      "/opt/conda/lib/python3.10/site-packages/scipy/optimize/_numdiff.py:58: RuntimeWarning: invalid value encountered in subtract\n",
      "  upper_dist = ub - x0\n",
      "/opt/conda/lib/python3.10/site-packages/scipy/optimize/_numdiff.py:591: RuntimeWarning: invalid value encountered in scalar subtract\n",
      "  dx = x1[i] - x0[i]  # Recompute dx as exactly representable number.\n"
     ]
    },
    {
     "name": "stdout",
     "output_type": "stream",
     "text": [
      "Converged after 2 iterations\n",
      "Converged after 20 iterations\n",
      "Converged after 20 iterations\n",
      "Converged after 20 iterations\n",
      "Processing NWB file: /data/photometry/vary_b_inf/FIP_000006_2024-08-06_09-59-26/FIP_000006_2024-08-06_09-59-26.nwb\n",
      "Converged after 20 iterations\n",
      "Converged after 20 iterations\n"
     ]
    },
    {
     "name": "stderr",
     "output_type": "stream",
     "text": [
      "/root/capsule/code/utils/new_preprocess.py:96: RuntimeWarning: overflow encountered in exp\n",
      "  return a * np.exp(-b * x) + c * np.exp(-d * x)\n",
      "/root/capsule/code/utils/new_preprocess.py:96: RuntimeWarning: overflow encountered in multiply\n",
      "  return a * np.exp(-b * x) + c * np.exp(-d * x)\n"
     ]
    },
    {
     "name": "stdout",
     "output_type": "stream",
     "text": [
      "Converged after 20 iterations\n",
      "Converged after 20 iterations\n",
      "Converged after 20 iterations\n",
      "Converged after 20 iterations\n",
      "Converged after 20 iterations\n",
      "Converged after 20 iterations\n",
      "Converged after 20 iterations\n"
     ]
    },
    {
     "name": "stderr",
     "output_type": "stream",
     "text": [
      "/opt/conda/lib/python3.10/site-packages/scipy/optimize/_numdiff.py:503: RuntimeWarning: invalid value encountered in subtract\n",
      "  dx = ((x0 + h) - x0)\n",
      "/opt/conda/lib/python3.10/site-packages/scipy/optimize/_numdiff.py:58: RuntimeWarning: invalid value encountered in subtract\n",
      "  upper_dist = ub - x0\n",
      "/opt/conda/lib/python3.10/site-packages/scipy/optimize/_numdiff.py:591: RuntimeWarning: invalid value encountered in scalar subtract\n",
      "  dx = x1[i] - x0[i]  # Recompute dx as exactly representable number.\n"
     ]
    },
    {
     "name": "stdout",
     "output_type": "stream",
     "text": [
      "Converged after 20 iterations\n",
      "Converged after 2 iterations\n",
      "Processing NWB file: /data/photometry/vary_a_max/FIP_000147_2024-08-06_10-01-12/FIP_000147_2024-08-06_10-01-12.nwb\n",
      "Converged after 20 iterations\n",
      "Converged after 20 iterations\n",
      "Converged after 20 iterations\n",
      "Converged after 12 iterations\n",
      "Converged after 20 iterations\n",
      "Converged after 20 iterations\n",
      "Converged after 20 iterations\n",
      "Converged after 20 iterations\n",
      "Converged after 20 iterations\n",
      "Converged after 20 iterations\n",
      "Converged after 15 iterations\n",
      "Processing NWB file: /data/photometry/vary_attenuation/FIP_000119_2024-08-06_10-00-51/FIP_000119_2024-08-06_10-00-51.nwb\n",
      "Converged after 20 iterations\n",
      "Converged after 20 iterations\n",
      "Converged after 20 iterations\n"
     ]
    },
    {
     "name": "stderr",
     "output_type": "stream",
     "text": [
      "/root/capsule/code/utils/new_preprocess.py:96: RuntimeWarning: overflow encountered in exp\n",
      "  return a * np.exp(-b * x) + c * np.exp(-d * x)\n",
      "/root/capsule/code/utils/new_preprocess.py:96: RuntimeWarning: overflow encountered in multiply\n",
      "  return a * np.exp(-b * x) + c * np.exp(-d * x)\n",
      "/root/capsule/code/utils/new_preprocess.py:96: RuntimeWarning: overflow encountered in add\n",
      "  return a * np.exp(-b * x) + c * np.exp(-d * x)\n"
     ]
    },
    {
     "name": "stdout",
     "output_type": "stream",
     "text": [
      "Converged after 20 iterations\n",
      "Converged after 20 iterations\n",
      "Converged after 20 iterations\n"
     ]
    },
    {
     "name": "stderr",
     "output_type": "stream",
     "text": [
      "/opt/conda/lib/python3.10/site-packages/scipy/optimize/_numdiff.py:503: RuntimeWarning: invalid value encountered in subtract\n",
      "  dx = ((x0 + h) - x0)\n",
      "/opt/conda/lib/python3.10/site-packages/scipy/optimize/_numdiff.py:58: RuntimeWarning: invalid value encountered in subtract\n",
      "  upper_dist = ub - x0\n",
      "/opt/conda/lib/python3.10/site-packages/scipy/optimize/_numdiff.py:591: RuntimeWarning: invalid value encountered in scalar subtract\n",
      "  dx = x1[i] - x0[i]  # Recompute dx as exactly representable number.\n"
     ]
    },
    {
     "name": "stdout",
     "output_type": "stream",
     "text": [
      "Converged after 2 iterations\n",
      "Converged after 20 iterations\n",
      "Processing NWB file: /data/photometry/vary_b_fast/FIP_000035_2024-08-06_09-59-48/FIP_000035_2024-08-06_09-59-48.nwb\n",
      "Converged after 11 iterations\n",
      "Converged after 20 iterations\n",
      "Converged after 11 iterations\n",
      "Converged after 20 iterations\n",
      "Processing NWB file: /data/photometry/vary_b_inf/FIP_000007_2024-08-06_09-59-27/FIP_000007_2024-08-06_09-59-27.nwb\n",
      "Converged after 20 iterations\n",
      "Processing NWB file: /data/photometry/vary_decay/FIP_000148_2024-08-06_10-01-13/FIP_000148_2024-08-06_10-01-13.nwb\n"
     ]
    },
    {
     "name": "stderr",
     "output_type": "stream",
     "text": [
      "/root/capsule/code/utils/new_preprocess.py:96: RuntimeWarning: overflow encountered in exp\n",
      "  return a * np.exp(-b * x) + c * np.exp(-d * x)\n",
      "/root/capsule/code/utils/new_preprocess.py:96: RuntimeWarning: overflow encountered in multiply\n",
      "  return a * np.exp(-b * x) + c * np.exp(-d * x)\n",
      "/root/capsule/code/utils/new_preprocess.py:96: RuntimeWarning: overflow encountered in add\n",
      "  return a * np.exp(-b * x) + c * np.exp(-d * x)\n"
     ]
    },
    {
     "name": "stdout",
     "output_type": "stream",
     "text": [
      "Converged after 20 iterations\n",
      "Converged after 20 iterations\n",
      "Converged after 20 iterations\n"
     ]
    },
    {
     "name": "stderr",
     "output_type": "stream",
     "text": [
      "/root/capsule/code/utils/new_preprocess.py:96: RuntimeWarning: overflow encountered in exp\n",
      "  return a * np.exp(-b * x) + c * np.exp(-d * x)\n",
      "/root/capsule/code/utils/new_preprocess.py:96: RuntimeWarning: overflow encountered in multiply\n",
      "  return a * np.exp(-b * x) + c * np.exp(-d * x)\n",
      "/root/capsule/code/utils/new_preprocess.py:96: RuntimeWarning: overflow encountered in add\n",
      "  return a * np.exp(-b * x) + c * np.exp(-d * x)\n",
      "/root/capsule/code/utils/new_preprocess.py:96: RuntimeWarning: overflow encountered in exp\n",
      "  return a * np.exp(-b * x) + c * np.exp(-d * x)\n",
      "/root/capsule/code/utils/new_preprocess.py:96: RuntimeWarning: overflow encountered in multiply\n",
      "  return a * np.exp(-b * x) + c * np.exp(-d * x)\n",
      "/root/capsule/code/utils/new_preprocess.py:96: RuntimeWarning: overflow encountered in add\n",
      "  return a * np.exp(-b * x) + c * np.exp(-d * x)\n"
     ]
    },
    {
     "name": "stdout",
     "output_type": "stream",
     "text": [
      "Processing NWB file: /data/photometry/vary_b_bright/FIP_000049_2024-08-06_09-59-58/FIP_000049_2024-08-06_09-59-58.nwb\n",
      "Processing NWB file: /data/photometry/vary_b_slow/FIP_000021_2024-08-06_09-59-37/FIP_000021_2024-08-06_09-59-37.nwb\n"
     ]
    },
    {
     "name": "stderr",
     "output_type": "stream",
     "text": [
      "/root/capsule/code/utils/new_preprocess.py:96: RuntimeWarning: overflow encountered in exp\n",
      "  return a * np.exp(-b * x) + c * np.exp(-d * x)\n",
      "/root/capsule/code/utils/new_preprocess.py:96: RuntimeWarning: overflow encountered in multiply\n",
      "  return a * np.exp(-b * x) + c * np.exp(-d * x)\n",
      "/root/capsule/code/utils/new_preprocess.py:96: RuntimeWarning: overflow encountered in add\n",
      "  return a * np.exp(-b * x) + c * np.exp(-d * x)\n"
     ]
    },
    {
     "name": "stdout",
     "output_type": "stream",
     "text": [
      "Converged after 20 iterations\n"
     ]
    },
    {
     "name": "stderr",
     "output_type": "stream",
     "text": [
      "/root/capsule/code/utils/new_preprocess.py:96: RuntimeWarning: overflow encountered in exp\n",
      "  return a * np.exp(-b * x) + c * np.exp(-d * x)\n",
      "/root/capsule/code/utils/new_preprocess.py:96: RuntimeWarning: overflow encountered in multiply\n",
      "  return a * np.exp(-b * x) + c * np.exp(-d * x)\n",
      "/root/capsule/code/utils/new_preprocess.py:96: RuntimeWarning: overflow encountered in add\n",
      "  return a * np.exp(-b * x) + c * np.exp(-d * x)\n",
      "/root/capsule/code/utils/new_preprocess.py:96: RuntimeWarning: overflow encountered in exp\n",
      "  return a * np.exp(-b * x) + c * np.exp(-d * x)\n",
      "/root/capsule/code/utils/new_preprocess.py:96: RuntimeWarning: overflow encountered in multiply\n",
      "  return a * np.exp(-b * x) + c * np.exp(-d * x)\n",
      "/root/capsule/code/utils/new_preprocess.py:96: RuntimeWarning: overflow encountered in add\n",
      "  return a * np.exp(-b * x) + c * np.exp(-d * x)\n"
     ]
    },
    {
     "name": "stdout",
     "output_type": "stream",
     "text": [
      "Converged after 20 iterations\n",
      "Converged after 20 iterations\n",
      "Converged after 20 iterations\n",
      "Converged after 20 iterations\n",
      "Converged after 20 iterations\n",
      "Converged after 20 iterations\n",
      "Converged after 20 iterations\n",
      "Converged after 20 iterations\n",
      "Converged after 20 iterations\n",
      "Processing NWB file: /data/photometry/vary_a_power/FIP_000163_2024-08-06_10-01-24/FIP_000163_2024-08-06_10-01-24.nwb\n",
      "Converged after 20 iterations\n",
      "Converged after 20 iterations\n"
     ]
    },
    {
     "name": "stderr",
     "output_type": "stream",
     "text": [
      "/opt/conda/lib/python3.10/site-packages/scipy/optimize/_numdiff.py:503: RuntimeWarning: invalid value encountered in subtract\n",
      "  dx = ((x0 + h) - x0)\n",
      "/opt/conda/lib/python3.10/site-packages/scipy/optimize/_numdiff.py:58: RuntimeWarning: invalid value encountered in subtract\n",
      "  upper_dist = ub - x0\n",
      "/opt/conda/lib/python3.10/site-packages/scipy/optimize/_numdiff.py:591: RuntimeWarning: invalid value encountered in scalar subtract\n",
      "  dx = x1[i] - x0[i]  # Recompute dx as exactly representable number.\n"
     ]
    },
    {
     "name": "stdout",
     "output_type": "stream",
     "text": [
      "Converged after 2 iterations\n",
      "Converged after 20 iterations\n",
      "Converged after 20 iterations\n",
      "Converged after 20 iterations\n",
      "Processing NWB file: /data/photometry/vary_motion_power/FIP_000126_2024-08-06_10-00-56/FIP_000126_2024-08-06_10-00-56.nwb\n",
      "Converged after 20 iterations\n",
      "Converged after 20 iterations\n",
      "Converged after 20 iterations\n"
     ]
    },
    {
     "name": "stderr",
     "output_type": "stream",
     "text": [
      "/opt/conda/lib/python3.10/site-packages/scipy/optimize/_numdiff.py:503: RuntimeWarning: invalid value encountered in subtract\n",
      "  dx = ((x0 + h) - x0)\n",
      "/opt/conda/lib/python3.10/site-packages/scipy/optimize/_numdiff.py:58: RuntimeWarning: invalid value encountered in subtract\n",
      "  upper_dist = ub - x0\n",
      "/opt/conda/lib/python3.10/site-packages/scipy/optimize/_numdiff.py:591: RuntimeWarning: invalid value encountered in scalar subtract\n",
      "  dx = x1[i] - x0[i]  # Recompute dx as exactly representable number.\n"
     ]
    },
    {
     "name": "stdout",
     "output_type": "stream",
     "text": [
      "Converged after 2 iterations\n",
      "Converged after 20 iterations\n",
      "Converged after 20 iterations\n",
      "Converged after 20 iterations\n",
      "Converged after 20 iterations\n",
      "Processing NWB file: /data/photometry/vary_b_slow/FIP_000022_2024-08-06_09-59-38/FIP_000022_2024-08-06_09-59-38.nwb\n"
     ]
    },
    {
     "name": "stderr",
     "output_type": "stream",
     "text": [
      "/root/capsule/code/utils/new_preprocess.py:96: RuntimeWarning: overflow encountered in exp\n",
      "  return a * np.exp(-b * x) + c * np.exp(-d * x)\n",
      "/root/capsule/code/utils/new_preprocess.py:96: RuntimeWarning: overflow encountered in multiply\n",
      "  return a * np.exp(-b * x) + c * np.exp(-d * x)\n",
      "/root/capsule/code/utils/new_preprocess.py:96: RuntimeWarning: overflow encountered in add\n",
      "  return a * np.exp(-b * x) + c * np.exp(-d * x)\n"
     ]
    },
    {
     "name": "stdout",
     "output_type": "stream",
     "text": [
      "Converged after 20 iterations\n",
      "Converged after 20 iterations\n",
      "Converged after 20 iterations\n",
      "Converged after 20 iterations\n",
      "Converged after 20 iterations\n",
      "Converged after 20 iterations\n",
      "Processing NWB file: /data/photometry/vary_b_inf/FIP_000008_2024-08-06_09-59-27/FIP_000008_2024-08-06_09-59-27.nwb\n",
      "Converged after 20 iterations\n",
      "Converged after 20 iterations\n"
     ]
    },
    {
     "name": "stderr",
     "output_type": "stream",
     "text": [
      "/root/capsule/code/utils/new_preprocess.py:96: RuntimeWarning: overflow encountered in exp\n",
      "  return a * np.exp(-b * x) + c * np.exp(-d * x)\n",
      "/root/capsule/code/utils/new_preprocess.py:96: RuntimeWarning: overflow encountered in multiply\n",
      "  return a * np.exp(-b * x) + c * np.exp(-d * x)\n",
      "/root/capsule/code/utils/new_preprocess.py:96: RuntimeWarning: overflow encountered in add\n",
      "  return a * np.exp(-b * x) + c * np.exp(-d * x)\n"
     ]
    },
    {
     "name": "stdout",
     "output_type": "stream",
     "text": [
      "Converged after 20 iterations\n",
      "Converged after 20 iterations\n"
     ]
    },
    {
     "name": "stderr",
     "output_type": "stream",
     "text": [
      "/root/capsule/code/utils/new_preprocess.py:96: RuntimeWarning: overflow encountered in exp\n",
      "  return a * np.exp(-b * x) + c * np.exp(-d * x)\n",
      "/root/capsule/code/utils/new_preprocess.py:96: RuntimeWarning: overflow encountered in multiply\n",
      "  return a * np.exp(-b * x) + c * np.exp(-d * x)\n",
      "/root/capsule/code/utils/new_preprocess.py:96: RuntimeWarning: overflow encountered in add\n",
      "  return a * np.exp(-b * x) + c * np.exp(-d * x)\n"
     ]
    },
    {
     "name": "stdout",
     "output_type": "stream",
     "text": [
      "Converged after 20 iterations\n",
      "Converged after 20 iterations\n",
      "Processing NWB file: /data/photometry/vary_b_fast/FIP_000036_2024-08-06_09-59-49/FIP_000036_2024-08-06_09-59-49.nwb\n",
      "Converged after 20 iterations\n",
      "Converged after 20 iterations\n"
     ]
    },
    {
     "name": "stderr",
     "output_type": "stream",
     "text": [
      "/root/capsule/code/utils/new_preprocess.py:96: RuntimeWarning: overflow encountered in exp\n",
      "  return a * np.exp(-b * x) + c * np.exp(-d * x)\n",
      "/root/capsule/code/utils/new_preprocess.py:96: RuntimeWarning: overflow encountered in multiply\n",
      "  return a * np.exp(-b * x) + c * np.exp(-d * x)\n",
      "/root/capsule/code/utils/new_preprocess.py:96: RuntimeWarning: overflow encountered in add\n",
      "  return a * np.exp(-b * x) + c * np.exp(-d * x)\n"
     ]
    },
    {
     "name": "stdout",
     "output_type": "stream",
     "text": [
      "Converged after 20 iterations\n"
     ]
    },
    {
     "name": "stderr",
     "output_type": "stream",
     "text": [
      "/root/capsule/code/utils/new_preprocess.py:96: RuntimeWarning: overflow encountered in exp\n",
      "  return a * np.exp(-b * x) + c * np.exp(-d * x)\n",
      "/root/capsule/code/utils/new_preprocess.py:96: RuntimeWarning: overflow encountered in multiply\n",
      "  return a * np.exp(-b * x) + c * np.exp(-d * x)\n",
      "/root/capsule/code/utils/new_preprocess.py:96: RuntimeWarning: overflow encountered in add\n",
      "  return a * np.exp(-b * x) + c * np.exp(-d * x)\n"
     ]
    },
    {
     "name": "stdout",
     "output_type": "stream",
     "text": [
      "Processing NWB file: /data/photometry/vary_b_bright/FIP_000050_2024-08-06_09-59-59/FIP_000050_2024-08-06_09-59-59.nwb\n",
      "Converged after 20 iterations\n",
      "Converged after 20 iterations\n",
      "Converged after 20 iterations\n"
     ]
    },
    {
     "name": "stderr",
     "output_type": "stream",
     "text": [
      "/root/capsule/code/utils/new_preprocess.py:96: RuntimeWarning: overflow encountered in exp\n",
      "  return a * np.exp(-b * x) + c * np.exp(-d * x)\n",
      "/root/capsule/code/utils/new_preprocess.py:96: RuntimeWarning: overflow encountered in multiply\n",
      "  return a * np.exp(-b * x) + c * np.exp(-d * x)\n",
      "/root/capsule/code/utils/new_preprocess.py:96: RuntimeWarning: overflow encountered in add\n",
      "  return a * np.exp(-b * x) + c * np.exp(-d * x)\n"
     ]
    },
    {
     "name": "stdout",
     "output_type": "stream",
     "text": [
      "Converged after 20 iterations\n",
      "Converged after 20 iterations\n",
      "Converged after 20 iterations\n",
      "Converged after 20 iterations\n",
      "Converged after 20 iterations\n",
      "Converged after 20 iterations\n",
      "Converged after 20 iterations\n",
      "Converged after 20 iterations\n",
      "Converged after 20 iterations\n",
      "Converged after 20 iterations\n",
      "Converged after 20 iterations\n",
      "Converged after 20 iterations\n",
      "Converged after 20 iterations\n",
      "Converged after 20 iterations\n",
      "Converged after 20 iterations\n",
      "Converged after 20 iterations\n",
      "Converged after 20 iterations\n",
      "Converged after 20 iterations\n",
      "Converged after 20 iterations\n",
      "Processing NWB file: /data/photometry/vary_noise_std/FIP_000098_2024-08-06_10-00-35/FIP_000098_2024-08-06_10-00-35.nwb\n",
      "Processing NWB file: /data/photometry/vary_motion_power/FIP_000127_2024-08-06_10-00-57/FIP_000127_2024-08-06_10-00-57.nwb\n",
      "Converged after 20 iterations\n"
     ]
    },
    {
     "name": "stderr",
     "output_type": "stream",
     "text": [
      "/root/capsule/code/utils/new_preprocess.py:96: RuntimeWarning: overflow encountered in exp\n",
      "  return a * np.exp(-b * x) + c * np.exp(-d * x)\n",
      "/root/capsule/code/utils/new_preprocess.py:96: RuntimeWarning: overflow encountered in multiply\n",
      "  return a * np.exp(-b * x) + c * np.exp(-d * x)\n",
      "/root/capsule/code/utils/new_preprocess.py:96: RuntimeWarning: overflow encountered in add\n",
      "  return a * np.exp(-b * x) + c * np.exp(-d * x)\n",
      "/root/capsule/code/utils/new_preprocess.py:96: RuntimeWarning: overflow encountered in exp\n",
      "  return a * np.exp(-b * x) + c * np.exp(-d * x)\n",
      "/root/capsule/code/utils/new_preprocess.py:96: RuntimeWarning: overflow encountered in multiply\n",
      "  return a * np.exp(-b * x) + c * np.exp(-d * x)\n",
      "/root/capsule/code/utils/new_preprocess.py:96: RuntimeWarning: overflow encountered in add\n",
      "  return a * np.exp(-b * x) + c * np.exp(-d * x)\n"
     ]
    },
    {
     "name": "stdout",
     "output_type": "stream",
     "text": [
      "Converged after 20 iterations\n",
      "Converged after 20 iterations\n",
      "Processing NWB file: /data/photometry/vary_b_slow/FIP_000023_2024-08-06_09-59-39/FIP_000023_2024-08-06_09-59-39.nwb\n",
      "Converged after 20 iterations\n",
      "Converged after 20 iterations\n"
     ]
    },
    {
     "name": "stderr",
     "output_type": "stream",
     "text": [
      "/root/capsule/code/utils/new_preprocess.py:96: RuntimeWarning: overflow encountered in exp\n",
      "  return a * np.exp(-b * x) + c * np.exp(-d * x)\n",
      "/root/capsule/code/utils/new_preprocess.py:96: RuntimeWarning: overflow encountered in multiply\n",
      "  return a * np.exp(-b * x) + c * np.exp(-d * x)\n",
      "/root/capsule/code/utils/new_preprocess.py:96: RuntimeWarning: overflow encountered in add\n",
      "  return a * np.exp(-b * x) + c * np.exp(-d * x)\n",
      "/root/capsule/code/utils/new_preprocess.py:96: RuntimeWarning: overflow encountered in exp\n",
      "  return a * np.exp(-b * x) + c * np.exp(-d * x)\n",
      "/root/capsule/code/utils/new_preprocess.py:96: RuntimeWarning: overflow encountered in multiply\n",
      "  return a * np.exp(-b * x) + c * np.exp(-d * x)\n",
      "/root/capsule/code/utils/new_preprocess.py:96: RuntimeWarning: overflow encountered in add\n",
      "  return a * np.exp(-b * x) + c * np.exp(-d * x)\n"
     ]
    },
    {
     "name": "stdout",
     "output_type": "stream",
     "text": [
      "Converged after 20 iterations\n",
      "Converged after 20 iterations\n",
      "Processing NWB file: /data/photometry/vary_decay/FIP_000149_2024-08-06_10-01-14/FIP_000149_2024-08-06_10-01-14.nwb\n",
      "Converged after 20 iterations\n",
      "Converged after 20 iterations\n",
      "Converged after 20 iterations\n",
      "Processing NWB file: /data/photometry/vary_attenuation/FIP_000120_2024-08-06_10-00-52/FIP_000120_2024-08-06_10-00-52.nwb\n"
     ]
    },
    {
     "name": "stderr",
     "output_type": "stream",
     "text": [
      "/root/capsule/code/utils/new_preprocess.py:96: RuntimeWarning: overflow encountered in exp\n",
      "  return a * np.exp(-b * x) + c * np.exp(-d * x)\n",
      "/root/capsule/code/utils/new_preprocess.py:96: RuntimeWarning: overflow encountered in multiply\n",
      "  return a * np.exp(-b * x) + c * np.exp(-d * x)\n",
      "/root/capsule/code/utils/new_preprocess.py:96: RuntimeWarning: overflow encountered in add\n",
      "  return a * np.exp(-b * x) + c * np.exp(-d * x)\n"
     ]
    },
    {
     "name": "stdout",
     "output_type": "stream",
     "text": [
      "Converged after 20 iterations\n",
      "Converged after 20 iterations\n",
      "Converged after 20 iterations\n",
      "Processing NWB file: /data/photometry/vary_b_fast/FIP_000037_2024-08-06_09-59-49/FIP_000037_2024-08-06_09-59-49.nwb\n",
      "Converged after 20 iterations\n"
     ]
    },
    {
     "name": "stderr",
     "output_type": "stream",
     "text": [
      "/root/capsule/code/utils/new_preprocess.py:96: RuntimeWarning: overflow encountered in exp\n",
      "  return a * np.exp(-b * x) + c * np.exp(-d * x)\n",
      "/root/capsule/code/utils/new_preprocess.py:96: RuntimeWarning: overflow encountered in multiply\n",
      "  return a * np.exp(-b * x) + c * np.exp(-d * x)\n",
      "/root/capsule/code/utils/new_preprocess.py:96: RuntimeWarning: overflow encountered in add\n",
      "  return a * np.exp(-b * x) + c * np.exp(-d * x)\n"
     ]
    },
    {
     "name": "stdout",
     "output_type": "stream",
     "text": [
      "Processing NWB file: /data/photometry/vary_b_bright/FIP_000051_2024-08-06_10-00-00/FIP_000051_2024-08-06_10-00-00.nwb\n",
      "Converged after 20 iterations\n",
      "Converged after 20 iterations\n",
      "Converged after 20 iterations\n",
      "Converged after 20 iterations\n",
      "Converged after 20 iterations\n",
      "Converged after 20 iterations\n",
      "Converged after 20 iterations\n"
     ]
    },
    {
     "name": "stderr",
     "output_type": "stream",
     "text": [
      "/opt/conda/lib/python3.10/site-packages/scipy/optimize/_numdiff.py:503: RuntimeWarning: invalid value encountered in subtract\n",
      "  dx = ((x0 + h) - x0)\n",
      "/opt/conda/lib/python3.10/site-packages/scipy/optimize/_numdiff.py:58: RuntimeWarning: invalid value encountered in subtract\n",
      "  upper_dist = ub - x0\n",
      "/opt/conda/lib/python3.10/site-packages/scipy/optimize/_numdiff.py:591: RuntimeWarning: invalid value encountered in scalar subtract\n",
      "  dx = x1[i] - x0[i]  # Recompute dx as exactly representable number.\n"
     ]
    },
    {
     "name": "stdout",
     "output_type": "stream",
     "text": [
      "Converged after 2 iterations\n",
      "Converged after 20 iterations\n",
      "Converged after 20 iterations\n",
      "Converged after 20 iterations\n",
      "Converged after 20 iterations\n",
      "Converged after 20 iterations\n",
      "Converged after 20 iterations\n",
      "Converged after 20 iterations\n",
      "Converged after 20 iterations\n",
      "Processing NWB file: /data/photometry/vary_noise_std/FIP_000099_2024-08-06_10-00-36/FIP_000099_2024-08-06_10-00-36.nwb\n",
      "Converged after 20 iterations\n",
      "Converged after 20 iterations\n",
      "Converged after 20 iterations\n",
      "Converged after 20 iterations\n"
     ]
    },
    {
     "name": "stderr",
     "output_type": "stream",
     "text": [
      "/root/capsule/code/utils/new_preprocess.py:96: RuntimeWarning: overflow encountered in exp\n",
      "  return a * np.exp(-b * x) + c * np.exp(-d * x)\n",
      "/root/capsule/code/utils/new_preprocess.py:96: RuntimeWarning: overflow encountered in multiply\n",
      "  return a * np.exp(-b * x) + c * np.exp(-d * x)\n",
      "/root/capsule/code/utils/new_preprocess.py:96: RuntimeWarning: overflow encountered in add\n",
      "  return a * np.exp(-b * x) + c * np.exp(-d * x)\n"
     ]
    },
    {
     "name": "stdout",
     "output_type": "stream",
     "text": [
      "Processing NWB file: /data/photometry/vary_b_inf/FIP_000009_2024-08-06_09-59-28/FIP_000009_2024-08-06_09-59-28.nwb\n",
      "Converged after 20 iterations\n"
     ]
    },
    {
     "name": "stderr",
     "output_type": "stream",
     "text": [
      "/root/capsule/code/utils/new_preprocess.py:96: RuntimeWarning: overflow encountered in exp\n",
      "  return a * np.exp(-b * x) + c * np.exp(-d * x)\n",
      "/root/capsule/code/utils/new_preprocess.py:96: RuntimeWarning: overflow encountered in multiply\n",
      "  return a * np.exp(-b * x) + c * np.exp(-d * x)\n",
      "/root/capsule/code/utils/new_preprocess.py:96: RuntimeWarning: overflow encountered in add\n",
      "  return a * np.exp(-b * x) + c * np.exp(-d * x)\n"
     ]
    },
    {
     "name": "stdout",
     "output_type": "stream",
     "text": [
      "Converged after 20 iterations\n",
      "Converged after 20 iterations\n",
      "Converged after 20 iterations\n",
      "Converged after 20 iterations\n",
      "Converged after 20 iterations\n",
      "Converged after 20 iterations\n",
      "Converged after 20 iterations\n",
      "Converged after 16 iterations\n",
      "Converged after 20 iterations\n"
     ]
    },
    {
     "name": "stderr",
     "output_type": "stream",
     "text": [
      "/opt/conda/lib/python3.10/site-packages/scipy/optimize/_numdiff.py:503: RuntimeWarning: invalid value encountered in subtract\n",
      "  dx = ((x0 + h) - x0)\n",
      "/opt/conda/lib/python3.10/site-packages/scipy/optimize/_numdiff.py:58: RuntimeWarning: invalid value encountered in subtract\n",
      "  upper_dist = ub - x0\n",
      "/opt/conda/lib/python3.10/site-packages/scipy/optimize/_numdiff.py:591: RuntimeWarning: invalid value encountered in scalar subtract\n",
      "  dx = x1[i] - x0[i]  # Recompute dx as exactly representable number.\n"
     ]
    },
    {
     "name": "stdout",
     "output_type": "stream",
     "text": [
      "Converged after 2 iterations\n",
      "Converged after 20 iterations\n",
      "Converged after 20 iterations\n",
      "Converged after 20 iterations\n",
      "Converged after 20 iterations\n",
      "Converged after 20 iterations\n",
      "Converged after 20 iterations\n",
      "Processing NWB file: /data/photometry/vary_attenuation/FIP_000121_2024-08-06_10-00-53/FIP_000121_2024-08-06_10-00-53.nwb\n",
      "Processing NWB file: /data/photometry/vary_b_fast/FIP_000038_2024-08-06_09-59-50/FIP_000038_2024-08-06_09-59-50.nwb\n",
      "Converged after 20 iterations\n",
      "Converged after 20 iterations\n"
     ]
    },
    {
     "name": "stderr",
     "output_type": "stream",
     "text": [
      "/root/capsule/code/utils/new_preprocess.py:96: RuntimeWarning: overflow encountered in exp\n",
      "  return a * np.exp(-b * x) + c * np.exp(-d * x)\n",
      "/root/capsule/code/utils/new_preprocess.py:96: RuntimeWarning: overflow encountered in multiply\n",
      "  return a * np.exp(-b * x) + c * np.exp(-d * x)\n",
      "/root/capsule/code/utils/new_preprocess.py:96: RuntimeWarning: overflow encountered in add\n",
      "  return a * np.exp(-b * x) + c * np.exp(-d * x)\n"
     ]
    },
    {
     "name": "stdout",
     "output_type": "stream",
     "text": [
      "Converged after 20 iterations\n",
      "Converged after 20 iterations\n",
      "Processing NWB file: /data/photometry/vary_b_slow/FIP_000024_2024-08-06_09-59-40/FIP_000024_2024-08-06_09-59-40.nwb\n",
      "Converged after 20 iterations\n",
      "Converged after 20 iterations\n"
     ]
    },
    {
     "name": "stderr",
     "output_type": "stream",
     "text": [
      "/root/capsule/code/utils/new_preprocess.py:96: RuntimeWarning: overflow encountered in exp\n",
      "  return a * np.exp(-b * x) + c * np.exp(-d * x)\n",
      "/root/capsule/code/utils/new_preprocess.py:96: RuntimeWarning: overflow encountered in multiply\n",
      "  return a * np.exp(-b * x) + c * np.exp(-d * x)\n",
      "/root/capsule/code/utils/new_preprocess.py:96: RuntimeWarning: overflow encountered in add\n",
      "  return a * np.exp(-b * x) + c * np.exp(-d * x)\n"
     ]
    },
    {
     "name": "stdout",
     "output_type": "stream",
     "text": [
      "Converged after 20 iterations\n",
      "Converged after 20 iterations\n",
      "Converged after 20 iterations\n",
      "Processing NWB file: /data/photometry/vary_decay/FIP_000150_2024-08-06_10-01-15/FIP_000150_2024-08-06_10-01-15.nwb\n",
      "Converged after 20 iterations\n",
      "Converged after 20 iterations\n",
      "Converged after 20 iterations\n",
      "Converged after 20 iterations\n",
      "Converged after 20 iterations\n",
      "Converged after 20 iterations\n",
      "Converged after 20 iterations\n",
      "Converged after 20 iterations\n",
      "Converged after 20 iterations\n",
      "Processing NWB file: /data/photometry/vary_b_bright/FIP_000052_2024-08-06_10-00-01/FIP_000052_2024-08-06_10-00-01.nwb\n",
      "Converged after 20 iterations\n"
     ]
    },
    {
     "name": "stderr",
     "output_type": "stream",
     "text": [
      "/root/capsule/code/utils/new_preprocess.py:96: RuntimeWarning: overflow encountered in exp\n",
      "  return a * np.exp(-b * x) + c * np.exp(-d * x)\n",
      "/root/capsule/code/utils/new_preprocess.py:96: RuntimeWarning: overflow encountered in multiply\n",
      "  return a * np.exp(-b * x) + c * np.exp(-d * x)\n",
      "/root/capsule/code/utils/new_preprocess.py:96: RuntimeWarning: overflow encountered in add\n",
      "  return a * np.exp(-b * x) + c * np.exp(-d * x)\n"
     ]
    },
    {
     "name": "stdout",
     "output_type": "stream",
     "text": [
      "Converged after 20 iterations\n",
      "Processing NWB file: /data/photometry/vary_noise_std/FIP_000100_2024-08-06_10-00-37/FIP_000100_2024-08-06_10-00-37.nwb\n",
      "Converged after 20 iterations\n",
      "Processing NWB file: /data/photometry/vary_motion_power/FIP_000128_2024-08-06_10-00-58/FIP_000128_2024-08-06_10-00-58.nwb\n"
     ]
    },
    {
     "name": "stderr",
     "output_type": "stream",
     "text": [
      "/root/capsule/code/utils/new_preprocess.py:96: RuntimeWarning: overflow encountered in exp\n",
      "  return a * np.exp(-b * x) + c * np.exp(-d * x)\n",
      "/root/capsule/code/utils/new_preprocess.py:96: RuntimeWarning: overflow encountered in multiply\n",
      "  return a * np.exp(-b * x) + c * np.exp(-d * x)\n",
      "/root/capsule/code/utils/new_preprocess.py:96: RuntimeWarning: overflow encountered in add\n",
      "  return a * np.exp(-b * x) + c * np.exp(-d * x)\n"
     ]
    },
    {
     "name": "stdout",
     "output_type": "stream",
     "text": [
      "Converged after 20 iterations\n",
      "Converged after 20 iterations\n",
      "Converged after 20 iterations\n",
      "Converged after 20 iterations\n",
      "Converged after 20 iterations\n",
      "Converged after 20 iterations\n",
      "Converged after 20 iterations\n",
      "Converged after 20 iterations\n",
      "Converged after 20 iterations\n",
      "Processing NWB file: /data/photometry/vary_b_slow/FIP_000025_2024-08-06_09-59-40/FIP_000025_2024-08-06_09-59-40.nwb\n",
      "Converged after 20 iterations\n",
      "Converged after 20 iterations\n",
      "Converged after 20 iterations\n",
      "Converged after 20 iterations\n",
      "Converged after 20 iterations\n",
      "Processing NWB file: /data/photometry/vary_b_inf/FIP_000010_2024-08-06_09-59-29/FIP_000010_2024-08-06_09-59-29.nwb\n",
      "Converged after 20 iterations\n"
     ]
    },
    {
     "name": "stderr",
     "output_type": "stream",
     "text": [
      "/root/capsule/code/utils/new_preprocess.py:96: RuntimeWarning: overflow encountered in exp\n",
      "  return a * np.exp(-b * x) + c * np.exp(-d * x)\n",
      "/root/capsule/code/utils/new_preprocess.py:96: RuntimeWarning: overflow encountered in multiply\n",
      "  return a * np.exp(-b * x) + c * np.exp(-d * x)\n",
      "/root/capsule/code/utils/new_preprocess.py:96: RuntimeWarning: overflow encountered in add\n",
      "  return a * np.exp(-b * x) + c * np.exp(-d * x)\n"
     ]
    },
    {
     "name": "stdout",
     "output_type": "stream",
     "text": [
      "Converged after 20 iterations\n",
      "Converged after 20 iterations\n",
      "Converged after 20 iterations\n",
      "Converged after 20 iterations\n",
      "Converged after 20 iterations\n",
      "Converged after 20 iterations\n",
      "Converged after 20 iterations\n",
      "Converged after 20 iterations\n",
      "Processing NWB file: /data/photometry/vary_attenuation/FIP_000122_2024-08-06_10-00-53/FIP_000122_2024-08-06_10-00-53.nwb\n",
      "Processing NWB file: /data/photometry/vary_decay/FIP_000151_2024-08-06_10-01-15/FIP_000151_2024-08-06_10-01-15.nwb\n",
      "Converged after 20 iterations\n",
      "Converged after 20 iterations\n"
     ]
    },
    {
     "name": "stderr",
     "output_type": "stream",
     "text": [
      "/root/capsule/code/utils/new_preprocess.py:96: RuntimeWarning: overflow encountered in exp\n",
      "  return a * np.exp(-b * x) + c * np.exp(-d * x)\n",
      "/root/capsule/code/utils/new_preprocess.py:96: RuntimeWarning: overflow encountered in multiply\n",
      "  return a * np.exp(-b * x) + c * np.exp(-d * x)\n",
      "/root/capsule/code/utils/new_preprocess.py:96: RuntimeWarning: overflow encountered in add\n",
      "  return a * np.exp(-b * x) + c * np.exp(-d * x)\n",
      "/root/capsule/code/utils/new_preprocess.py:96: RuntimeWarning: overflow encountered in exp\n",
      "  return a * np.exp(-b * x) + c * np.exp(-d * x)\n",
      "/root/capsule/code/utils/new_preprocess.py:96: RuntimeWarning: overflow encountered in multiply\n",
      "  return a * np.exp(-b * x) + c * np.exp(-d * x)\n",
      "/root/capsule/code/utils/new_preprocess.py:96: RuntimeWarning: overflow encountered in add\n",
      "  return a * np.exp(-b * x) + c * np.exp(-d * x)\n",
      "/root/capsule/code/utils/new_preprocess.py:96: RuntimeWarning: overflow encountered in exp\n",
      "  return a * np.exp(-b * x) + c * np.exp(-d * x)\n",
      "/root/capsule/code/utils/new_preprocess.py:96: RuntimeWarning: overflow encountered in multiply\n",
      "  return a * np.exp(-b * x) + c * np.exp(-d * x)\n",
      "/root/capsule/code/utils/new_preprocess.py:96: RuntimeWarning: overflow encountered in add\n",
      "  return a * np.exp(-b * x) + c * np.exp(-d * x)\n"
     ]
    },
    {
     "name": "stdout",
     "output_type": "stream",
     "text": [
      "Converged after 20 iterations\n",
      "Converged after 20 iterations\n",
      "Converged after 20 iterations\n",
      "Converged after 20 iterations\n",
      "Converged after 20 iterations\n",
      "Converged after 20 iterations\n",
      "Converged after 20 iterations\n",
      "Converged after 20 iterations\n",
      "Converged after 17 iterations\n",
      "Converged after 20 iterations\n",
      "Converged after 12 iterations\n",
      "Converged after 20 iterations\n",
      "Processing NWB file: /data/photometry/vary_motion_power/FIP_000129_2024-08-06_10-00-59/FIP_000129_2024-08-06_10-00-59.nwb\n",
      "Converged after 20 iterations\n",
      "Converged after 20 iterations\n"
     ]
    },
    {
     "name": "stderr",
     "output_type": "stream",
     "text": [
      "/root/capsule/code/utils/new_preprocess.py:96: RuntimeWarning: overflow encountered in exp\n",
      "  return a * np.exp(-b * x) + c * np.exp(-d * x)\n",
      "/root/capsule/code/utils/new_preprocess.py:96: RuntimeWarning: overflow encountered in multiply\n",
      "  return a * np.exp(-b * x) + c * np.exp(-d * x)\n",
      "/root/capsule/code/utils/new_preprocess.py:96: RuntimeWarning: overflow encountered in add\n",
      "  return a * np.exp(-b * x) + c * np.exp(-d * x)\n"
     ]
    },
    {
     "name": "stdout",
     "output_type": "stream",
     "text": [
      "Converged after 15 iterations\n",
      "Converged after 20 iterations\n"
     ]
    },
    {
     "name": "stderr",
     "output_type": "stream",
     "text": [
      "/root/capsule/code/utils/new_preprocess.py:96: RuntimeWarning: overflow encountered in exp\n",
      "  return a * np.exp(-b * x) + c * np.exp(-d * x)\n",
      "/root/capsule/code/utils/new_preprocess.py:96: RuntimeWarning: overflow encountered in multiply\n",
      "  return a * np.exp(-b * x) + c * np.exp(-d * x)\n",
      "/root/capsule/code/utils/new_preprocess.py:96: RuntimeWarning: overflow encountered in add\n",
      "  return a * np.exp(-b * x) + c * np.exp(-d * x)\n"
     ]
    },
    {
     "name": "stdout",
     "output_type": "stream",
     "text": [
      "Converged after 11 iterations\n",
      "Converged after 20 iterations\n",
      "Converged after 20 iterations\n",
      "Converged after 20 iterations\n",
      "Converged after 20 iterations\n",
      "Processing NWB file: /data/photometry/vary_b_bright/FIP_000053_2024-08-06_10-00-01/FIP_000053_2024-08-06_10-00-01.nwb\n",
      "Converged after 20 iterations\n"
     ]
    },
    {
     "name": "stderr",
     "output_type": "stream",
     "text": [
      "/opt/conda/lib/python3.10/site-packages/scipy/optimize/_numdiff.py:503: RuntimeWarning: invalid value encountered in subtract\n",
      "  dx = ((x0 + h) - x0)\n",
      "/opt/conda/lib/python3.10/site-packages/scipy/optimize/_numdiff.py:58: RuntimeWarning: invalid value encountered in subtract\n",
      "  upper_dist = ub - x0\n",
      "/opt/conda/lib/python3.10/site-packages/scipy/optimize/_numdiff.py:591: RuntimeWarning: invalid value encountered in scalar subtract\n",
      "  dx = x1[i] - x0[i]  # Recompute dx as exactly representable number.\n"
     ]
    },
    {
     "name": "stdout",
     "output_type": "stream",
     "text": [
      "Converged after 2 iterations\n",
      "Processing NWB file: /data/photometry/vary_b_fast/FIP_000039_2024-08-06_09-59-51/FIP_000039_2024-08-06_09-59-51.nwb\n",
      "Converged after 20 iterations\n",
      "Converged after 20 iterations\n",
      "Converged after 20 iterations\n",
      "Converged after 20 iterations\n",
      "Converged after 20 iterations\n",
      "Converged after 11 iterations\n",
      "Converged after 20 iterations\n",
      "Processing NWB file: /data/photometry/vary_b_inf/FIP_000011_2024-08-06_09-59-30/FIP_000011_2024-08-06_09-59-30.nwb\n",
      "Converged after 20 iterations\n",
      "Converged after 20 iterations\n",
      "Converged after 20 iterations\n"
     ]
    },
    {
     "name": "stderr",
     "output_type": "stream",
     "text": [
      "/root/capsule/code/utils/new_preprocess.py:96: RuntimeWarning: overflow encountered in exp\n",
      "  return a * np.exp(-b * x) + c * np.exp(-d * x)\n",
      "/root/capsule/code/utils/new_preprocess.py:96: RuntimeWarning: overflow encountered in multiply\n",
      "  return a * np.exp(-b * x) + c * np.exp(-d * x)\n",
      "/root/capsule/code/utils/new_preprocess.py:96: RuntimeWarning: overflow encountered in add\n",
      "  return a * np.exp(-b * x) + c * np.exp(-d * x)\n",
      "/root/capsule/code/utils/new_preprocess.py:96: RuntimeWarning: overflow encountered in exp\n",
      "  return a * np.exp(-b * x) + c * np.exp(-d * x)\n",
      "/root/capsule/code/utils/new_preprocess.py:96: RuntimeWarning: overflow encountered in multiply\n",
      "  return a * np.exp(-b * x) + c * np.exp(-d * x)\n",
      "/root/capsule/code/utils/new_preprocess.py:96: RuntimeWarning: overflow encountered in add\n",
      "  return a * np.exp(-b * x) + c * np.exp(-d * x)\n"
     ]
    },
    {
     "name": "stdout",
     "output_type": "stream",
     "text": [
      "Converged after 20 iterations\n",
      "Converged after 20 iterations\n",
      "Converged after 20 iterations\n",
      "Converged after 20 iterations\n",
      "Converged after 20 iterations\n",
      "Converged after 12 iterations\n",
      "Converged after 20 iterations\n",
      "Converged after 20 iterations\n",
      "Converged after 20 iterations\n",
      "Converged after 20 iterations\n",
      "Converged after 20 iterations\n",
      "Converged after 20 iterations\n",
      "Converged after 20 iterations\n",
      "Processing NWB file: /data/photometry/vary_noise_std/FIP_000101_2024-08-06_10-00-38/FIP_000101_2024-08-06_10-00-38.nwb\n",
      "Processing NWB file: /data/photometry/vary_b_slow/FIP_000026_2024-08-06_09-59-41/FIP_000026_2024-08-06_09-59-41.nwb\n",
      "Processing NWB file: /data/photometry/vary_attenuation/FIP_000123_2024-08-06_10-00-54/FIP_000123_2024-08-06_10-00-54.nwb\n",
      "Converged after 20 iterations\n"
     ]
    },
    {
     "name": "stderr",
     "output_type": "stream",
     "text": [
      "/root/capsule/code/utils/new_preprocess.py:96: RuntimeWarning: overflow encountered in exp\n",
      "  return a * np.exp(-b * x) + c * np.exp(-d * x)\n",
      "/root/capsule/code/utils/new_preprocess.py:96: RuntimeWarning: overflow encountered in multiply\n",
      "  return a * np.exp(-b * x) + c * np.exp(-d * x)\n",
      "/root/capsule/code/utils/new_preprocess.py:96: RuntimeWarning: overflow encountered in add\n",
      "  return a * np.exp(-b * x) + c * np.exp(-d * x)\n",
      "/root/capsule/code/utils/new_preprocess.py:96: RuntimeWarning: overflow encountered in exp\n",
      "  return a * np.exp(-b * x) + c * np.exp(-d * x)\n",
      "/root/capsule/code/utils/new_preprocess.py:96: RuntimeWarning: overflow encountered in multiply\n",
      "  return a * np.exp(-b * x) + c * np.exp(-d * x)\n",
      "/root/capsule/code/utils/new_preprocess.py:96: RuntimeWarning: overflow encountered in add\n",
      "  return a * np.exp(-b * x) + c * np.exp(-d * x)\n",
      "/root/capsule/code/utils/new_preprocess.py:96: RuntimeWarning: overflow encountered in exp\n",
      "  return a * np.exp(-b * x) + c * np.exp(-d * x)\n",
      "/root/capsule/code/utils/new_preprocess.py:96: RuntimeWarning: overflow encountered in multiply\n",
      "  return a * np.exp(-b * x) + c * np.exp(-d * x)\n",
      "/root/capsule/code/utils/new_preprocess.py:96: RuntimeWarning: overflow encountered in add\n",
      "  return a * np.exp(-b * x) + c * np.exp(-d * x)\n",
      "/root/capsule/code/utils/new_preprocess.py:96: RuntimeWarning: overflow encountered in exp\n",
      "  return a * np.exp(-b * x) + c * np.exp(-d * x)\n",
      "/root/capsule/code/utils/new_preprocess.py:96: RuntimeWarning: overflow encountered in multiply\n",
      "  return a * np.exp(-b * x) + c * np.exp(-d * x)\n",
      "/root/capsule/code/utils/new_preprocess.py:96: RuntimeWarning: overflow encountered in add\n",
      "  return a * np.exp(-b * x) + c * np.exp(-d * x)\n",
      "/root/capsule/code/utils/new_preprocess.py:96: RuntimeWarning: overflow encountered in exp\n",
      "  return a * np.exp(-b * x) + c * np.exp(-d * x)\n",
      "/root/capsule/code/utils/new_preprocess.py:96: RuntimeWarning: overflow encountered in multiply\n",
      "  return a * np.exp(-b * x) + c * np.exp(-d * x)\n",
      "/root/capsule/code/utils/new_preprocess.py:96: RuntimeWarning: overflow encountered in add\n",
      "  return a * np.exp(-b * x) + c * np.exp(-d * x)\n"
     ]
    },
    {
     "name": "stdout",
     "output_type": "stream",
     "text": [
      "Converged after 20 iterations\n",
      "Converged after 20 iterations\n",
      "Converged after 20 iterations\n",
      "Converged after 20 iterations\n",
      "Converged after 20 iterations\n",
      "Processing NWB file: /data/photometry/vary_decay/FIP_000152_2024-08-06_10-01-16/FIP_000152_2024-08-06_10-01-16.nwb\n"
     ]
    },
    {
     "name": "stderr",
     "output_type": "stream",
     "text": [
      "/opt/conda/lib/python3.10/site-packages/scipy/optimize/_numdiff.py:503: RuntimeWarning: invalid value encountered in subtract\n",
      "  dx = ((x0 + h) - x0)\n",
      "/opt/conda/lib/python3.10/site-packages/scipy/optimize/_numdiff.py:58: RuntimeWarning: invalid value encountered in subtract\n",
      "  upper_dist = ub - x0\n",
      "/opt/conda/lib/python3.10/site-packages/scipy/optimize/_numdiff.py:591: RuntimeWarning: invalid value encountered in scalar subtract\n",
      "  dx = x1[i] - x0[i]  # Recompute dx as exactly representable number.\n"
     ]
    },
    {
     "name": "stdout",
     "output_type": "stream",
     "text": [
      "Converged after 2 iterations\n",
      "Converged after 20 iterations\n",
      "Converged after 20 iterations\n",
      "Converged after 20 iterations\n"
     ]
    },
    {
     "name": "stderr",
     "output_type": "stream",
     "text": [
      "/root/capsule/code/utils/new_preprocess.py:96: RuntimeWarning: overflow encountered in exp\n",
      "  return a * np.exp(-b * x) + c * np.exp(-d * x)\n",
      "/root/capsule/code/utils/new_preprocess.py:96: RuntimeWarning: overflow encountered in multiply\n",
      "  return a * np.exp(-b * x) + c * np.exp(-d * x)\n",
      "/root/capsule/code/utils/new_preprocess.py:96: RuntimeWarning: overflow encountered in add\n",
      "  return a * np.exp(-b * x) + c * np.exp(-d * x)\n"
     ]
    },
    {
     "name": "stdout",
     "output_type": "stream",
     "text": [
      "Processing NWB file: /data/photometry/vary_motion_power/FIP_000130_2024-08-06_10-00-59/FIP_000130_2024-08-06_10-00-59.nwb\n",
      "Converged after 20 iterations\n",
      "Converged after 20 iterations\n"
     ]
    },
    {
     "name": "stderr",
     "output_type": "stream",
     "text": [
      "/root/capsule/code/utils/new_preprocess.py:96: RuntimeWarning: overflow encountered in exp\n",
      "  return a * np.exp(-b * x) + c * np.exp(-d * x)\n",
      "/root/capsule/code/utils/new_preprocess.py:96: RuntimeWarning: overflow encountered in add\n",
      "  return a * np.exp(-b * x) + c * np.exp(-d * x)\n",
      "/root/capsule/code/utils/new_preprocess.py:96: RuntimeWarning: overflow encountered in multiply\n",
      "  return a * np.exp(-b * x) + c * np.exp(-d * x)\n"
     ]
    },
    {
     "name": "stdout",
     "output_type": "stream",
     "text": [
      "Converged after 20 iterations\n",
      "Converged after 20 iterations\n",
      "Converged after 20 iterations\n",
      "Converged after 20 iterations\n",
      "Processing NWB file: /data/photometry/vary_b_bright/FIP_000054_2024-08-06_10-00-02/FIP_000054_2024-08-06_10-00-02.nwb\n"
     ]
    },
    {
     "name": "stderr",
     "output_type": "stream",
     "text": [
      "/root/capsule/code/utils/new_preprocess.py:96: RuntimeWarning: overflow encountered in exp\n",
      "  return a * np.exp(-b * x) + c * np.exp(-d * x)\n",
      "/root/capsule/code/utils/new_preprocess.py:96: RuntimeWarning: overflow encountered in multiply\n",
      "  return a * np.exp(-b * x) + c * np.exp(-d * x)\n",
      "/root/capsule/code/utils/new_preprocess.py:96: RuntimeWarning: overflow encountered in add\n",
      "  return a * np.exp(-b * x) + c * np.exp(-d * x)\n"
     ]
    },
    {
     "name": "stdout",
     "output_type": "stream",
     "text": [
      "Converged after 20 iterations\n",
      "Converged after 20 iterations\n",
      "Converged after 20 iterations\n",
      "Converged after 20 iterations\n"
     ]
    },
    {
     "name": "stderr",
     "output_type": "stream",
     "text": [
      "/opt/conda/lib/python3.10/site-packages/scipy/optimize/_numdiff.py:503: RuntimeWarning: invalid value encountered in subtract\n",
      "  dx = ((x0 + h) - x0)\n",
      "/opt/conda/lib/python3.10/site-packages/scipy/optimize/_numdiff.py:58: RuntimeWarning: invalid value encountered in subtract\n",
      "  upper_dist = ub - x0\n",
      "/opt/conda/lib/python3.10/site-packages/scipy/optimize/_numdiff.py:591: RuntimeWarning: invalid value encountered in scalar subtract\n",
      "  dx = x1[i] - x0[i]  # Recompute dx as exactly representable number.\n"
     ]
    },
    {
     "name": "stdout",
     "output_type": "stream",
     "text": [
      "Converged after 2 iterations\n",
      "Converged after 20 iterations\n",
      "Converged after 20 iterations\n"
     ]
    },
    {
     "name": "stderr",
     "output_type": "stream",
     "text": [
      "/opt/conda/lib/python3.10/site-packages/scipy/optimize/_numdiff.py:503: RuntimeWarning: invalid value encountered in subtract\n",
      "  dx = ((x0 + h) - x0)\n",
      "/opt/conda/lib/python3.10/site-packages/scipy/optimize/_numdiff.py:58: RuntimeWarning: invalid value encountered in subtract\n",
      "  upper_dist = ub - x0\n",
      "/opt/conda/lib/python3.10/site-packages/scipy/optimize/_numdiff.py:591: RuntimeWarning: invalid value encountered in scalar subtract\n",
      "  dx = x1[i] - x0[i]  # Recompute dx as exactly representable number.\n"
     ]
    },
    {
     "name": "stdout",
     "output_type": "stream",
     "text": [
      "Converged after 2 iterations\n",
      "Converged after 20 iterations\n",
      "Converged after 20 iterations\n",
      "Processing NWB file: /data/photometry/vary_b_fast/FIP_000040_2024-08-06_09-59-52/FIP_000040_2024-08-06_09-59-52.nwb\n",
      "Converged after 20 iterations\n",
      "Processing NWB file: /data/photometry/vary_b_inf/FIP_000012_2024-08-06_09-59-30/FIP_000012_2024-08-06_09-59-30.nwb\n"
     ]
    },
    {
     "name": "stderr",
     "output_type": "stream",
     "text": [
      "/opt/conda/lib/python3.10/site-packages/scipy/optimize/_numdiff.py:503: RuntimeWarning: invalid value encountered in subtract\n",
      "  dx = ((x0 + h) - x0)\n",
      "/opt/conda/lib/python3.10/site-packages/scipy/optimize/_numdiff.py:58: RuntimeWarning: invalid value encountered in subtract\n",
      "  upper_dist = ub - x0\n",
      "/opt/conda/lib/python3.10/site-packages/scipy/optimize/_numdiff.py:591: RuntimeWarning: invalid value encountered in scalar subtract\n",
      "  dx = x1[i] - x0[i]  # Recompute dx as exactly representable number.\n"
     ]
    },
    {
     "name": "stdout",
     "output_type": "stream",
     "text": [
      "Converged after 2 iterations\n",
      "Converged after 20 iterations\n"
     ]
    },
    {
     "name": "stderr",
     "output_type": "stream",
     "text": [
      "/root/capsule/code/utils/new_preprocess.py:96: RuntimeWarning: overflow encountered in exp\n",
      "  return a * np.exp(-b * x) + c * np.exp(-d * x)\n",
      "/root/capsule/code/utils/new_preprocess.py:96: RuntimeWarning: overflow encountered in multiply\n",
      "  return a * np.exp(-b * x) + c * np.exp(-d * x)\n"
     ]
    },
    {
     "name": "stdout",
     "output_type": "stream",
     "text": [
      "Converged after 20 iterations\n",
      "Converged after 20 iterations\n",
      "Converged after 20 iterations\n",
      "Converged after 20 iterations\n",
      "Converged after 20 iterations\n",
      "Converged after 12 iterations\n",
      "Converged after 20 iterations\n",
      "Converged after 20 iterations\n",
      "Converged after 20 iterations\n",
      "Converged after 14 iterations\n",
      "Converged after 20 iterations\n",
      "Converged after 20 iterations\n",
      "Converged after 20 iterations\n",
      "Converged after 19 iterations\n",
      "Processing NWB file: /data/photometry/vary_decay/FIP_000153_2024-08-06_10-01-17/FIP_000153_2024-08-06_10-01-17.nwb\n",
      "Converged after 20 iterations\n",
      "Converged after 20 iterations\n"
     ]
    },
    {
     "name": "stderr",
     "output_type": "stream",
     "text": [
      "/root/capsule/code/utils/new_preprocess.py:96: RuntimeWarning: overflow encountered in exp\n",
      "  return a * np.exp(-b * x) + c * np.exp(-d * x)\n",
      "/root/capsule/code/utils/new_preprocess.py:96: RuntimeWarning: overflow encountered in multiply\n",
      "  return a * np.exp(-b * x) + c * np.exp(-d * x)\n",
      "/root/capsule/code/utils/new_preprocess.py:96: RuntimeWarning: overflow encountered in add\n",
      "  return a * np.exp(-b * x) + c * np.exp(-d * x)\n"
     ]
    },
    {
     "name": "stdout",
     "output_type": "stream",
     "text": [
      "Converged after 20 iterations\n",
      "Converged after 20 iterations\n"
     ]
    },
    {
     "name": "stderr",
     "output_type": "stream",
     "text": [
      "/root/capsule/code/utils/new_preprocess.py:158: OptimizeWarning: Initial guess is not within the specified bounds\n",
      "  return minimize(\n"
     ]
    },
    {
     "name": "stdout",
     "output_type": "stream",
     "text": [
      "Converged after 20 iterations\n",
      "Converged after 20 iterations\n",
      "Processing NWB file: /data/photometry/vary_attenuation/FIP_000124_2024-08-06_10-00-55/FIP_000124_2024-08-06_10-00-55.nwb\n",
      "Converged after 20 iterations\n",
      "Converged after 20 iterations\n",
      "Converged after 20 iterations\n",
      "Processing NWB file: /data/photometry/vary_noise_std/FIP_000102_2024-08-06_10-00-38/FIP_000102_2024-08-06_10-00-38.nwb\n",
      "Converged after 20 iterations\n",
      "Converged after 19 iterations\n"
     ]
    },
    {
     "name": "stderr",
     "output_type": "stream",
     "text": [
      "/root/capsule/code/utils/new_preprocess.py:96: RuntimeWarning: overflow encountered in exp\n",
      "  return a * np.exp(-b * x) + c * np.exp(-d * x)\n",
      "/root/capsule/code/utils/new_preprocess.py:96: RuntimeWarning: overflow encountered in multiply\n",
      "  return a * np.exp(-b * x) + c * np.exp(-d * x)\n",
      "/root/capsule/code/utils/new_preprocess.py:96: RuntimeWarning: overflow encountered in add\n",
      "  return a * np.exp(-b * x) + c * np.exp(-d * x)\n"
     ]
    },
    {
     "name": "stdout",
     "output_type": "stream",
     "text": [
      "Converged after 20 iterations\n",
      "Converged after 20 iterations\n",
      "Processing NWB file: /data/photometry/vary_b_fast/FIP_000041_2024-08-06_09-59-52/FIP_000041_2024-08-06_09-59-52.nwb\n",
      "Converged after 20 iterations\n",
      "Converged after 20 iterations\n",
      "Converged after 20 iterations\n",
      "Processing NWB file: /data/photometry/vary_b_slow/FIP_000027_2024-08-06_09-59-42/FIP_000027_2024-08-06_09-59-42.nwb\n",
      "Converged after 20 iterations\n",
      "Converged after 20 iterations\n",
      "Converged after 10 iterations\n",
      "Converged after 20 iterations\n",
      "Processing NWB file: /data/photometry/vary_motion_power/FIP_000131_2024-08-06_10-01-00/FIP_000131_2024-08-06_10-01-00.nwb\n",
      "Converged after 20 iterations\n",
      "Converged after 20 iterations\n",
      "Converged after 20 iterations\n"
     ]
    },
    {
     "name": "stderr",
     "output_type": "stream",
     "text": [
      "/root/capsule/code/utils/new_preprocess.py:96: RuntimeWarning: overflow encountered in exp\n",
      "  return a * np.exp(-b * x) + c * np.exp(-d * x)\n",
      "/root/capsule/code/utils/new_preprocess.py:96: RuntimeWarning: overflow encountered in multiply\n",
      "  return a * np.exp(-b * x) + c * np.exp(-d * x)\n",
      "/root/capsule/code/utils/new_preprocess.py:96: RuntimeWarning: overflow encountered in add\n",
      "  return a * np.exp(-b * x) + c * np.exp(-d * x)\n"
     ]
    },
    {
     "name": "stdout",
     "output_type": "stream",
     "text": [
      "Converged after 10 iterations\n"
     ]
    },
    {
     "name": "stderr",
     "output_type": "stream",
     "text": [
      "/root/capsule/code/utils/new_preprocess.py:96: RuntimeWarning: overflow encountered in exp\n",
      "  return a * np.exp(-b * x) + c * np.exp(-d * x)\n",
      "/root/capsule/code/utils/new_preprocess.py:96: RuntimeWarning: overflow encountered in multiply\n",
      "  return a * np.exp(-b * x) + c * np.exp(-d * x)\n",
      "/root/capsule/code/utils/new_preprocess.py:96: RuntimeWarning: overflow encountered in add\n",
      "  return a * np.exp(-b * x) + c * np.exp(-d * x)\n"
     ]
    },
    {
     "name": "stdout",
     "output_type": "stream",
     "text": [
      "Converged after 20 iterations\n"
     ]
    },
    {
     "name": "stderr",
     "output_type": "stream",
     "text": [
      "/root/capsule/code/utils/new_preprocess.py:96: RuntimeWarning: overflow encountered in exp\n",
      "  return a * np.exp(-b * x) + c * np.exp(-d * x)\n",
      "/root/capsule/code/utils/new_preprocess.py:96: RuntimeWarning: overflow encountered in multiply\n",
      "  return a * np.exp(-b * x) + c * np.exp(-d * x)\n",
      "/root/capsule/code/utils/new_preprocess.py:96: RuntimeWarning: overflow encountered in add\n",
      "  return a * np.exp(-b * x) + c * np.exp(-d * x)\n"
     ]
    },
    {
     "name": "stdout",
     "output_type": "stream",
     "text": [
      "Converged after 20 iterations\n"
     ]
    },
    {
     "name": "stderr",
     "output_type": "stream",
     "text": [
      "/opt/conda/lib/python3.10/site-packages/scipy/optimize/_numdiff.py:503: RuntimeWarning: invalid value encountered in subtract\n",
      "  dx = ((x0 + h) - x0)\n",
      "/opt/conda/lib/python3.10/site-packages/scipy/optimize/_numdiff.py:58: RuntimeWarning: invalid value encountered in subtract\n",
      "  upper_dist = ub - x0\n",
      "/opt/conda/lib/python3.10/site-packages/scipy/optimize/_numdiff.py:591: RuntimeWarning: invalid value encountered in scalar subtract\n",
      "  dx = x1[i] - x0[i]  # Recompute dx as exactly representable number.\n"
     ]
    },
    {
     "name": "stdout",
     "output_type": "stream",
     "text": [
      "Converged after 2 iterations\n",
      "Converged after 20 iterations\n",
      "Converged after 20 iterations\n",
      "Converged after 20 iterations\n",
      "Converged after 20 iterations\n",
      "Converged after 20 iterations\n",
      "Converged after 20 iterations\n",
      "Converged after 11 iterations\n",
      "Processing NWB file: /data/photometry/vary_b_bright/FIP_000055_2024-08-06_10-00-03/FIP_000055_2024-08-06_10-00-03.nwb\n",
      "Processing NWB file: /data/photometry/vary_b_inf/FIP_000013_2024-08-06_09-59-31/FIP_000013_2024-08-06_09-59-31.nwb\n",
      "Converged after 20 iterations\n"
     ]
    },
    {
     "name": "stderr",
     "output_type": "stream",
     "text": [
      "/root/capsule/code/utils/new_preprocess.py:96: RuntimeWarning: overflow encountered in exp\n",
      "  return a * np.exp(-b * x) + c * np.exp(-d * x)\n",
      "/root/capsule/code/utils/new_preprocess.py:96: RuntimeWarning: overflow encountered in multiply\n",
      "  return a * np.exp(-b * x) + c * np.exp(-d * x)\n",
      "/root/capsule/code/utils/new_preprocess.py:96: RuntimeWarning: overflow encountered in add\n",
      "  return a * np.exp(-b * x) + c * np.exp(-d * x)\n",
      "/root/capsule/code/utils/new_preprocess.py:96: RuntimeWarning: overflow encountered in exp\n",
      "  return a * np.exp(-b * x) + c * np.exp(-d * x)\n",
      "/root/capsule/code/utils/new_preprocess.py:96: RuntimeWarning: overflow encountered in multiply\n",
      "  return a * np.exp(-b * x) + c * np.exp(-d * x)\n",
      "/root/capsule/code/utils/new_preprocess.py:96: RuntimeWarning: overflow encountered in add\n",
      "  return a * np.exp(-b * x) + c * np.exp(-d * x)\n"
     ]
    },
    {
     "name": "stdout",
     "output_type": "stream",
     "text": [
      "Converged after 20 iterations\n",
      "Converged after 16 iterations\n",
      "Converged after 20 iterations\n",
      "Converged after 20 iterations\n",
      "Converged after 20 iterations\n"
     ]
    },
    {
     "name": "stderr",
     "output_type": "stream",
     "text": [
      "/opt/conda/lib/python3.10/site-packages/scipy/optimize/_numdiff.py:503: RuntimeWarning: invalid value encountered in subtract\n",
      "  dx = ((x0 + h) - x0)\n",
      "/opt/conda/lib/python3.10/site-packages/scipy/optimize/_numdiff.py:58: RuntimeWarning: invalid value encountered in subtract\n",
      "  upper_dist = ub - x0\n",
      "/opt/conda/lib/python3.10/site-packages/scipy/optimize/_numdiff.py:591: RuntimeWarning: invalid value encountered in scalar subtract\n",
      "  dx = x1[i] - x0[i]  # Recompute dx as exactly representable number.\n"
     ]
    },
    {
     "name": "stdout",
     "output_type": "stream",
     "text": [
      "Converged after 2 iterations\n",
      "Converged after 20 iterations\n",
      "Converged after 20 iterations\n"
     ]
    },
    {
     "name": "stderr",
     "output_type": "stream",
     "text": [
      "/opt/conda/lib/python3.10/site-packages/scipy/optimize/_numdiff.py:503: RuntimeWarning: invalid value encountered in subtract\n",
      "  dx = ((x0 + h) - x0)\n",
      "/opt/conda/lib/python3.10/site-packages/scipy/optimize/_numdiff.py:58: RuntimeWarning: invalid value encountered in subtract\n",
      "  upper_dist = ub - x0\n",
      "/opt/conda/lib/python3.10/site-packages/scipy/optimize/_numdiff.py:591: RuntimeWarning: invalid value encountered in scalar subtract\n",
      "  dx = x1[i] - x0[i]  # Recompute dx as exactly representable number.\n"
     ]
    },
    {
     "name": "stdout",
     "output_type": "stream",
     "text": [
      "Converged after 2 iterations\n"
     ]
    },
    {
     "name": "stderr",
     "output_type": "stream",
     "text": [
      "/opt/conda/lib/python3.10/site-packages/scipy/optimize/_numdiff.py:503: RuntimeWarning: invalid value encountered in subtract\n",
      "  dx = ((x0 + h) - x0)\n",
      "/opt/conda/lib/python3.10/site-packages/scipy/optimize/_numdiff.py:58: RuntimeWarning: invalid value encountered in subtract\n",
      "  upper_dist = ub - x0\n",
      "/opt/conda/lib/python3.10/site-packages/scipy/optimize/_numdiff.py:591: RuntimeWarning: invalid value encountered in scalar subtract\n",
      "  dx = x1[i] - x0[i]  # Recompute dx as exactly representable number.\n"
     ]
    },
    {
     "name": "stdout",
     "output_type": "stream",
     "text": [
      "Converged after 20 iterations\n",
      "Converged after 2 iterations\n",
      "Converged after 20 iterations\n",
      "Converged after 20 iterations\n",
      "Converged after 20 iterations\n",
      "Converged after 20 iterations\n",
      "Processing NWB file: /data/photometry/vary_attenuation/FIP_000125_2024-08-06_10-00-56/FIP_000125_2024-08-06_10-00-56.nwb\n",
      "Converged after 20 iterations\n",
      "Converged after 20 iterations\n",
      "Converged after 20 iterations\n",
      "Converged after 20 iterations\n",
      "Processing NWB file: /data/photometry/vary_decay/FIP_000154_2024-08-06_10-01-18/FIP_000154_2024-08-06_10-01-18.nwb\n",
      "Processing NWB file: /data/photometry/vary_noise_std/FIP_000103_2024-08-06_10-00-39/FIP_000103_2024-08-06_10-00-39.nwb\n",
      "Converged after 20 iterations\n",
      "Converged after 20 iterations\n",
      "Converged after 20 iterations\n",
      "Converged after 20 iterations\n",
      "Converged after 20 iterations\n",
      "Converged after 20 iterations\n",
      "Processing NWB file: /data/photometry/vary_t_bright/FIP_000084_2024-08-06_10-00-25/FIP_000084_2024-08-06_10-00-25.nwb\n",
      "Converged after 20 iterations\n",
      "Converged after 20 iterations\n",
      "Converged after 20 iterations\n",
      "Converged after 20 iterations\n",
      "Converged after 20 iterations\n",
      "Converged after 20 iterations\n",
      "Converged after 20 iterations\n",
      "Converged after 20 iterations\n",
      "Converged after 20 iterations\n"
     ]
    },
    {
     "name": "stderr",
     "output_type": "stream",
     "text": [
      "/opt/conda/lib/python3.10/site-packages/scipy/optimize/_numdiff.py:503: RuntimeWarning: invalid value encountered in subtract\n",
      "  dx = ((x0 + h) - x0)\n",
      "/opt/conda/lib/python3.10/site-packages/scipy/optimize/_numdiff.py:58: RuntimeWarning: invalid value encountered in subtract\n",
      "  upper_dist = ub - x0\n",
      "/opt/conda/lib/python3.10/site-packages/scipy/optimize/_numdiff.py:591: RuntimeWarning: invalid value encountered in scalar subtract\n",
      "  dx = x1[i] - x0[i]  # Recompute dx as exactly representable number.\n"
     ]
    },
    {
     "name": "stdout",
     "output_type": "stream",
     "text": [
      "Converged after 2 iterations\n",
      "Converged after 20 iterations\n",
      "Converged after 20 iterations\n",
      "Converged after 20 iterations\n",
      "Processing NWB file: /data/photometry/vary_t_fast/FIP_000070_2024-08-06_10-00-14/FIP_000070_2024-08-06_10-00-14.nwb\n"
     ]
    },
    {
     "name": "stderr",
     "output_type": "stream",
     "text": [
      "/opt/conda/lib/python3.10/site-packages/scipy/optimize/_numdiff.py:503: RuntimeWarning: invalid value encountered in subtract\n",
      "  dx = ((x0 + h) - x0)\n",
      "/opt/conda/lib/python3.10/site-packages/scipy/optimize/_numdiff.py:58: RuntimeWarning: invalid value encountered in subtract\n",
      "  upper_dist = ub - x0\n",
      "/opt/conda/lib/python3.10/site-packages/scipy/optimize/_numdiff.py:591: RuntimeWarning: invalid value encountered in scalar subtract\n",
      "  dx = x1[i] - x0[i]  # Recompute dx as exactly representable number.\n"
     ]
    },
    {
     "name": "stdout",
     "output_type": "stream",
     "text": [
      "Converged after 2 iterations\n",
      "Converged after 20 iterations\n",
      "Converged after 20 iterations\n",
      "Processing NWB file: /data/photometry/vary_t_slow/FIP_000056_2024-08-06_10-00-04/FIP_000056_2024-08-06_10-00-04.nwb\n"
     ]
    },
    {
     "name": "stderr",
     "output_type": "stream",
     "text": [
      "/root/capsule/code/utils/new_preprocess.py:96: RuntimeWarning: overflow encountered in exp\n",
      "  return a * np.exp(-b * x) + c * np.exp(-d * x)\n",
      "/root/capsule/code/utils/new_preprocess.py:96: RuntimeWarning: overflow encountered in multiply\n",
      "  return a * np.exp(-b * x) + c * np.exp(-d * x)\n",
      "/root/capsule/code/utils/new_preprocess.py:96: RuntimeWarning: overflow encountered in add\n",
      "  return a * np.exp(-b * x) + c * np.exp(-d * x)\n"
     ]
    },
    {
     "name": "stdout",
     "output_type": "stream",
     "text": [
      "Converged after 20 iterations\n"
     ]
    },
    {
     "name": "stderr",
     "output_type": "stream",
     "text": [
      "/root/capsule/code/utils/new_preprocess.py:96: RuntimeWarning: overflow encountered in exp\n",
      "  return a * np.exp(-b * x) + c * np.exp(-d * x)\n",
      "/root/capsule/code/utils/new_preprocess.py:96: RuntimeWarning: overflow encountered in multiply\n",
      "  return a * np.exp(-b * x) + c * np.exp(-d * x)\n",
      "/root/capsule/code/utils/new_preprocess.py:96: RuntimeWarning: overflow encountered in add\n",
      "  return a * np.exp(-b * x) + c * np.exp(-d * x)\n"
     ]
    },
    {
     "name": "stdout",
     "output_type": "stream",
     "text": [
      "Converged after 20 iterations\n",
      "Converged after 20 iterations\n",
      "Converged after 20 iterations\n",
      "Converged after 20 iterations\n",
      "Converged after 20 iterations\n",
      "Converged after 20 iterations\n",
      "Converged after 20 iterations\n",
      "Converged after 20 iterations\n",
      "Converged after 20 iterations\n",
      "Processing NWB file: /data/photometry/vary_t_bright/FIP_000085_2024-08-06_10-00-25/FIP_000085_2024-08-06_10-00-25.nwb\n",
      "Converged after 20 iterations\n",
      "Converged after 20 iterations\n",
      "Converged after 20 iterations\n",
      "Converged after 20 iterations\n",
      "Converged after 20 iterations\n",
      "Converged after 20 iterations\n",
      "Converged after 20 iterations\n",
      "Converged after 20 iterations\n",
      "Converged after 17 iterations\n",
      "Processing NWB file: /data/photometry/vary_noise_std/FIP_000104_2024-08-06_10-00-40/FIP_000104_2024-08-06_10-00-40.nwb\n",
      "Converged after 20 iterations\n",
      "Converged after 20 iterations\n",
      "Converged after 20 iterations\n",
      "Converged after 20 iterations\n",
      "Converged after 20 iterations\n",
      "Processing NWB file: /data/photometry/vary_decay/FIP_000155_2024-08-06_10-01-18/FIP_000155_2024-08-06_10-01-18.nwb\n",
      "Converged after 20 iterations\n",
      "Converged after 20 iterations\n",
      "Converged after 20 iterations\n",
      "Processing NWB file: /data/photometry/vary_motion_power/FIP_000132_2024-08-06_10-01-01/FIP_000132_2024-08-06_10-01-01.nwb\n"
     ]
    },
    {
     "name": "stderr",
     "output_type": "stream",
     "text": [
      "/root/capsule/code/utils/new_preprocess.py:96: RuntimeWarning: overflow encountered in exp\n",
      "  return a * np.exp(-b * x) + c * np.exp(-d * x)\n",
      "/root/capsule/code/utils/new_preprocess.py:96: RuntimeWarning: overflow encountered in multiply\n",
      "  return a * np.exp(-b * x) + c * np.exp(-d * x)\n",
      "/root/capsule/code/utils/new_preprocess.py:96: RuntimeWarning: overflow encountered in add\n",
      "  return a * np.exp(-b * x) + c * np.exp(-d * x)\n",
      "/root/capsule/code/utils/new_preprocess.py:96: RuntimeWarning: overflow encountered in exp\n",
      "  return a * np.exp(-b * x) + c * np.exp(-d * x)\n",
      "/root/capsule/code/utils/new_preprocess.py:96: RuntimeWarning: overflow encountered in multiply\n",
      "  return a * np.exp(-b * x) + c * np.exp(-d * x)\n",
      "/root/capsule/code/utils/new_preprocess.py:96: RuntimeWarning: overflow encountered in add\n",
      "  return a * np.exp(-b * x) + c * np.exp(-d * x)\n"
     ]
    },
    {
     "name": "stdout",
     "output_type": "stream",
     "text": [
      "Converged after 20 iterations\n",
      "Converged after 20 iterations\n",
      "Processing NWB file: /data/photometry/vary_t_slow/FIP_000057_2024-08-06_10-00-04/FIP_000057_2024-08-06_10-00-04.nwb\n",
      "Converged after 20 iterations\n"
     ]
    },
    {
     "name": "stderr",
     "output_type": "stream",
     "text": [
      "/root/capsule/code/utils/new_preprocess.py:96: RuntimeWarning: overflow encountered in exp\n",
      "  return a * np.exp(-b * x) + c * np.exp(-d * x)\n",
      "/root/capsule/code/utils/new_preprocess.py:96: RuntimeWarning: overflow encountered in multiply\n",
      "  return a * np.exp(-b * x) + c * np.exp(-d * x)\n",
      "/root/capsule/code/utils/new_preprocess.py:96: RuntimeWarning: overflow encountered in add\n",
      "  return a * np.exp(-b * x) + c * np.exp(-d * x)\n"
     ]
    },
    {
     "name": "stdout",
     "output_type": "stream",
     "text": [
      "Converged after 20 iterations\n",
      "Converged after 20 iterations\n",
      "Converged after 20 iterations\n",
      "Converged after 20 iterations\n",
      "Converged after 20 iterations\n",
      "Converged after 20 iterations\n",
      "Converged after 20 iterations\n",
      "Converged after 20 iterations\n",
      "Converged after 20 iterationsConverged after 20 iterations\n",
      "\n",
      "Processing NWB file: /data/photometry/vary_t_bright/FIP_000086_2024-08-06_10-00-26/FIP_000086_2024-08-06_10-00-26.nwb\n",
      "Converged after 20 iterations\n"
     ]
    },
    {
     "name": "stderr",
     "output_type": "stream",
     "text": [
      "/root/capsule/code/utils/new_preprocess.py:96: RuntimeWarning: overflow encountered in exp\n",
      "  return a * np.exp(-b * x) + c * np.exp(-d * x)\n",
      "/root/capsule/code/utils/new_preprocess.py:96: RuntimeWarning: overflow encountered in multiply\n",
      "  return a * np.exp(-b * x) + c * np.exp(-d * x)\n",
      "/root/capsule/code/utils/new_preprocess.py:96: RuntimeWarning: overflow encountered in add\n",
      "  return a * np.exp(-b * x) + c * np.exp(-d * x)\n",
      "/root/capsule/code/utils/new_preprocess.py:96: RuntimeWarning: overflow encountered in exp\n",
      "  return a * np.exp(-b * x) + c * np.exp(-d * x)\n",
      "/root/capsule/code/utils/new_preprocess.py:96: RuntimeWarning: overflow encountered in multiply\n",
      "  return a * np.exp(-b * x) + c * np.exp(-d * x)\n",
      "/root/capsule/code/utils/new_preprocess.py:96: RuntimeWarning: overflow encountered in add\n",
      "  return a * np.exp(-b * x) + c * np.exp(-d * x)\n"
     ]
    },
    {
     "name": "stdout",
     "output_type": "stream",
     "text": [
      "Converged after 20 iterations\n",
      "Converged after 20 iterations\n",
      "Converged after 20 iterations\n",
      "Converged after 20 iterations\n",
      "Converged after 20 iterations\n"
     ]
    },
    {
     "name": "stderr",
     "output_type": "stream",
     "text": [
      "/opt/conda/lib/python3.10/site-packages/scipy/optimize/_numdiff.py:503: RuntimeWarning: invalid value encountered in subtract\n",
      "  dx = ((x0 + h) - x0)\n",
      "/opt/conda/lib/python3.10/site-packages/scipy/optimize/_numdiff.py:58: RuntimeWarning: invalid value encountered in subtract\n",
      "  upper_dist = ub - x0\n",
      "/opt/conda/lib/python3.10/site-packages/scipy/optimize/_numdiff.py:591: RuntimeWarning: invalid value encountered in scalar subtract\n",
      "  dx = x1[i] - x0[i]  # Recompute dx as exactly representable number.\n"
     ]
    },
    {
     "name": "stdout",
     "output_type": "stream",
     "text": [
      "Converged after 2 iterations\n",
      "Converged after 20 iterations\n",
      "Converged after 20 iterations\n",
      "Converged after 20 iterations\n",
      "Processing NWB file: /data/photometry/vary_t_fast/FIP_000071_2024-08-06_10-00-15/FIP_000071_2024-08-06_10-00-15.nwb\n",
      "Converged after 20 iterations\n",
      "Processing NWB file: /data/photometry/vary_motion_power/FIP_000133_2024-08-06_10-01-02/FIP_000133_2024-08-06_10-01-02.nwb\n",
      "Converged after 20 iterations\n",
      "Converged after 20 iterations\n"
     ]
    },
    {
     "name": "stderr",
     "output_type": "stream",
     "text": [
      "/root/capsule/code/utils/new_preprocess.py:96: RuntimeWarning: overflow encountered in exp\n",
      "  return a * np.exp(-b * x) + c * np.exp(-d * x)\n",
      "/root/capsule/code/utils/new_preprocess.py:96: RuntimeWarning: overflow encountered in multiply\n",
      "  return a * np.exp(-b * x) + c * np.exp(-d * x)\n",
      "/root/capsule/code/utils/new_preprocess.py:96: RuntimeWarning: overflow encountered in add\n",
      "  return a * np.exp(-b * x) + c * np.exp(-d * x)\n"
     ]
    },
    {
     "name": "stdout",
     "output_type": "stream",
     "text": [
      "Converged after 20 iterations\n",
      "Converged after 20 iterations\n",
      "Converged after 20 iterations\n",
      "Converged after 20 iterations\n",
      "Converged after 20 iterations\n"
     ]
    },
    {
     "name": "stderr",
     "output_type": "stream",
     "text": [
      "/opt/conda/lib/python3.10/site-packages/scipy/optimize/_numdiff.py:503: RuntimeWarning: invalid value encountered in subtract\n",
      "  dx = ((x0 + h) - x0)\n",
      "/opt/conda/lib/python3.10/site-packages/scipy/optimize/_numdiff.py:58: RuntimeWarning: invalid value encountered in subtract\n",
      "  upper_dist = ub - x0\n",
      "/opt/conda/lib/python3.10/site-packages/scipy/optimize/_numdiff.py:591: RuntimeWarning: invalid value encountered in scalar subtract\n",
      "  dx = x1[i] - x0[i]  # Recompute dx as exactly representable number.\n"
     ]
    },
    {
     "name": "stdout",
     "output_type": "stream",
     "text": [
      "Converged after 2 iterations\n",
      "Converged after 20 iterations\n",
      "Converged after 20 iterations\n"
     ]
    }
   ],
   "source": [
    "%%time\n",
    "# %%capture\n",
    "results = Pool(int(os.environ['CO_CPUS'])).map(evaluate, parents)"
   ]
  },
  {
   "cell_type": "code",
   "execution_count": null,
   "id": "6f84472b-6377-4eae-93ef-af3b373cf889",
   "metadata": {
    "tags": []
   },
   "outputs": [],
   "source": [
    "# Save to a pickle file\n",
    "with open('comparison5.pkl', 'wb') as f:\n",
    "    pickle.dump(results, f)"
   ]
  },
  {
   "cell_type": "code",
   "execution_count": null,
   "id": "98a90c9e-9b2e-4266-a098-106186b01042",
   "metadata": {
    "tags": []
   },
   "outputs": [],
   "source": [
    "rows = len(results)\n",
    "fig = plt.figure(layout=\"constrained\", figsize=(12,2.5*rows))\n",
    "subfigs = fig.subfigures(rows, 3, wspace=0.05)\n",
    "for row in range(rows):\n",
    "    params, perf = results[row]\n",
    "    vary = parents[row].split('/')[-1][5:]\n",
    "    for col in range(3):\n",
    "        ax0, ax1 = subfigs[row, col].subplots(1, 2, width_ratios=[4, 1], sharey=True)\n",
    "        for k in range(len(perf[0])):\n",
    "            ax0.scatter(params[...,0].ravel(), perf[:,k,col,:,0].ravel(), c=f'C{k}', s=50, marker='+')\n",
    "            ax0.scatter(params[...,1].ravel(), perf[:,k,col,:,1].ravel(), c=f'C{k}', s=20, marker='o')\n",
    "            ax0.scatter(params[...,2].ravel(), perf[:,k,col,:,2].ravel(), c=f'C{k}', s=50, marker='x')\n",
    "            ax1.boxplot(perf[:,k,col].ravel(),\n",
    "                        positions=[k], widths=.7, showmeans=True, notch=True,\n",
    "                        boxprops=dict(color=f'C{k}'), flierprops=dict(markeredgecolor=f'C{k}'),\n",
    "                        meanprops=dict(markerfacecolor=f'C{k}', markeredgecolor=f'C{k}', markersize=3))\n",
    "            ax1.set_xticks([])\n",
    "        if col+row==0:\n",
    "            ax0.legend(handles=[Patch(color='C0', label='poly'),\n",
    "                                Patch(color='C1', label='exp'),\n",
    "                                Patch(color='C2', label='bright'),\n",
    "                                Line2D([], [], color='k', markersize=7, marker='+', linestyle='None', label='Isosbestic'),\n",
    "                                Line2D([], [], color='k', markersize=4, marker='o', linestyle='None', label='Green'),\n",
    "                                Line2D([], [], color='k', markersize=7, marker='x', linestyle='None', label='Red')],\n",
    "                      loc=(-.2,.4))\n",
    "        ax0.set_xlabel(vary)\n",
    "        ax0.set_ylabel(['RMSE', 'bias', 'std'][col])\n",
    "        if row==0:\n",
    "            ax0.set_title('dF/F')"
   ]
  },
  {
   "cell_type": "code",
   "execution_count": null,
   "id": "ee98d27a-713d-45bb-8e7d-0ed03b7aff98",
   "metadata": {},
   "outputs": [],
   "source": []
  },
  {
   "cell_type": "code",
   "execution_count": null,
   "id": "c7a3e781-2e95-4018-bfcf-fc6e5c3255c2",
   "metadata": {},
   "outputs": [],
   "source": []
  },
  {
   "cell_type": "code",
   "execution_count": 10,
   "id": "10df66a0-0346-43fd-8b6d-82473540605c",
   "metadata": {},
   "outputs": [
    {
     "name": "stdout",
     "output_type": "stream",
     "text": [
      "[0.01165849 0.01565475 0.00903013]\n",
      "[12.06533871 16.42508929  9.32073588]\n"
     ]
    }
   ],
   "source": [
    "# RMSE for each method over all simulations\n",
    "print(np.mean([[results[row][1][:,m,0].mean() for m in (0,1,2)] for row in range(rows)], 0))\n",
    "print(np.sum([[results[row][1][:,m,0].sum() for m in (0,1,2)] for row in range(rows)], 0))"
   ]
  },
  {
   "cell_type": "code",
   "execution_count": null,
   "id": "54016d44-6272-4b3e-a4e6-595c298aa2d0",
   "metadata": {},
   "outputs": [],
   "source": [
    "# HuberT(0.25)\n",
    "[0.01165849 0.01565475 0.00903013]\n",
    "[12.06533871 16.42508929  9.32073588]\n",
    "# median values for all\n",
    "[0.01165849 0.01565475 0.009519  ]\n",
    "[12.06533871 16.42508929  9.81912743]\n",
    "# median values with optim t_fast\n",
    "[0.01165849 0.01565475 0.00961004]\n",
    "[12.06533871 16.42508929  9.90852152]\n",
    "# old\n",
    "[0.01165849 0.01565475 0.00972095]\n",
    "[12.06533871 16.42508929 10.03289963]"
   ]
  },
  {
   "cell_type": "code",
   "execution_count": 25,
   "id": "6b8f76fc-4e9d-4682-babd-95af40fb8a74",
   "metadata": {
    "tags": []
   },
   "outputs": [
    {
     "name": "stdout",
     "output_type": "stream",
     "text": [
      "a_max 0.0559529356349044\n",
      "a_power 0.9676361102731483\n",
      "attenuation 0.990376054752377\n",
      "b_bright 0.2588575845115088\n",
      "b_fast 0.20126156478658955\n",
      "b_inf 1124.1582304257604\n",
      "b_slow 0.37137221696565875\n",
      "corr_s 0.14418202106487135\n",
      "decay 0.9531218852674423\n",
      "motion_power 2.086924324699142\n",
      "noise_std 0.0038102636392726\n",
      "t_bright 2073.122248162862\n",
      "t_fast 220.42119205670485\n",
      "t_slow 3712.1658291263648\n"
     ]
    }
   ],
   "source": [
    "for parent in parents:\n",
    "    vary = parent.split('/')[-1][5:]\n",
    "    qq=[np.array(pd.read_csv(Path(nwb_file).parent / \"parameters.csv\", delimiter=\",\", index_col=0)[vary])\n",
    "          for nwb_file in sorted(glob.glob(f\"{parent}/*/*.nwb\"))]\n",
    "    print(vary, np.nanmedian(qq))"
   ]
  },
  {
   "cell_type": "code",
   "execution_count": null,
   "id": "abfc956b-d238-44ea-b4dc-d2886b031907",
   "metadata": {},
   "outputs": [],
   "source": []
  }
 ],
 "metadata": {
  "kernelspec": {
   "display_name": "Python 3 (ipykernel)",
   "language": "python",
   "name": "python3"
  },
  "language_info": {
   "codemirror_mode": {
    "name": "ipython",
    "version": 3
   },
   "file_extension": ".py",
   "mimetype": "text/x-python",
   "name": "python",
   "nbconvert_exporter": "python",
   "pygments_lexer": "ipython3",
   "version": "3.10.12"
  }
 },
 "nbformat": 4,
 "nbformat_minor": 5
}
